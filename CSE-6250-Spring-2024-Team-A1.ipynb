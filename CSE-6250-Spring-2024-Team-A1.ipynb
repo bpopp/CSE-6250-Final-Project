{
 "cells": [
  {
   "cell_type": "markdown",
   "source": [
    "# GT CSE 6250 Spring Project\n",
    "\n",
    "Team A1\n",
    "\n",
    "Brian Popp, bpopp7@gatech.edu\n",
    "Danielle Velott, dvellot3@gatech.edu"
   ],
   "metadata": {
    "collapsed": false
   },
   "id": "3b8d7206d0ccea89"
  },
  {
   "cell_type": "markdown",
   "source": [
    "## Checklist for Draft due April 1\n",
    "* Must run on Google collab\n",
    "* Less than 8 minute run time (may need to reduce size of data)\n",
    "* Additional code, outside notebook, can be referenced\n",
    "* Include a README.txt or README.md\n",
    "* Remove this section\n",
    "* Submit PDF with:\n",
    " \t* Team ID, members anmes, reproduced paper title\n",
    " \t* Links to notebook, extra codebase (git), README\n",
    " \t* Extra comments, figures, pictures, equations or notations\n",
    " \t* Submit to gradescope as team\n",
    "## Checklist for Final due April 22 (report + presentation)\n",
    "* later..  "
   ],
   "metadata": {
    "collapsed": false
   },
   "id": "a5b80adc293badbe"
  },
  {
   "cell_type": "markdown",
   "source": [
    "## Introduction\n",
    "<pre>A clear, high-level description of what the original\n",
    "paper is about and what is the contribution of it.</pre>"
   ],
   "metadata": {
    "collapsed": false
   },
   "id": "c1768c66520bb07f"
  },
  {
   "cell_type": "code",
   "outputs": [],
   "source": [],
   "metadata": {
    "collapsed": false,
    "ExecuteTime": {
     "end_time": "2024-03-14T00:07:35.734501700Z",
     "start_time": "2024-03-14T00:07:35.723483900Z"
    }
   },
   "id": "924543a064f058cc",
   "execution_count": 0
  },
  {
   "cell_type": "markdown",
   "source": [
    "## Scope of Reproducibility\n",
    "<pre>Lists of all hypotheses from the paper you will test\n",
    "and corresponding experiments you will run.</pre>"
   ],
   "metadata": {
    "collapsed": false
   },
   "id": "58136241dd2f764a"
  },
  {
   "cell_type": "code",
   "outputs": [],
   "source": [],
   "metadata": {
    "collapsed": false,
    "ExecuteTime": {
     "end_time": "2024-03-14T00:07:50.491988800Z",
     "start_time": "2024-03-14T00:07:50.481980500Z"
    }
   },
   "id": "4be32923610b5f81",
   "execution_count": 0
  },
  {
   "cell_type": "markdown",
   "source": [
    "## Methodology"
   ],
   "metadata": {
    "collapsed": false
   },
   "id": "ce851c61e2993fcd"
  },
  {
   "cell_type": "markdown",
   "source": [
    "### Data\n",
    "<pre>* Source of the data: where the data is collected\n",
    "from provide the link if possible; if data is\n",
    "synthetic or self-generated, explain how.\n",
    "∗ Statistics: dataset size, cross validation split,\n",
    "label distribution, etc\n",
    "∗ How do you use the data: change the class\n",
    "labels, split the dataset to train/valid/test,\n",
    "refining the dataset</pre>"
   ],
   "metadata": {
    "collapsed": false
   },
   "id": "1675e1181b933863"
  },
  {
   "cell_type": "code",
   "outputs": [],
   "source": [],
   "metadata": {
    "collapsed": false,
    "ExecuteTime": {
     "end_time": "2024-03-14T00:10:28.497763100Z",
     "start_time": "2024-03-14T00:10:28.493770Z"
    }
   },
   "id": "b4215072bf16b266",
   "execution_count": null
  },
  {
   "cell_type": "markdown",
   "source": [
    "### Model\n",
    "<pre>* Model architecture: layer number/size/type,\n",
    "activation function, etc\n",
    "∗ Training objectives: loss function, optimizer,\n",
    "weight of each loss term, etc\n",
    "∗ Others: whether the model is pretrained, Monte\n",
    "Carlo simulation for uncertainty analysis, etc</pre>"
   ],
   "metadata": {
    "collapsed": false
   },
   "id": "eee8a68fad749c7b"
  },
  {
   "cell_type": "code",
   "outputs": [],
   "source": [],
   "metadata": {
    "collapsed": false,
    "ExecuteTime": {
     "end_time": "2024-03-14T00:08:18.251533900Z",
     "start_time": "2024-03-14T00:08:18.240007900Z"
    }
   },
   "id": "5aa2108bcc87ea66",
   "execution_count": 0
  },
  {
   "cell_type": "markdown",
   "source": [
    "## Results\n",
    "<pre>only preliminary results are required for Draft.\n",
    "You can just provide one evaluation metric of\n",
    "your developed model without any hyper-parameter\n",
    "tuning. You even don’t need to run all epochs on\n",
    "the full dataset, instead, show grader that your code\n",
    "could work.</pre>"
   ],
   "metadata": {
    "collapsed": false
   },
   "id": "4b6d917c525fde12"
  },
  {
   "cell_type": "code",
   "outputs": [],
   "source": [],
   "metadata": {
    "collapsed": false,
    "ExecuteTime": {
     "end_time": "2024-03-14T00:08:31.554976200Z",
     "start_time": "2024-03-14T00:08:31.543975900Z"
    }
   },
   "id": "66861beb98850401",
   "execution_count": 0
  },
  {
   "cell_type": "markdown",
   "source": [
    "## Discussion\n",
    "<pre>discuss your current results and propose the\n",
    "continued optimization plan.</pre>"
   ],
   "metadata": {
    "collapsed": false
   },
   "id": "57f9227dc23d648c"
  },
  {
   "cell_type": "code",
   "outputs": [],
   "source": [],
   "metadata": {
    "collapsed": false,
    "ExecuteTime": {
     "end_time": "2024-03-14T00:08:39.788315300Z",
     "start_time": "2024-03-14T00:08:39.779313400Z"
    }
   },
   "id": "53e7f529e64c05b",
   "execution_count": 0
  },
  {
   "cell_type": "markdown",
   "source": [
    "## References\n",
    "<pre>add references to the paper you reproduce and the\n",
    "model you use (LSTM, CNN, Transformer...).</pre>"
   ],
   "metadata": {
    "collapsed": false
   },
   "id": "cc7f120b28ea3de0"
  },
  {
   "cell_type": "code",
   "outputs": [],
   "source": [],
   "metadata": {
    "collapsed": false
   },
   "id": "734bb776ccba7e3e"
  }
 ],
 "metadata": {
  "kernelspec": {
   "display_name": "Python 3",
   "language": "python",
   "name": "python3"
  },
  "language_info": {
   "codemirror_mode": {
    "name": "ipython",
    "version": 2
   },
   "file_extension": ".py",
   "mimetype": "text/x-python",
   "name": "python",
   "nbconvert_exporter": "python",
   "pygments_lexer": "ipython2",
   "version": "2.7.6"
  }
 },
 "nbformat": 4,
 "nbformat_minor": 5
}
