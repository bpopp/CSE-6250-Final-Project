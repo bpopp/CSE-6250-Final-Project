{
 "cells": [
  {
   "cell_type": "markdown",
   "source": [
    "# Original Source Code\n",
    "\n",
    "This notebook attempts to recreate the study's source code as closely as possible in order to analyze and validate \n",
    "that our results are comparable. The only changes were made to make the code run on modern Python and in a way that is\n",
    "conducive to being run in a notebook."
   ],
   "metadata": {
    "collapsed": false
   },
   "id": "318345dcf576fbc9"
  },
  {
   "cell_type": "markdown",
   "source": [
    "**GT CSE 6250 Spring Project**\n",
    "Team A1: Brian Popp, bpopp7@gatech.edu, Danielle Velott, dvellot3@gatech.edu\n"
   ],
   "metadata": {
    "collapsed": false
   },
   "id": "1a8198052b037c2"
  },
  {
   "cell_type": "code",
   "outputs": [],
   "source": [
    "# Original Authors: Manas Gaur, Amanuel Alambo, Joy Sain, Ugur Kursuncu, \n",
    "# Krishnaprasad Thirunarayan, Ramakanth Kavuluru,\n",
    "# Amit Sheth, Randy Welton, Jyotishman Pathak\n",
    "\n",
    "import os\n",
    "import csv\n",
    "import string\n",
    "\n",
    "import pandas as pd\n",
    "import numpy as np\n",
    "from nltk import word_tokenize\n",
    "from gensim.test.utils import common_texts\n",
    "from gensim.models import KeyedVectors, Word2Vec\n",
    "from keras.utils import to_categorical\n",
    "import datetime, time\n",
    "from keras.models import Sequential, Model\n",
    "from keras.layers import Dense, Dropout, Flatten, Activation, Input, MaxPool2D\n",
    "from keras.layers import Conv2D, GlobalAveragePooling1D, MaxPooling2D\n",
    "from keras.layers import Concatenate\n",
    "from keras.optimizers import Adam\n",
    "from sklearn.metrics import classification_report, confusion_matrix, ConfusionMatrixDisplay\n",
    "from sklearn.model_selection import StratifiedKFold, train_test_split\n",
    "import matplotlib.pyplot as plt\n"
   ],
   "metadata": {
    "collapsed": false,
    "ExecuteTime": {
     "end_time": "2024-03-25T23:21:15.224029400Z",
     "start_time": "2024-03-25T23:21:13.903883300Z"
    }
   },
   "id": "9b4b44919cf1028e",
   "execution_count": 49
  },
  {
   "cell_type": "code",
   "outputs": [
    {
     "name": "stdout",
     "output_type": "stream",
     "text": [
      "\n",
      "System Parameters:  {'emb_dim': 300, 'max_sent_len': 1500, 'str_padd': '@PADD', 'cross_val': 2}\n",
      "\n",
      "CNN Parameters:  {'no_filters': 100, 'kernels': [3, 4, 5], 'channel': 1, 'c_stride': (1, 300), 'pad': 'same', 'ip_shape': (1500, 300, 1), 'c_activ': 'relu', 'drop_rate': 0.3, 'dense_1_unit': 128, 'dense_2_unit': 128, 'dense_activ': 'relu', 'op_unit': 5, 'op_activ': 'softmax', 'l_rate': 0.001, 'loss': 'categorical_crossentropy', 'batch': 4, 'epoch': 10, 'verbose': 1}\n"
     ]
    }
   ],
   "source": [
    "\n",
    "punctuations = list(string.punctuation)\n",
    "\n",
    "ip_txt_file = './data/500_Reddit_users_posts_labels.csv'  # CSV file: \"User\", \"Post\", \"Label\"\n",
    "ip_feat_file = './data/External_Features.csv'             # CSV file: \"User\", \"Features\"\n",
    "\n",
    "## adding a limit of 20-50,000 will significantly speed up word2vec building, but will decrease accuracy\n",
    "w2v_file = {'file': './out/numberbatch-en-19.08.txt.gz', 'is_binary': False, 'limit': None}\n",
    "\n",
    "op_file = './out/Result_5-Label_Classification.tsv'\n",
    "\n",
    "severity_classes = {'Supportive': 0, 'Indicator': 1, 'Ideation': 2, 'Behavior': 3, 'Attempt': 4}\n",
    "\n",
    "sys_params = {'emb_dim': 300,\n",
    "              'max_sent_len': 1500,\n",
    "              'str_padd': '@PADD',\n",
    "              'cross_val': 2}\n",
    "\n",
    "cnn_params = {'no_filters': 100,\n",
    "              'kernels': [3, 4, 5],\n",
    "              'channel': 1,\n",
    "              'c_stride': (1, sys_params['emb_dim']),\n",
    "              'pad': 'same',\n",
    "              'ip_shape': (sys_params['max_sent_len'], sys_params['emb_dim'], 1),\n",
    "              'c_activ': 'relu',\n",
    "              'drop_rate': 0.3,\n",
    "              'dense_1_unit': 128,\n",
    "              'dense_2_unit': 128,\n",
    "              'dense_activ': 'relu',\n",
    "              'op_unit': 5,             # 5-Label classification\n",
    "              'op_activ': 'softmax',\n",
    "              'l_rate': 0.001,\n",
    "              'loss': 'categorical_crossentropy',\n",
    "              'batch': 4,\n",
    "              'epoch': 10,\n",
    "              'verbose': 1}\n",
    "\n",
    "intermediate_layer = 'flat_drop'    # for extracting features from CNN\n",
    "\n",
    "print ('\\nSystem Parameters: ', sys_params)\n",
    "print ('\\nCNN Parameters: ', cnn_params)"
   ],
   "metadata": {
    "collapsed": false,
    "ExecuteTime": {
     "end_time": "2024-03-25T23:07:25.105420100Z",
     "start_time": "2024-03-25T23:07:25.064892300Z"
    }
   },
   "id": "69ce18ea4e6e589d",
   "execution_count": 46
  },
  {
   "cell_type": "code",
   "outputs": [],
   "source": [
    "\n",
    "# Read the input CSV file\n",
    "def read_ip_file(ip_file):\n",
    "\n",
    "    padd = sys_params['str_padd']\n",
    "    max_len = sys_params['max_sent_len']\n",
    "\n",
    "    x_data, y_data = [], []\n",
    "\n",
    "    if ip_file:\n",
    "        with open(ip_file) as csv_file:\n",
    "\n",
    "            # Exclude the first line (header)\n",
    "            next(csv_file)\n",
    "            csv_reader = csv.reader(csv_file, delimiter=',')\n",
    "\n",
    "            # Loop through each line\n",
    "            for row in csv_reader:\n",
    "\n",
    "                sent = row[1].lower()\n",
    "\n",
    "                # Remove non-ascii characters\n",
    "                printable = set(string.printable)\n",
    "                sent = \"\".join(filter(lambda x: x in printable, sent))\n",
    "\n",
    "                # Remove punctuation\n",
    "                # (if item not in punctuations) needed?\n",
    "                lst_tokens = [item.strip(\"\".join(punctuations)) for item in word_tokenize(sent)]\n",
    "\n",
    "                # Strip the sentence if it exceeds the max length\n",
    "                if len(lst_tokens) > max_len:\n",
    "                    lst_tokens = lst_tokens[:max_len]\n",
    "\n",
    "                # Padd the sentence if the length is less than max length\n",
    "                elif len(lst_tokens) < max_len:\n",
    "                    for j in range(len(lst_tokens), max_len):\n",
    "                        lst_tokens.append(padd)\n",
    "\n",
    "                y_data.append(severity_classes[row[2].strip()])\n",
    "                x_data.append(lst_tokens)\n",
    "\n",
    "    return x_data, y_data\n",
    "\n",
    "# Vectorize the input data using pretrained word2vec embedding lookup\n",
    "def vectorize_data(lst_input):\n",
    "    print ('Vectorizing data.')\n",
    "    padd = sys_params['str_padd']\n",
    "    wv_size = sys_params['emb_dim']\n",
    "\n",
    "    # Load the pre-trained word2vec model\n",
    "    if os.path.isfile ( './out/vectors.kv' ):\n",
    "        w2v_model = KeyedVectors.load('./out/vectors.kv')\n",
    "    else:\n",
    "        w2v_model = KeyedVectors.load_word2vec_format(w2v_file['file'], binary=w2v_file['is_binary'], limit=w2v_file['limit'])\n",
    "        w2v_model.save( './out/vectors.kv' )\n",
    "\n",
    "    # Get the word2vec vocabulary\n",
    "    vocab = w2v_model.key_to_index\n",
    "    #\n",
    "    padding_zeros = np.zeros(wv_size, dtype=np.float32)\n",
    "\n",
    "    x_data = []\n",
    "\n",
    "    # Loop through each sentence\n",
    "    for sent in lst_input:\n",
    "        emb = []\n",
    "        for tok in sent:\n",
    "\n",
    "            # Zero-padding for padded tokens\n",
    "            if tok == padd:\n",
    "                emb.append(list(padding_zeros))\n",
    "\n",
    "            # Get the token embedding from the word2vec model\n",
    "            elif tok in vocab:\n",
    "                emb.append(w2v_model[tok].astype(float).tolist())\n",
    "\n",
    "            # Zero-padding for out-of-vocab tokens\n",
    "            else:\n",
    "                emb.append(list(padding_zeros))\n",
    "\n",
    "        x_data.append(emb)\n",
    "\n",
    "    del w2v_model, vocab\n",
    "\n",
    "    return np.array(x_data)\n",
    "\n",
    "# Read additional external features\n",
    "def read_external_features(input_file, feature_file):\n",
    "\n",
    "    lst_users = []\n",
    "    feature_dim = 16\n",
    "\n",
    "    # Read the user_ids from the input file [\"User\", \"Post\", \"Label\"]\n",
    "    with open(input_file) as f:\n",
    "        for line in f:\n",
    "            split = line.strip().split('\\t')\n",
    "            lst_users.append(split[0])\n",
    "\n",
    "    features = []\n",
    "    dct_user_featurs = {}\n",
    "\n",
    "    with open(feature_file) as csv_file:\n",
    "        # Exclude the header ['User', feature_scores ...]\n",
    "        next(csv_file)\n",
    "\n",
    "        # Read the CSV feature file\n",
    "        csv_reader = csv.reader(csv_file, delimiter=',')\n",
    "\n",
    "        # Loop through each row\n",
    "        for row in csv_reader:\n",
    "            # Start reading from 1-st value as 0-th value is \"User\"\n",
    "            # convert the feature score into float\n",
    "            scores = [float(val) for val in row[1:]]\n",
    "\n",
    "            # Dictionary that maps: \"User\" --> \"Feature\"\n",
    "            dct_user_featurs[row[0]] = scores\n",
    "\n",
    "    # Read the features for user in the same sequence as in the input file\n",
    "    # and add it to a list so that it can be merged easily the CNN generated features in the same sequence\n",
    "    for user in lst_users:\n",
    "        # If we have the features for the user then add it to the list\n",
    "        if user in dct_user_featurs.keys():\n",
    "            features.append(dct_user_featurs[user])\n",
    "\n",
    "        # If we don't have features generated for a user, then add zeros\n",
    "        else:\n",
    "            features.append(list(np.zeros(feature_dim)))\n",
    "\n",
    "    return np.array(features)"
   ],
   "metadata": {
    "collapsed": false,
    "ExecuteTime": {
     "end_time": "2024-03-25T19:50:17.715857700Z",
     "start_time": "2024-03-25T19:50:17.708696700Z"
    }
   },
   "id": "d199103937689655",
   "execution_count": 15
  },
  {
   "cell_type": "code",
   "outputs": [],
   "source": [
    "\n",
    "# Returns the CNN model\n",
    "def get_cnn_model():\n",
    "    seq_len = sys_params['max_sent_len']\n",
    "    emb_dim = sys_params['emb_dim']\n",
    "\n",
    "    l_ip = Input(shape=(seq_len, emb_dim, 1), dtype='float32')\n",
    "    lst_convfeat = []\n",
    "    for filter in cnn_params['kernels']:\n",
    "        l_conv = Conv2D(filters=cnn_params['no_filters'], kernel_size=(filter, emb_dim), strides=cnn_params['c_stride'],\n",
    "                        padding=cnn_params['pad'], data_format='channels_last', input_shape=cnn_params['ip_shape'],\n",
    "                        activation=cnn_params['c_activ'])(l_ip)\n",
    "        l_pool = MaxPool2D(pool_size=(seq_len, 1))(l_conv)\n",
    "        lst_convfeat.append(l_pool)\n",
    "\n",
    "    l_concat = Concatenate(axis=1)(lst_convfeat)\n",
    "    l_flat = Flatten()(l_concat)\n",
    "    l_drop = Dropout(rate=cnn_params['drop_rate'], name='flat_drop')(l_flat)\n",
    "\n",
    "    # l_dense1 = Dense(units=cnn_params['dense_1_unit'], activation=cnn_params['dense_activ'], name='dense_1')(l_flat)\n",
    "    # l_drop2 = Dropout(rate=cnn_params['drop_rate'])(l_dense1)\n",
    "\n",
    "    # l_dense2 = Dense(units=cnn_params['dense_2_unit'], activation=cnn_params['dense_activ'], name='dense_2')(l_drop2)\n",
    "\n",
    "    l_op = Dense(units=cnn_params['op_unit'], activation=cnn_params['op_activ'], name='cnn_op')(l_drop)\n",
    "\n",
    "    final_model = Model(l_ip, l_op)\n",
    "    final_model.compile(optimizer=Adam(learning_rate=cnn_params['l_rate']), loss=cnn_params['loss'], metrics=['accuracy'])    # 'categorical_crossentropy'\n",
    "\n",
    "    return final_model\n",
    "\n",
    "# Returns a MLP model for final classification\n",
    "def get_mlp_model(ip_dim):\n",
    "\n",
    "    mlp_model = Sequential()\n",
    "\n",
    "    mlp_model.add(Dense(units=cnn_params['op_unit'], activation=cnn_params['op_activ'], name='classif_op',\n",
    "                            input_dim=ip_dim))\n",
    "    mlp_model.compile(optimizer=Adam(learning_rate=cnn_params['l_rate']), loss=cnn_params['loss'],\n",
    "                          metrics=['accuracy'])\n",
    "    return mlp_model\n",
    "\n",
    "# Compute Precision, Recall, and F1-score\n",
    "def get_prf1_score(y_true, y_pred):\n",
    "    tp, fp, fn = 0.0, 0.0, 0.0\n",
    "    for i in range(len(y_pred)):\n",
    "        if y_pred[i] == y_true[i]:\n",
    "            tp += 1\n",
    "        elif y_pred[i] > y_true[i]:\n",
    "            fp += 1\n",
    "        else:\n",
    "            fn += 1\n",
    "    if tp == 0:\n",
    "        tp = 1.0\n",
    "    if fp == 0:\n",
    "        fp = 1.0\n",
    "    if fn == 0:\n",
    "        fn  = 1.0\n",
    "    P = tp / (tp + fp)\n",
    "    R = tp / (tp + fn)\n",
    "    F = 2 * P * R / (P + R)\n",
    "    print ('\\nPrecision: {0}\\t Recall: {1}\\t F1-Score: {2}'.format(P, R, F))\n",
    "    return {'P': P, 'R': R, 'F': F}\n",
    "\n"
   ],
   "metadata": {
    "collapsed": false,
    "ExecuteTime": {
     "end_time": "2024-03-25T19:42:53.920816700Z",
     "start_time": "2024-03-25T19:42:53.913120Z"
    }
   },
   "id": "9af42cb8afc249dc",
   "execution_count": 6
  },
  {
   "cell_type": "code",
   "outputs": [
    {
     "name": "stdout",
     "output_type": "stream",
     "text": [
      "Vectorizing data.\n",
      "(500, 1500, 300) (500,)\n"
     ]
    }
   ],
   "source": [
    "# Read the input file\n",
    "x_data, y_data = read_ip_file(ip_txt_file)\n",
    "\n",
    "# Vectorize the data\n",
    "x_data = vectorize_data(x_data)\n",
    "ext_feature = read_external_features(ip_txt_file, ip_feat_file)\n",
    "\n",
    "# Convert into numpy array\n",
    "x_data, y_data = np.array(x_data), np.array(y_data)\n",
    "y_data_df = pd.DataFrame ( y_data ) ## used to retrieve indexes\n",
    "\n",
    "print ( x_data.shape, y_data.shape ) "
   ],
   "metadata": {
    "collapsed": false,
    "ExecuteTime": {
     "end_time": "2024-03-25T22:50:07.637859100Z",
     "start_time": "2024-03-25T22:49:18.735158400Z"
    }
   },
   "id": "d346715ae23950bb",
   "execution_count": 36
  },
  {
   "cell_type": "markdown",
   "source": [
    "## split the data"
   ],
   "metadata": {
    "collapsed": false
   },
   "id": "2fd96837c6accfaf"
  },
  {
   "cell_type": "code",
   "outputs": [
    {
     "name": "stdout",
     "output_type": "stream",
     "text": [
      "train: (375, 1500, 300) (375, 1)\n",
      "test: (125, 1500, 300) (125, 1)\n"
     ]
    }
   ],
   "source": [
    "x_train, x_test, y_train, y_test = train_test_split( x_data , y_data_df, test_size=0.25)\n",
    "print ( 'train:', x_train.shape, y_train.shape )\n",
    "print ( 'test:', x_test.shape, y_test.shape )\n",
    "\n",
    "# Convert the class labels into categorical\n",
    "y_train_cat, y_test_cat = to_categorical(y_train), to_categorical(y_test)\n",
    "\n",
    "# Reshape the data for CNN\n",
    "x_train = x_train.reshape(x_train.shape[0], x_train.shape[1], x_train.shape[2], 1)\n",
    "x_test = x_test.reshape(x_test.shape[0], x_test.shape[1], x_test.shape[2], 1)\n",
    "\n",
    "# External features for this particular split\n",
    "train_ext_feat, test_ext_feat = ext_feature[y_train.index], ext_feature[y_test.index]\n"
   ],
   "metadata": {
    "collapsed": false,
    "ExecuteTime": {
     "end_time": "2024-03-25T23:05:54.262305200Z",
     "start_time": "2024-03-25T23:05:53.942397300Z"
    }
   },
   "id": "1774c652298f8b03",
   "execution_count": 44
  },
  {
   "cell_type": "code",
   "outputs": [
    {
     "name": "stdout",
     "output_type": "stream",
     "text": [
      "Epoch 1/10\n",
      "94/94 [==============================] - 14s 136ms/step - loss: 1.5564 - accuracy: 0.3307\n",
      "Epoch 2/10\n",
      "94/94 [==============================] - 12s 132ms/step - loss: 1.4224 - accuracy: 0.4027\n",
      "Epoch 3/10\n",
      "94/94 [==============================] - 12s 133ms/step - loss: 1.2513 - accuracy: 0.5387\n",
      "Epoch 4/10\n",
      "94/94 [==============================] - 13s 133ms/step - loss: 1.0679 - accuracy: 0.6320\n",
      "Epoch 5/10\n",
      "94/94 [==============================] - 12s 132ms/step - loss: 0.8721 - accuracy: 0.7307\n",
      "Epoch 6/10\n",
      "94/94 [==============================] - 13s 137ms/step - loss: 0.6738 - accuracy: 0.8640\n",
      "Epoch 7/10\n",
      "94/94 [==============================] - 13s 134ms/step - loss: 0.5205 - accuracy: 0.9120\n",
      "Epoch 8/10\n",
      "94/94 [==============================] - 12s 132ms/step - loss: 0.3593 - accuracy: 0.9760\n",
      "Epoch 9/10\n",
      "94/94 [==============================] - 13s 134ms/step - loss: 0.2609 - accuracy: 0.9840\n",
      "Epoch 10/10\n",
      "94/94 [==============================] - 12s 132ms/step - loss: 0.2075 - accuracy: 0.9813\n",
      "12/12 [==============================] - 4s 289ms/step\n",
      "4/4 [==============================] - 1s 290ms/step\n",
      "Model: \"sequential_3\"\n",
      "_________________________________________________________________\n",
      " Layer (type)                Output Shape              Param #   \n",
      "=================================================================\n",
      " classif_op (Dense)          (None, 5)                 1585      \n",
      "                                                                 \n",
      "=================================================================\n",
      "Total params: 1585 (6.19 KB)\n",
      "Trainable params: 1585 (6.19 KB)\n",
      "Non-trainable params: 0 (0.00 Byte)\n",
      "_________________________________________________________________\n",
      "None\n",
      "Epoch 1/10\n",
      "94/94 [==============================] - 0s 1ms/step - loss: 1.3674 - accuracy: 0.4347\n",
      "Epoch 2/10\n",
      "94/94 [==============================] - 0s 1ms/step - loss: 1.0040 - accuracy: 0.7733\n",
      "Epoch 3/10\n",
      "94/94 [==============================] - 0s 1ms/step - loss: 0.7518 - accuracy: 0.9173\n",
      "Epoch 4/10\n",
      "94/94 [==============================] - 0s 1ms/step - loss: 0.5660 - accuracy: 0.9893\n",
      "Epoch 5/10\n",
      "94/94 [==============================] - 0s 1ms/step - loss: 0.4380 - accuracy: 1.0000\n",
      "Epoch 6/10\n",
      "94/94 [==============================] - 0s 1ms/step - loss: 0.3438 - accuracy: 1.0000\n",
      "Epoch 7/10\n",
      "94/94 [==============================] - 0s 1ms/step - loss: 0.2747 - accuracy: 1.0000\n",
      "Epoch 8/10\n",
      "94/94 [==============================] - 0s 1ms/step - loss: 0.2268 - accuracy: 0.9973\n",
      "Epoch 9/10\n",
      "94/94 [==============================] - 0s 1ms/step - loss: 0.1898 - accuracy: 1.0000\n",
      "Epoch 10/10\n",
      "94/94 [==============================] - 0s 1ms/step - loss: 0.1594 - accuracy: 1.0000\n",
      "\n",
      "Time elapsed in training CNN:  0:00:01.556433\n",
      "\n",
      "Evaluating on Test data...\n",
      "4/4 [==============================] - 0s 2ms/step - loss: 1.3255 - accuracy: 0.4640\n",
      "loss :  1.3254534006118774\n",
      "accuracy :  0.46399998664855957\n",
      "4/4 [==============================] - 0s 2ms/step\n",
      "              precision    recall  f1-score   support\n",
      "\n",
      "           0       0.65      0.69      0.67        29\n",
      "           1       0.47      0.24      0.32        29\n",
      "           2       0.40      0.73      0.52        41\n",
      "           3       0.25      0.06      0.10        16\n",
      "           4       0.00      0.00      0.00        10\n",
      "\n",
      "    accuracy                           0.46       125\n",
      "   macro avg       0.35      0.35      0.32       125\n",
      "weighted avg       0.42      0.46      0.41       125\n"
     ]
    },
    {
     "name": "stderr",
     "output_type": "stream",
     "text": [
      "C:\\Program Files\\Python311\\Lib\\site-packages\\sklearn\\metrics\\_classification.py:1469: UndefinedMetricWarning: Precision and F-score are ill-defined and being set to 0.0 in labels with no predicted samples. Use `zero_division` parameter to control this behavior.\n",
      "  _warn_prf(average, modifier, msg_start, len(result))\n",
      "C:\\Program Files\\Python311\\Lib\\site-packages\\sklearn\\metrics\\_classification.py:1469: UndefinedMetricWarning: Precision and F-score are ill-defined and being set to 0.0 in labels with no predicted samples. Use `zero_division` parameter to control this behavior.\n",
      "  _warn_prf(average, modifier, msg_start, len(result))\n",
      "C:\\Program Files\\Python311\\Lib\\site-packages\\sklearn\\metrics\\_classification.py:1469: UndefinedMetricWarning: Precision and F-score are ill-defined and being set to 0.0 in labels with no predicted samples. Use `zero_division` parameter to control this behavior.\n",
      "  _warn_prf(average, modifier, msg_start, len(result))\n"
     ]
    }
   ],
   "source": [
    "# CNN model for training on the embedded text input\n",
    "cnn_model = get_cnn_model()\n",
    "# print (cnn_model.summary())\n",
    "\n",
    "# Train the model\n",
    "cnn_model.fit(x=x_train, y=y_train_cat, batch_size=cnn_params['batch'], epochs=cnn_params['epoch'], verbose=cnn_params['verbose'])\n",
    "\n",
    "# Trained model for extracting features from intermediate layer\n",
    "model_feat_extractor = Model(inputs=cnn_model.input, outputs=cnn_model.get_layer(intermediate_layer).output)\n",
    "\n",
    "# Get CNN gerated features\n",
    "train_cnn_feat = model_feat_extractor.predict(x_train)\n",
    "test_cnn_feat = model_feat_extractor.predict(x_test)\n",
    "\n",
    "# Merge the CNN generated features with the external features\n",
    "x_train_features = []\n",
    "for index, cnn_feature in enumerate(train_cnn_feat):\n",
    "    tmp_feat = list(cnn_feature)\n",
    "    tmp_feat.extend(list(train_ext_feat[index]))\n",
    "    x_train_features.append(np.array(tmp_feat))\n",
    "\n",
    "x_test_features = []\n",
    "for index, cnn_feature in enumerate(test_cnn_feat):\n",
    "    tmp_feat = list(cnn_feature)\n",
    "    tmp_feat.extend(list(test_ext_feat[index]))\n",
    "    x_test_features.append(np.array(tmp_feat))\n",
    "\n",
    "# Convert the list into numpy array\n",
    "x_train_features = np.array(x_train_features)\n",
    "x_test_features = np.array(x_test_features)\n",
    "\n",
    "del train_cnn_feat, test_cnn_feat\n",
    "\n",
    "# Get the MLP model for final classification\n",
    "mlp_model = get_mlp_model(ip_dim = len(x_train_features[0]))\n",
    "print (mlp_model.summary())\n",
    "\n",
    "tc = time.time()\n",
    "\n",
    "# Train the MLP model\n",
    "mlp_model.fit(x=x_train_features, y=y_train_cat, batch_size=cnn_params['batch'], epochs=cnn_params['epoch'], verbose=cnn_params['verbose'])\n",
    "\n",
    "print ('\\nTime elapsed in training CNN: ', str(datetime.timedelta(seconds=time.time() - tc)))\n",
    "# del x_train, y_train\n",
    "\n",
    "print ('\\nEvaluating on Test data...\\n')\n",
    "# # Print Loss and Accuracy\n",
    "model_metrics = mlp_model.evaluate(x_test_features, y_test_cat)\n",
    "\n",
    "for i in range(len(model_metrics)):\n",
    "    print (mlp_model.metrics_names[i], ': ', model_metrics[i])\n",
    "\n",
    "y_pred = mlp_model.predict(x_test_features)\n",
    "y_pred = np.argmax(y_pred, axis=-1)\n",
    "# y_test = np.argmax(y_test_cat, axis=-1)\n",
    "\n",
    "# Scikit-learn classification report (P, R, F1, Support)\n",
    "report = classification_report(y_test, y_pred)\n",
    "print (report)"
   ],
   "metadata": {
    "collapsed": false,
    "ExecuteTime": {
     "end_time": "2024-03-25T23:09:51.119803200Z",
     "start_time": "2024-03-25T23:07:35.641361500Z"
    }
   },
   "id": "febac3fee49e6eea",
   "execution_count": 47
  },
  {
   "cell_type": "code",
   "outputs": [
    {
     "data": {
      "text/plain": "<Figure size 640x480 with 2 Axes>",
      "image/png": "[encoded data removed]"
     },
     "metadata": {},
     "output_type": "display_data"
    }
   ],
   "source": [
    "ConfusionMatrixDisplay(confusion_matrix ( y_test, y_pred ), \n",
    "          display_labels=list(severity_classes.keys()) )\\\n",
    "  .plot(cmap=plt.cm.Blues);"
   ],
   "metadata": {
    "collapsed": false,
    "ExecuteTime": {
     "end_time": "2024-03-25T23:21:19.745778800Z",
     "start_time": "2024-03-25T23:21:19.430014800Z"
    }
   },
   "id": "dfa5b98212309551",
   "execution_count": 50
  },
  {
   "cell_type": "code",
   "outputs": [],
   "source": [],
   "metadata": {
    "collapsed": false
   },
   "id": "33caabe47889b5e1"
  }
 ],
 "metadata": {
  "kernelspec": {
   "display_name": "Python 3",
   "language": "python",
   "name": "python3"
  },
  "language_info": {
   "codemirror_mode": {
    "name": "ipython",
    "version": 2
   },
   "file_extension": ".py",
   "mimetype": "text/x-python",
   "name": "python",
   "nbconvert_exporter": "python",
   "pygments_lexer": "ipython2",
   "version": "2.7.6"
  }
 },
 "nbformat": 4,
 "nbformat_minor": 5
}
