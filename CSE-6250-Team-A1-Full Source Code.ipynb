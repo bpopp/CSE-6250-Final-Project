{
 "cells": [
  {
   "cell_type": "markdown",
   "id": "94af8a1c1222adc8",
   "metadata": {
    "collapsed": false,
    "jupyter": {
     "outputs_hidden": false
    }
   },
   "source": [
    "# Full Source Code\n",
    "**GT CSE 6250 Spring Project**\n",
    "\n",
    "Team A1: Brian Popp, bpopp7@gatech.edu, Danielle Velott, dvelott3@gatech.edu\n",
    "\n",
    "This notebook is a complete rewrite of the original source and provides improvements in order to streamline, modify, and simplify the build process. Full validation and optimization of the original models will be included."
   ]
  },
  {
   "cell_type": "code",
   "id": "ab31492270c2c5cd",
   "metadata": {
    "collapsed": false,
    "jupyter": {
     "outputs_hidden": false
    },
    "ExecuteTime": {
     "end_time": "2024-04-17T06:31:06.716574Z",
     "start_time": "2024-04-17T06:30:56.083095Z"
    }
   },
   "source": [
    "# GT CSE 6250 Spring Project\n",
    "# Team A1: Brian Popp, bpopp7@gatech.edu, Danielle Velott, dvellot3@gatech.edu\n",
    "import os\n",
    "import string\n",
    "from nltk import word_tokenize\n",
    "from gensim.models import KeyedVectors, Word2Vec\n",
    "import numpy as np\n",
    "\n",
    "from keras.utils import to_categorical\n",
    "from keras.models import Sequential, Model\n",
    "from keras.layers import Dense, Dropout, Flatten, Activation, Input, MaxPool2D\n",
    "from keras.layers import Conv2D, GlobalAveragePooling1D, MaxPooling2D\n",
    "from keras.layers import Concatenate\n",
    "from keras.optimizers import Adam\n",
    "\n",
    "from sklearn.model_selection import train_test_split\n",
    "from sklearn.metrics import classification_report, confusion_matrix, ConfusionMatrixDisplay\n",
    "from sklearn.model_selection import StratifiedKFold\n",
    "from sklearn.svm import SVC, LinearSVC\n",
    "\n",
    "## our imports\n",
    "import pandas as pd\n",
    "import re\n",
    "from itertools import chain, repeat, islice\n",
    "import requests\n",
    "import matplotlib.pyplot as plt\n",
    "import io\n",
    "\n",
    "import nltk\n",
    "nltk.download('punkt')\n",
    "\n",
    "## utility functions\n",
    "def pad_infinite(iterable, padding=None):\n",
    "   return chain(iterable, repeat(padding))\n",
    "\n",
    "def pad(iterable, size, padding=None):\n",
    "   return islice(pad_infinite(iterable, padding), size)"
   ],
   "outputs": [
    {
     "name": "stdout",
     "output_type": "stream",
     "text": [
      "WARNING:tensorflow:From C:\\Program Files\\Python311\\Lib\\site-packages\\keras\\src\\losses.py:2976: The name tf.losses.sparse_softmax_cross_entropy is deprecated. Please use tf.compat.v1.losses.sparse_softmax_cross_entropy instead.\n",
      "\n"
     ]
    },
    {
     "name": "stderr",
     "output_type": "stream",
     "text": [
      "[nltk_data] Downloading package punkt to\n",
      "[nltk_data]     C:\\Users\\bpopp\\AppData\\Roaming\\nltk_data...\n",
      "[nltk_data]   Package punkt is already up-to-date!\n"
     ]
    }
   ],
   "execution_count": 1
  },
  {
   "cell_type": "code",
   "id": "96ae94470d964fc4",
   "metadata": {
    "collapsed": false,
    "jupyter": {
     "outputs_hidden": false
    },
    "ExecuteTime": {
     "end_time": "2024-04-17T06:31:06.725309Z",
     "start_time": "2024-04-17T06:31:06.717587Z"
    }
   },
   "source": [
    "## Using the same variable declarations and configuration options as the original study\n",
    "ip_txt_file = './data/500_Reddit_users_posts_labels.csv'  # CSV file: \"User\", \"Post\", \"Label\"\n",
    "ip_feat_file = './data/External_Features.csv'             # CSV file: \"User\", \"Features\"\n",
    "limit_rows = 500   ## used to build a partial dataset\n",
    "\n",
    "w2v_file = {'file': './out/numberbatch-en-19.08.txt.gz', \n",
    "            'is_binary': False, \n",
    "            'limit': None, \n",
    "            'cache': './out/vectors.kv', \n",
    "            'source':'https://conceptnet.s3.amazonaws.com/downloads/2019/numberbatch/numberbatch-en-19.08.txt.gz' }\n",
    "\n",
    "op_file = './out/Result_5-Label_Classification.tsv'\n",
    "severity_classes = {'Supportive': 0, 'Indicator': 1, 'Ideation': 2, 'Behavior': 3, 'Attempt': 4}\n",
    "\n",
    "sys_params = {'emb_dim': 300,\n",
    "              'max_sent_len': 1500,\n",
    "              'str_padd': '@PADD',\n",
    "              'cross_val': 5}\n",
    "\n",
    "cnn_params = {'no_filters': 100,\n",
    "              'kernels': [3, 4, 5],\n",
    "              'channel': 1,\n",
    "              'c_stride': (1, sys_params['emb_dim']),\n",
    "              'pad': 'same',\n",
    "              'ip_shape': (sys_params['max_sent_len'], sys_params['emb_dim'], 1),\n",
    "              'c_activ': 'relu',\n",
    "              'drop_rate': 0.3,\n",
    "              'dense_1_unit': 128,\n",
    "              'dense_2_unit': 128,\n",
    "              'dense_activ': 'relu',\n",
    "              'op_unit': 5,             # 5-Label classification\n",
    "              'op_activ': 'softmax',\n",
    "              'l_rate': 0.001,\n",
    "              'loss': 'categorical_crossentropy',\n",
    "              'batch': 4,\n",
    "              'epoch': 50,\n",
    "              'verbose': 1}\n",
    "\n",
    "intermediate_layer = 'flat_drop'    # for extracting features from CNN"
   ],
   "outputs": [],
   "execution_count": 2
  },
  {
   "cell_type": "code",
   "id": "abac5a9dc1eb9893",
   "metadata": {
    "collapsed": false,
    "jupyter": {
     "outputs_hidden": false
    },
    "ExecuteTime": {
     "end_time": "2024-04-17T06:31:06.740332Z",
     "start_time": "2024-04-17T06:31:06.727319Z"
    }
   },
   "source": [
    "def get_keras_cnn_model():\n",
    "\n",
    "    input = Input(shape=(sys_params['max_sent_len'], sys_params['emb_dim'], 1), dtype='float32')\n",
    "    \n",
    "    conv_layers = []\n",
    "    for filter in cnn_params['kernels']:\n",
    "        conv2d = Conv2D(filters=cnn_params['no_filters'], kernel_size=(filter, sys_params['emb_dim']), strides=cnn_params['c_stride'],\n",
    "                        padding=cnn_params['pad'], data_format='channels_last', input_shape=cnn_params['ip_shape'],\n",
    "                        activation=cnn_params['c_activ'])(input)\n",
    "        l_pool = MaxPool2D(pool_size=(sys_params['max_sent_len'], 1))(conv2d)\n",
    "        conv_layers.append(l_pool)\n",
    "        \n",
    "    l_concat = Concatenate(axis=1)(conv_layers)\n",
    "    l_flat = Flatten()(l_concat)\n",
    "    l_drop = Dropout(rate=cnn_params['drop_rate'], name='flat_drop')(l_flat)\n",
    "    output = Dense(units=cnn_params['op_unit'], activation=cnn_params['op_activ'], name='cnn_op')(l_drop)\n",
    "    \n",
    "    final_model = Model(input, output)\n",
    "    final_model.compile(optimizer=Adam(learning_rate=cnn_params['l_rate']), loss=cnn_params['loss'], metrics=['accuracy'])   \n",
    "    \n",
    "    return final_model\n",
    "\n",
    "## using the same validation function as the original study (see presentation)\n",
    "def get_prf1_score(y_true, y_pred):\n",
    "    tp, fp, fn = 0.0, 0.0, 0.0\n",
    "    for i in range(len(y_pred)):\n",
    "        if y_pred[i] == y_true[i]:\n",
    "            tp += 1\n",
    "        elif y_pred[i] > y_true[i]:\n",
    "            fp += 1\n",
    "        else:\n",
    "            fn += 1\n",
    "    if tp == 0:\n",
    "        tp = 1.0\n",
    "    if fp == 0:\n",
    "        fp = 1.0\n",
    "    if fn == 0:\n",
    "        fn  = 1.0\n",
    "    P = tp / (tp + fp)\n",
    "    R = tp / (tp + fn)\n",
    "    F = 2 * P * R / (P + R)\n",
    "    return P, R, F\n",
    "\n",
    "def get_confusion_matrix ( y_true, y_pred, labels = ['SU','IN','ID','BR','AT'], ax=None ):\n",
    "    if ax is None:\n",
    "        fig, ax = plt.subplots ( figsize=(5,4) )\n",
    "    \n",
    "    font = {'family' : 'Sans',\n",
    "        'weight' : 'normal',\n",
    "        'size'   : 18}\n",
    "    plt.rc('font', **font)\n",
    "    \n",
    "    ConfusionMatrixDisplay.from_predictions( y_true, y_pred, display_labels=labels, ax=ax, cmap=plt.cm.Blues, colorbar=False );\n",
    "    ax.set_xlabel ( '' );\n",
    "    ax.set_ylabel ( '' );\n",
    "    ax.tick_params(axis='x', labelrotation=45);\n",
    "    ax.spines['bottom'].set_color(None);\n",
    "    ax.spines['top'].set_color(None);\n",
    "    ax.spines['right'].set_color(None);\n",
    "    ax.spines['left'].set_color(None);\n",
    "\n",
    "    return ax;\n",
    "\n",
    "# get_confusion_matrix ( y_true, y_pred );"
   ],
   "outputs": [],
   "execution_count": 3
  },
  {
   "cell_type": "markdown",
   "id": "7bd279f28ea151cd",
   "metadata": {
    "collapsed": false,
    "jupyter": {
     "outputs_hidden": false
    }
   },
   "source": [
    "## Primary Dataset\n",
    "The study's primary dataset is 500 rows of de-identified social media posts discussing various aspects of self-destructive behavior. Each row has a user id, the text of the post, and a label describing how the post was manually classified.      "
   ]
  },
  {
   "cell_type": "code",
   "id": "a61a91470b2f4a5c",
   "metadata": {
    "collapsed": false,
    "jupyter": {
     "outputs_hidden": false
    },
    "ExecuteTime": {
     "end_time": "2024-04-17T06:31:06.788955Z",
     "start_time": "2024-04-17T06:31:06.742348Z"
    }
   },
   "source": [
    "df = pd.read_csv ( ip_txt_file ).loc[:limit_rows]\n",
    "\n",
    "# display ( df.groupby('Label').sample(1)[::-1] )\n",
    "print ( f'Rows: {df.shape[0]}, Columns: {df.shape[1]}')"
   ],
   "outputs": [
    {
     "name": "stdout",
     "output_type": "stream",
     "text": [
      "Rows: 500, Columns: 3\n"
     ]
    }
   ],
   "execution_count": 4
  },
  {
   "cell_type": "markdown",
   "id": "e50f24a6929889cd",
   "metadata": {
    "collapsed": false,
    "jupyter": {
     "outputs_hidden": false
    }
   },
   "source": [
    "## Cleanup\n",
    "The original study provided code to do the word tokenization, but it was based on an older version of python and honestly wasn't very efficient. We've cleaned this up a bit by converting to pandas and using more pythonic transformations. "
   ]
  },
  {
   "cell_type": "code",
   "id": "20de4fe89ce51b49",
   "metadata": {
    "collapsed": false,
    "jupyter": {
     "outputs_hidden": false
    },
    "ExecuteTime": {
     "end_time": "2024-04-17T06:31:08.634969Z",
     "start_time": "2024-04-17T06:31:06.790965Z"
    }
   },
   "source": [
    "df['post_clean'] = df.Post.str.lower() # convert to lowercase\n",
    "df['post_clean'] = df.post_clean.str.replace(\"/[^ -~]+/g\",\"\", regex=True) ## remove non-printable\n",
    "df[\"post_clean\"] = df.post_clean.str.replace('[^\\w\\s]','', regex=True) ## remove punctuation\n",
    "df[\"post_clean\"] = df.post_clean.apply(word_tokenize) ## tokenize\n",
    "df[\"post_clean\"] = df.post_clean[:sys_params['max_sent_len']] # limit length\n",
    "df[\"post_clean\"] = df.post_clean.apply ( lambda x : list(pad(x, sys_params['max_sent_len'], sys_params['str_padd']))) ## pad list\n",
    "\n",
    "df['LabelCode'] = df.Label.map ( severity_classes ) ## map labels to codes\n",
    "\n",
    "labels = np.array (df.LabelCode.values)\n",
    "print ( 'labels:', labels[:5] )\n",
    "\n",
    "posts = np.array(df.post_clean.values.tolist())\n",
    "print ( 'posts: ', posts[:5] )"
   ],
   "outputs": [
    {
     "name": "stdout",
     "output_type": "stream",
     "text": [
      "labels: [0 2 3 4 2]\n",
      "posts:  [['its' 'not' 'a' ... '@PADD' '@PADD' '@PADD']\n",
      " ['it' 'can' 'be' ... 'my' 'studies' 'and']\n",
      " ['hi' 'so' 'last' ... '@PADD' '@PADD' '@PADD']\n",
      " ['i' 'tried' 'to' ... '@PADD' '@PADD' '@PADD']\n",
      " ['hi' 'nem3030' 'what' ... '@PADD' '@PADD' '@PADD']]\n"
     ]
    }
   ],
   "execution_count": 5
  },
  {
   "cell_type": "code",
   "id": "e16d5734eb8ef579",
   "metadata": {
    "ExecuteTime": {
     "end_time": "2024-04-18T19:42:02.197870Z",
     "start_time": "2024-04-18T19:42:02.019315Z"
    }
   },
   "source": [
    "pd.set_option('display.max_columns', 15)\n",
    "pd.set_option('display.max_rows', 5)\n",
    "pd.DataFrame ( posts )"
   ],
   "outputs": [
    {
     "data": {
      "text/plain": [
       "     0     1       2       3       4           5      6     ...   1493  \\\n",
       "0     its   not       a  viable  option         and  youll  ...  @PADD   \n",
       "1      it   can      be    hard      to  appreciate    the  ...     am   \n",
       "..    ...   ...     ...     ...     ...         ...    ...  ...    ...   \n",
       "498  dont  know   there      as    dumb          as     it  ...  @PADD   \n",
       "499  gtit  gets  better   trust   meive       spent   long  ...  @PADD   \n",
       "\n",
       "            1494   1495   1496   1497     1498   1499  \n",
       "0          @PADD  @PADD  @PADD  @PADD    @PADD  @PADD  \n",
       "1    progressing   well     in     my  studies    and  \n",
       "..           ...    ...    ...    ...      ...    ...  \n",
       "498        @PADD  @PADD  @PADD  @PADD    @PADD  @PADD  \n",
       "499        @PADD  @PADD  @PADD  @PADD    @PADD  @PADD  \n",
       "\n",
       "[500 rows x 1500 columns]"
      ],
      "text/html": [
       "<div>\n",
       "<style scoped>\n",
       "    .dataframe tbody tr th:only-of-type {\n",
       "        vertical-align: middle;\n",
       "    }\n",
       "\n",
       "    .dataframe tbody tr th {\n",
       "        vertical-align: top;\n",
       "    }\n",
       "\n",
       "    .dataframe thead th {\n",
       "        text-align: right;\n",
       "    }\n",
       "</style>\n",
       "<table border=\"1\" class=\"dataframe\">\n",
       "  <thead>\n",
       "    <tr style=\"text-align: right;\">\n",
       "      <th></th>\n",
       "      <th>0</th>\n",
       "      <th>1</th>\n",
       "      <th>2</th>\n",
       "      <th>3</th>\n",
       "      <th>4</th>\n",
       "      <th>5</th>\n",
       "      <th>6</th>\n",
       "      <th>...</th>\n",
       "      <th>1493</th>\n",
       "      <th>1494</th>\n",
       "      <th>1495</th>\n",
       "      <th>1496</th>\n",
       "      <th>1497</th>\n",
       "      <th>1498</th>\n",
       "      <th>1499</th>\n",
       "    </tr>\n",
       "  </thead>\n",
       "  <tbody>\n",
       "    <tr>\n",
       "      <th>0</th>\n",
       "      <td>its</td>\n",
       "      <td>not</td>\n",
       "      <td>a</td>\n",
       "      <td>viable</td>\n",
       "      <td>option</td>\n",
       "      <td>and</td>\n",
       "      <td>youll</td>\n",
       "      <td>...</td>\n",
       "      <td>@PADD</td>\n",
       "      <td>@PADD</td>\n",
       "      <td>@PADD</td>\n",
       "      <td>@PADD</td>\n",
       "      <td>@PADD</td>\n",
       "      <td>@PADD</td>\n",
       "      <td>@PADD</td>\n",
       "    </tr>\n",
       "    <tr>\n",
       "      <th>1</th>\n",
       "      <td>it</td>\n",
       "      <td>can</td>\n",
       "      <td>be</td>\n",
       "      <td>hard</td>\n",
       "      <td>to</td>\n",
       "      <td>appreciate</td>\n",
       "      <td>the</td>\n",
       "      <td>...</td>\n",
       "      <td>am</td>\n",
       "      <td>progressing</td>\n",
       "      <td>well</td>\n",
       "      <td>in</td>\n",
       "      <td>my</td>\n",
       "      <td>studies</td>\n",
       "      <td>and</td>\n",
       "    </tr>\n",
       "    <tr>\n",
       "      <th>...</th>\n",
       "      <td>...</td>\n",
       "      <td>...</td>\n",
       "      <td>...</td>\n",
       "      <td>...</td>\n",
       "      <td>...</td>\n",
       "      <td>...</td>\n",
       "      <td>...</td>\n",
       "      <td>...</td>\n",
       "      <td>...</td>\n",
       "      <td>...</td>\n",
       "      <td>...</td>\n",
       "      <td>...</td>\n",
       "      <td>...</td>\n",
       "      <td>...</td>\n",
       "      <td>...</td>\n",
       "    </tr>\n",
       "    <tr>\n",
       "      <th>498</th>\n",
       "      <td>dont</td>\n",
       "      <td>know</td>\n",
       "      <td>there</td>\n",
       "      <td>as</td>\n",
       "      <td>dumb</td>\n",
       "      <td>as</td>\n",
       "      <td>it</td>\n",
       "      <td>...</td>\n",
       "      <td>@PADD</td>\n",
       "      <td>@PADD</td>\n",
       "      <td>@PADD</td>\n",
       "      <td>@PADD</td>\n",
       "      <td>@PADD</td>\n",
       "      <td>@PADD</td>\n",
       "      <td>@PADD</td>\n",
       "    </tr>\n",
       "    <tr>\n",
       "      <th>499</th>\n",
       "      <td>gtit</td>\n",
       "      <td>gets</td>\n",
       "      <td>better</td>\n",
       "      <td>trust</td>\n",
       "      <td>meive</td>\n",
       "      <td>spent</td>\n",
       "      <td>long</td>\n",
       "      <td>...</td>\n",
       "      <td>@PADD</td>\n",
       "      <td>@PADD</td>\n",
       "      <td>@PADD</td>\n",
       "      <td>@PADD</td>\n",
       "      <td>@PADD</td>\n",
       "      <td>@PADD</td>\n",
       "      <td>@PADD</td>\n",
       "    </tr>\n",
       "  </tbody>\n",
       "</table>\n",
       "<p>500 rows × 1500 columns</p>\n",
       "</div>"
      ]
     },
     "execution_count": 101,
     "metadata": {},
     "output_type": "execute_result"
    }
   ],
   "execution_count": 101
  },
  {
   "cell_type": "code",
   "id": "6f02d25a-8bec-4e80-8eb8-0d859057761f",
   "metadata": {
    "ExecuteTime": {
     "end_time": "2024-04-17T06:31:08.816320Z",
     "start_time": "2024-04-17T06:31:08.809785Z"
    }
   },
   "source": [
    "df.LabelCode.values"
   ],
   "outputs": [
    {
     "data": {
      "text/plain": [
       "array([0, 2, 3, 4, 2, 0, 0, 2, 0, 2, 1, 0, 3, 2, 2, 3, 2, 3, 4, 2, 0, 2,\n",
       "       2, 0, 4, 4, 1, 2, 2, 0, 4, 0, 2, 3, 3, 2, 2, 1, 2, 0, 0, 3, 2, 4,\n",
       "       2, 2, 4, 2, 4, 0, 0, 2, 2, 1, 2, 0, 3, 2, 2, 3, 2, 4, 2, 0, 1, 3,\n",
       "       3, 3, 1, 2, 3, 0, 0, 2, 1, 3, 0, 3, 1, 2, 0, 2, 4, 2, 3, 0, 0, 4,\n",
       "       2, 1, 3, 3, 3, 2, 2, 3, 3, 4, 3, 2, 2, 3, 2, 0, 1, 3, 2, 3, 2, 3,\n",
       "       4, 0, 2, 2, 1, 1, 2, 2, 1, 0, 1, 2, 2, 3, 4, 2, 2, 2, 1, 2, 2, 3,\n",
       "       0, 3, 3, 2, 3, 1, 0, 2, 0, 2, 4, 2, 3, 1, 1, 4, 3, 1, 0, 1, 1, 2,\n",
       "       1, 1, 3, 0, 2, 1, 2, 2, 0, 0, 1, 0, 4, 0, 2, 0, 1, 1, 2, 2, 3, 1,\n",
       "       3, 2, 2, 2, 2, 2, 3, 0, 2, 1, 1, 3, 2, 1, 2, 0, 4, 0, 1, 3, 3, 1,\n",
       "       0, 2, 3, 2, 0, 3, 2, 3, 0, 3, 0, 0, 3, 1, 2, 2, 1, 2, 2, 2, 4, 2,\n",
       "       2, 3, 2, 3, 3, 0, 2, 2, 1, 1, 0, 0, 3, 1, 2, 1, 0, 4, 4, 1, 2, 1,\n",
       "       2, 0, 0, 2, 2, 1, 2, 0, 2, 3, 2, 1, 4, 1, 3, 2, 1, 2, 0, 3, 0, 0,\n",
       "       1, 1, 1, 3, 1, 0, 1, 4, 2, 2, 4, 4, 2, 2, 3, 1, 1, 3, 3, 1, 2, 2,\n",
       "       3, 1, 1, 2, 0, 2, 4, 2, 1, 0, 0, 4, 2, 1, 2, 1, 2, 3, 0, 2, 2, 2,\n",
       "       1, 3, 4, 2, 2, 2, 3, 2, 2, 2, 1, 2, 2, 2, 2, 4, 1, 0, 1, 3, 0, 2,\n",
       "       2, 2, 2, 4, 3, 2, 4, 2, 3, 3, 4, 0, 0, 0, 1, 0, 3, 0, 2, 0, 0, 0,\n",
       "       0, 2, 0, 0, 1, 2, 1, 4, 2, 0, 0, 4, 2, 0, 4, 2, 1, 1, 0, 0, 1, 2,\n",
       "       1, 3, 1, 0, 4, 1, 2, 0, 0, 0, 1, 1, 2, 0, 4, 2, 1, 0, 1, 2, 2, 0,\n",
       "       0, 2, 0, 2, 3, 3, 1, 0, 0, 0, 2, 1, 1, 2, 2, 2, 2, 0, 2, 2, 2, 0,\n",
       "       1, 3, 1, 3, 2, 2, 2, 2, 1, 1, 0, 0, 2, 4, 4, 4, 2, 1, 4, 3, 2, 4,\n",
       "       2, 1, 1, 1, 0, 2, 2, 3, 0, 1, 2, 1, 1, 2, 0, 2, 2, 2, 1, 2, 0, 4,\n",
       "       2, 2, 3, 0, 1, 0, 0, 2, 0, 2, 1, 3, 2, 3, 1, 0, 0, 1, 1, 2, 0, 1,\n",
       "       2, 1, 3, 2, 2, 0, 4, 0, 0, 1, 0, 0, 1, 0, 4, 3], dtype=int64)"
      ]
     },
     "execution_count": 7,
     "metadata": {},
     "output_type": "execute_result"
    }
   ],
   "execution_count": 7
  },
  {
   "cell_type": "markdown",
   "id": "261e0bc56e6517f6",
   "metadata": {
    "collapsed": false,
    "jupyter": {
     "outputs_hidden": false
    }
   },
   "source": [
    "## Vectorize\n",
    "Features are built by mapping word tokens to vectors of similar words. These similarities are taken from pre-built\n",
    "similarity vectors. For this study, the authors used a popular open-source project called ConceptNet. From their documentation:\n",
    "\n",
    "> ConceptNet is a freely-available semantic network, designed to help computers \n",
    "> understand the meanings of words that people use.\n",
    "\n",
    "We've improved on the study's code by allowing these vectors to be automatically downloaded and by caching word \n",
    "vectors to significantly reduce loading time."
   ]
  },
  {
   "cell_type": "code",
   "id": "b90756549c23528c",
   "metadata": {
    "collapsed": false,
    "jupyter": {
     "outputs_hidden": false
    },
    "ExecuteTime": {
     "end_time": "2024-04-17T06:31:09.511300Z",
     "start_time": "2024-04-17T06:31:08.817328Z"
    }
   },
   "source": [
    "if (w2v_file['cache'] != \"\") & (os.path.isfile ( w2v_file['cache']) ):\n",
    "    print ( \"Using cached vectors.\" )\n",
    "    w2v_model = KeyedVectors.load(w2v_file['cache'])\n",
    "else:\n",
    "    if not os.path.isfile ( w2v_file['file'] ):\n",
    "        print ( f\"Could not find {w2v_file['file']}.. attempting download from {w2v_file['source']}.\" )\n",
    "        r = requests.get(w2v_file['source'], allow_redirects=True)\n",
    "        open ( w2v_file['file'], 'wb').write ( r.content )\n",
    "    \n",
    "    print ( \"Loading vectors... this will take a few minutes..\" )\n",
    "    w2v_model = KeyedVectors.load_word2vec_format(w2v_file['file'], binary=w2v_file['is_binary'], limit=w2v_file['limit'])\n",
    "    if w2v_file['cache'] != \"\":\n",
    "        w2v_model.save( w2v_file['cache'] )\n",
    "\n",
    "w2v_model\n"
   ],
   "outputs": [
    {
     "name": "stdout",
     "output_type": "stream",
     "text": [
      "Using cached vectors.\n"
     ]
    },
    {
     "data": {
      "text/plain": [
       "<gensim.models.keyedvectors.KeyedVectors at 0x1c069227fd0>"
      ]
     },
     "execution_count": 8,
     "metadata": {},
     "output_type": "execute_result"
    }
   ],
   "execution_count": 8
  },
  {
   "metadata": {},
   "cell_type": "markdown",
   "source": "## Sample of a ConceptNet Word Vector",
   "id": "79d317df844a0d2"
  },
  {
   "metadata": {
    "ExecuteTime": {
     "end_time": "2024-04-18T19:33:22.806205Z",
     "start_time": "2024-04-18T19:33:22.777925Z"
    }
   },
   "cell_type": "code",
   "source": [
    "embeddingdf = pd.DataFrame ( columns=['Pos','Word', 'Embedding'] )\n",
    "for word in ['viable','appreciate','sitting']:\n",
    "    tempdf = pd.DataFrame ( columns=embeddingdf.columns )\n",
    "    tempdf['Pos'] = range(300)\n",
    "    tempdf['Embedding'] = w2v_model[word]\n",
    "    tempdf['Word'] = word\n",
    "    embeddingdf = pd.concat ( [embeddingdf ,tempdf] ) if len(embeddingdf) else tempdf\n",
    "    \n",
    "embeddingdf = embeddingdf.pivot_table ( index='Word',columns='Pos', aggfunc='first', values='Embedding')\n",
    "embeddingdf\n",
    "\n",
    "# word1 = pd.DataFrame( w2v_model['viable'] )\n",
    "# word1['id'] = range(len(word1))\n",
    "# word1['Word'] = 'viable'\n",
    "# \n",
    "# word2 = pd.DataFrame(w2v_model['appreciation'])             \n",
    "# word2['id'] = range(len(word2))\n",
    "# word2['Word'] = 'appreciation'\n",
    "# \n",
    "# vectordf = pd.concat ( [ word1, word2 ] )\n",
    "# display (vectordf)\n",
    "# vectordf.columns = ['embedding']\n",
    "# vectordf.pivot_table ( index='Word', columns='id', aggfunc='first', values='embedding')"
   ],
   "id": "8238466730d0a3d3",
   "outputs": [
    {
     "data": {
      "text/plain": [
       "Pos            0       1       2       3       4       5       6       7    \\\n",
       "Word                                                                         \n",
       "appreciate -0.1502 -0.1842 -0.0622 -0.0213  0.0621  0.0628  0.1369 -0.0453   \n",
       "sitting    -0.0589 -0.1078  0.0863  0.0834 -0.0365  0.0042 -0.0394 -0.0217   \n",
       "viable     -0.1187  0.0032 -0.1273  0.0401  0.0483  0.0687  0.0207  0.1111   \n",
       "\n",
       "Pos            8       9    ...     290     291     292     293     294  \\\n",
       "Word                        ...                                           \n",
       "appreciate  0.2151 -0.1233  ...  0.0247  0.0230 -0.0164  0.0060  0.0566   \n",
       "sitting     0.0835  0.0725  ... -0.0417  0.0172  0.0023  0.0262 -0.0722   \n",
       "viable      0.1148 -0.1166  ...  0.0027 -0.0087  0.0384  0.0126 -0.0873   \n",
       "\n",
       "Pos            295     296     297     298     299  \n",
       "Word                                                \n",
       "appreciate  0.0092  0.0334  0.0444  0.0195 -0.0213  \n",
       "sitting    -0.0547 -0.0107 -0.0114 -0.0506 -0.0188  \n",
       "viable     -0.0594  0.0028  0.0339 -0.0376 -0.0201  \n",
       "\n",
       "[3 rows x 300 columns]"
      ],
      "text/html": [
       "<div>\n",
       "<style scoped>\n",
       "    .dataframe tbody tr th:only-of-type {\n",
       "        vertical-align: middle;\n",
       "    }\n",
       "\n",
       "    .dataframe tbody tr th {\n",
       "        vertical-align: top;\n",
       "    }\n",
       "\n",
       "    .dataframe thead th {\n",
       "        text-align: right;\n",
       "    }\n",
       "</style>\n",
       "<table border=\"1\" class=\"dataframe\">\n",
       "  <thead>\n",
       "    <tr style=\"text-align: right;\">\n",
       "      <th>Pos</th>\n",
       "      <th>0</th>\n",
       "      <th>1</th>\n",
       "      <th>2</th>\n",
       "      <th>3</th>\n",
       "      <th>4</th>\n",
       "      <th>5</th>\n",
       "      <th>6</th>\n",
       "      <th>7</th>\n",
       "      <th>8</th>\n",
       "      <th>9</th>\n",
       "      <th>...</th>\n",
       "      <th>290</th>\n",
       "      <th>291</th>\n",
       "      <th>292</th>\n",
       "      <th>293</th>\n",
       "      <th>294</th>\n",
       "      <th>295</th>\n",
       "      <th>296</th>\n",
       "      <th>297</th>\n",
       "      <th>298</th>\n",
       "      <th>299</th>\n",
       "    </tr>\n",
       "    <tr>\n",
       "      <th>Word</th>\n",
       "      <th></th>\n",
       "      <th></th>\n",
       "      <th></th>\n",
       "      <th></th>\n",
       "      <th></th>\n",
       "      <th></th>\n",
       "      <th></th>\n",
       "      <th></th>\n",
       "      <th></th>\n",
       "      <th></th>\n",
       "      <th></th>\n",
       "      <th></th>\n",
       "      <th></th>\n",
       "      <th></th>\n",
       "      <th></th>\n",
       "      <th></th>\n",
       "      <th></th>\n",
       "      <th></th>\n",
       "      <th></th>\n",
       "      <th></th>\n",
       "      <th></th>\n",
       "    </tr>\n",
       "  </thead>\n",
       "  <tbody>\n",
       "    <tr>\n",
       "      <th>appreciate</th>\n",
       "      <td>-0.1502</td>\n",
       "      <td>-0.1842</td>\n",
       "      <td>-0.0622</td>\n",
       "      <td>-0.0213</td>\n",
       "      <td>0.0621</td>\n",
       "      <td>0.0628</td>\n",
       "      <td>0.1369</td>\n",
       "      <td>-0.0453</td>\n",
       "      <td>0.2151</td>\n",
       "      <td>-0.1233</td>\n",
       "      <td>...</td>\n",
       "      <td>0.0247</td>\n",
       "      <td>0.0230</td>\n",
       "      <td>-0.0164</td>\n",
       "      <td>0.0060</td>\n",
       "      <td>0.0566</td>\n",
       "      <td>0.0092</td>\n",
       "      <td>0.0334</td>\n",
       "      <td>0.0444</td>\n",
       "      <td>0.0195</td>\n",
       "      <td>-0.0213</td>\n",
       "    </tr>\n",
       "    <tr>\n",
       "      <th>sitting</th>\n",
       "      <td>-0.0589</td>\n",
       "      <td>-0.1078</td>\n",
       "      <td>0.0863</td>\n",
       "      <td>0.0834</td>\n",
       "      <td>-0.0365</td>\n",
       "      <td>0.0042</td>\n",
       "      <td>-0.0394</td>\n",
       "      <td>-0.0217</td>\n",
       "      <td>0.0835</td>\n",
       "      <td>0.0725</td>\n",
       "      <td>...</td>\n",
       "      <td>-0.0417</td>\n",
       "      <td>0.0172</td>\n",
       "      <td>0.0023</td>\n",
       "      <td>0.0262</td>\n",
       "      <td>-0.0722</td>\n",
       "      <td>-0.0547</td>\n",
       "      <td>-0.0107</td>\n",
       "      <td>-0.0114</td>\n",
       "      <td>-0.0506</td>\n",
       "      <td>-0.0188</td>\n",
       "    </tr>\n",
       "    <tr>\n",
       "      <th>viable</th>\n",
       "      <td>-0.1187</td>\n",
       "      <td>0.0032</td>\n",
       "      <td>-0.1273</td>\n",
       "      <td>0.0401</td>\n",
       "      <td>0.0483</td>\n",
       "      <td>0.0687</td>\n",
       "      <td>0.0207</td>\n",
       "      <td>0.1111</td>\n",
       "      <td>0.1148</td>\n",
       "      <td>-0.1166</td>\n",
       "      <td>...</td>\n",
       "      <td>0.0027</td>\n",
       "      <td>-0.0087</td>\n",
       "      <td>0.0384</td>\n",
       "      <td>0.0126</td>\n",
       "      <td>-0.0873</td>\n",
       "      <td>-0.0594</td>\n",
       "      <td>0.0028</td>\n",
       "      <td>0.0339</td>\n",
       "      <td>-0.0376</td>\n",
       "      <td>-0.0201</td>\n",
       "    </tr>\n",
       "  </tbody>\n",
       "</table>\n",
       "<p>3 rows × 300 columns</p>\n",
       "</div>"
      ]
     },
     "execution_count": 96,
     "metadata": {},
     "output_type": "execute_result"
    }
   ],
   "execution_count": 96
  },
  {
   "cell_type": "code",
   "id": "aad0986ce9f048b",
   "metadata": {
    "collapsed": false,
    "jupyter": {
     "outputs_hidden": false
    },
    "ExecuteTime": {
     "end_time": "2024-04-18T19:45:39.478144Z",
     "start_time": "2024-04-18T19:44:46.113604Z"
    }
   },
   "source": [
    "vocab = w2v_model.key_to_index\n",
    "padding = np.zeros(sys_params['emb_dim'], dtype='float32')\n",
    "\n",
    "vectors = []\n",
    "for sentence in posts:\n",
    "    vector = []\n",
    "    for tok in sentence:\n",
    "        if tok==sys_params['str_padd']:\n",
    "            vector.append(list(padding))\n",
    "        \n",
    "        elif tok in vocab:\n",
    "            vector.append(w2v_model[tok].astype(float).tolist())\n",
    "    \n",
    "        else:\n",
    "            vector.append(list(padding))\n",
    "    \n",
    "    vectors.append(vector)   \n",
    "    \n",
    "x_data, y_data = np.array(vectors), np.array ( labels )\n",
    "print ( x_data.shape, y_data.shape )\n"
   ],
   "outputs": [
    {
     "name": "stdout",
     "output_type": "stream",
     "text": [
      "(500, 1500, 300) (500,)\n"
     ]
    }
   ],
   "execution_count": 102
  },
  {
   "metadata": {
    "ExecuteTime": {
     "end_time": "2024-04-18T19:48:49.594932Z",
     "start_time": "2024-04-18T19:48:49.564328Z"
    }
   },
   "cell_type": "code",
   "source": "pd.DataFrame ( x_data.reshape(500,300*1500) )",
   "id": "8b138b50eba80f33",
   "outputs": [
    {
     "data": {
      "text/plain": [
       "     0       1       2       3       4       5       6       ...  449993  \\\n",
       "0   -0.0863 -0.0878 -0.0425  0.0321 -0.0503 -0.0198  0.0787  ...  0.0000   \n",
       "1   -0.1443 -0.1320  0.0170  0.0389  0.0335  0.0039  0.0745  ... -0.1133   \n",
       "..      ...     ...     ...     ...     ...     ...     ...  ...     ...   \n",
       "498 -0.0994 -0.0509 -0.0007 -0.0728  0.0089  0.0095 -0.0718  ...  0.0000   \n",
       "499  0.0000  0.0000  0.0000  0.0000  0.0000  0.0000  0.0000  ...  0.0000   \n",
       "\n",
       "     449994  449995  449996  449997  449998  449999  \n",
       "0    0.0000  0.0000  0.0000  0.0000  0.0000  0.0000  \n",
       "1   -0.0726  0.0659 -0.0282 -0.0354  0.0252  0.0449  \n",
       "..      ...     ...     ...     ...     ...     ...  \n",
       "498  0.0000  0.0000  0.0000  0.0000  0.0000  0.0000  \n",
       "499  0.0000  0.0000  0.0000  0.0000  0.0000  0.0000  \n",
       "\n",
       "[500 rows x 450000 columns]"
      ],
      "text/html": [
       "<div>\n",
       "<style scoped>\n",
       "    .dataframe tbody tr th:only-of-type {\n",
       "        vertical-align: middle;\n",
       "    }\n",
       "\n",
       "    .dataframe tbody tr th {\n",
       "        vertical-align: top;\n",
       "    }\n",
       "\n",
       "    .dataframe thead th {\n",
       "        text-align: right;\n",
       "    }\n",
       "</style>\n",
       "<table border=\"1\" class=\"dataframe\">\n",
       "  <thead>\n",
       "    <tr style=\"text-align: right;\">\n",
       "      <th></th>\n",
       "      <th>0</th>\n",
       "      <th>1</th>\n",
       "      <th>2</th>\n",
       "      <th>3</th>\n",
       "      <th>4</th>\n",
       "      <th>5</th>\n",
       "      <th>6</th>\n",
       "      <th>...</th>\n",
       "      <th>449993</th>\n",
       "      <th>449994</th>\n",
       "      <th>449995</th>\n",
       "      <th>449996</th>\n",
       "      <th>449997</th>\n",
       "      <th>449998</th>\n",
       "      <th>449999</th>\n",
       "    </tr>\n",
       "  </thead>\n",
       "  <tbody>\n",
       "    <tr>\n",
       "      <th>0</th>\n",
       "      <td>-0.0863</td>\n",
       "      <td>-0.0878</td>\n",
       "      <td>-0.0425</td>\n",
       "      <td>0.0321</td>\n",
       "      <td>-0.0503</td>\n",
       "      <td>-0.0198</td>\n",
       "      <td>0.0787</td>\n",
       "      <td>...</td>\n",
       "      <td>0.0000</td>\n",
       "      <td>0.0000</td>\n",
       "      <td>0.0000</td>\n",
       "      <td>0.0000</td>\n",
       "      <td>0.0000</td>\n",
       "      <td>0.0000</td>\n",
       "      <td>0.0000</td>\n",
       "    </tr>\n",
       "    <tr>\n",
       "      <th>1</th>\n",
       "      <td>-0.1443</td>\n",
       "      <td>-0.1320</td>\n",
       "      <td>0.0170</td>\n",
       "      <td>0.0389</td>\n",
       "      <td>0.0335</td>\n",
       "      <td>0.0039</td>\n",
       "      <td>0.0745</td>\n",
       "      <td>...</td>\n",
       "      <td>-0.1133</td>\n",
       "      <td>-0.0726</td>\n",
       "      <td>0.0659</td>\n",
       "      <td>-0.0282</td>\n",
       "      <td>-0.0354</td>\n",
       "      <td>0.0252</td>\n",
       "      <td>0.0449</td>\n",
       "    </tr>\n",
       "    <tr>\n",
       "      <th>...</th>\n",
       "      <td>...</td>\n",
       "      <td>...</td>\n",
       "      <td>...</td>\n",
       "      <td>...</td>\n",
       "      <td>...</td>\n",
       "      <td>...</td>\n",
       "      <td>...</td>\n",
       "      <td>...</td>\n",
       "      <td>...</td>\n",
       "      <td>...</td>\n",
       "      <td>...</td>\n",
       "      <td>...</td>\n",
       "      <td>...</td>\n",
       "      <td>...</td>\n",
       "      <td>...</td>\n",
       "    </tr>\n",
       "    <tr>\n",
       "      <th>498</th>\n",
       "      <td>-0.0994</td>\n",
       "      <td>-0.0509</td>\n",
       "      <td>-0.0007</td>\n",
       "      <td>-0.0728</td>\n",
       "      <td>0.0089</td>\n",
       "      <td>0.0095</td>\n",
       "      <td>-0.0718</td>\n",
       "      <td>...</td>\n",
       "      <td>0.0000</td>\n",
       "      <td>0.0000</td>\n",
       "      <td>0.0000</td>\n",
       "      <td>0.0000</td>\n",
       "      <td>0.0000</td>\n",
       "      <td>0.0000</td>\n",
       "      <td>0.0000</td>\n",
       "    </tr>\n",
       "    <tr>\n",
       "      <th>499</th>\n",
       "      <td>0.0000</td>\n",
       "      <td>0.0000</td>\n",
       "      <td>0.0000</td>\n",
       "      <td>0.0000</td>\n",
       "      <td>0.0000</td>\n",
       "      <td>0.0000</td>\n",
       "      <td>0.0000</td>\n",
       "      <td>...</td>\n",
       "      <td>0.0000</td>\n",
       "      <td>0.0000</td>\n",
       "      <td>0.0000</td>\n",
       "      <td>0.0000</td>\n",
       "      <td>0.0000</td>\n",
       "      <td>0.0000</td>\n",
       "      <td>0.0000</td>\n",
       "    </tr>\n",
       "  </tbody>\n",
       "</table>\n",
       "<p>500 rows × 450000 columns</p>\n",
       "</div>"
      ]
     },
     "execution_count": 108,
     "metadata": {},
     "output_type": "execute_result"
    }
   ],
   "execution_count": 108
  },
  {
   "cell_type": "markdown",
   "id": "a2e695c47d8855be",
   "metadata": {
    "collapsed": false,
    "jupyter": {
     "outputs_hidden": false
    }
   },
   "source": "## Save the Dataset"
  },
  {
   "cell_type": "code",
   "id": "f32eff9e11d2b0f2",
   "metadata": {
    "collapsed": false,
    "jupyter": {
     "outputs_hidden": false
    },
    "ExecuteTime": {
     "end_time": "2024-04-17T06:32:40.103640Z",
     "start_time": "2024-04-17T06:31:49.566125Z"
    }
   },
   "source": [
    "x_data_all = x_data.reshape(x_data.shape[0], x_data.shape[1], x_data.shape[2], 1)\n",
    "y_data_all = labels\n",
    "\n",
    "np.savez_compressed ( f'./data/fulldataset.npz', x=x_data_all, y=y_data_all )"
   ],
   "outputs": [],
   "execution_count": 10
  },
  {
   "cell_type": "markdown",
   "id": "3ed97736eb8dd5db",
   "metadata": {
    "collapsed": false,
    "jupyter": {
     "outputs_hidden": false
    }
   },
   "source": [
    "## Load the Dataset"
   ]
  },
  {
   "cell_type": "code",
   "id": "ac038a76bffc9759",
   "metadata": {
    "collapsed": false,
    "jupyter": {
     "outputs_hidden": false
    },
    "ExecuteTime": {
     "end_time": "2024-04-17T06:37:45.514890Z",
     "start_time": "2024-04-17T06:37:38.724409Z"
    }
   },
   "source": [
    "dataset = np.load ( './data/fulldataset.npz' )\n",
    "x_data_all = dataset['x']\n",
    "y_data_all = dataset['y']\n",
    "y_data_df = pd.DataFrame ( dataset['y'] )\n",
    "print ( x_data_all.shape, y_data_all.shape )"
   ],
   "outputs": [
    {
     "name": "stdout",
     "output_type": "stream",
     "text": [
      "(500, 1500, 300, 1) (500,)\n"
     ]
    }
   ],
   "execution_count": 20
  },
  {
   "cell_type": "markdown",
   "id": "71083e38cdb97590",
   "metadata": {
    "collapsed": false,
    "jupyter": {
     "outputs_hidden": false
    }
   },
   "source": [
    "## Show the Model"
   ]
  },
  {
   "cell_type": "code",
   "id": "2d4e5bbd43e4c80b",
   "metadata": {
    "collapsed": false,
    "jupyter": {
     "outputs_hidden": false
    },
    "ExecuteTime": {
     "end_time": "2024-04-17T06:32:47.231578Z",
     "start_time": "2024-04-17T06:32:45.480546Z"
    }
   },
   "source": [
    "model = get_keras_cnn_model()\n",
    "from keras.utils import plot_model\n",
    "plot_model(model, to_file='images/5category_cnn_model.png', show_shapes=True, show_layer_names=False)\n"
   ],
   "outputs": [
    {
     "name": "stdout",
     "output_type": "stream",
     "text": [
      "WARNING:tensorflow:From C:\\Program Files\\Python311\\Lib\\site-packages\\keras\\src\\backend.py:1398: The name tf.executing_eagerly_outside_functions is deprecated. Please use tf.compat.v1.executing_eagerly_outside_functions instead.\n",
      "\n",
      "WARNING:tensorflow:From C:\\Program Files\\Python311\\Lib\\site-packages\\keras\\src\\layers\\pooling\\max_pooling2d.py:161: The name tf.nn.max_pool is deprecated. Please use tf.nn.max_pool2d instead.\n",
      "\n"
     ]
    },
    {
     "data": {
      "image/png": "[encoded data removed]",
      "text/plain": [
       "<IPython.core.display.Image object>"
      ]
     },
     "execution_count": 12,
     "metadata": {},
     "output_type": "execute_result"
    }
   ],
   "execution_count": 12
  },
  {
   "cell_type": "markdown",
   "id": "80819be329a0b036",
   "metadata": {
    "collapsed": false,
    "jupyter": {
     "outputs_hidden": false
    }
   },
   "source": [
    "## Run the Model (simple)"
   ]
  },
  {
   "cell_type": "code",
   "id": "750b0c73c95973f2",
   "metadata": {
    "collapsed": false,
    "jupyter": {
     "outputs_hidden": false
    },
    "ExecuteTime": {
     "end_time": "2024-04-18T17:22:23.588429Z",
     "start_time": "2024-04-18T17:21:48.534695Z"
    }
   },
   "source": [
    "x_train, x_test, y_train, y_test = train_test_split( x_data_all , y_data_df, test_size=0.20)\n",
    "print ( 'train:', x_train.shape, y_train.shape )\n",
    "print ( 'test:', x_test.shape, y_test.shape )\n",
    "\n",
    "epochs = 2 #cnn_params['epoch']\n",
    "cnn_model = get_keras_cnn_model()\n",
    "cnn_model.fit(x=x_train, y=to_categorical(y_train), batch_size=4, epochs=epochs, verbose=0)\n",
    "\n",
    "y_pred = cnn_model.predict(x_test)\n",
    "y_pred = np.argmax(y_pred, axis=-1) ## find the classifier with the highest probability\n",
    "y_true = y_test.values\n",
    "\n",
    "precision, recall, f1 = get_prf1_score(y_true, y_pred)\n",
    "result_df.loc['CNN'] = pd.Series({'Precision': round(precision, 3),\n",
    "                                  'Recall': round(recall, 3),\n",
    "                                  'F1-Score': round(f1, 3)})\n",
    "display(result_df.loc[['CNN']])\n",
    "\n",
    "get_confusion_matrix ( y_true, y_pred )\n"
   ],
   "outputs": [
    {
     "name": "stdout",
     "output_type": "stream",
     "text": [
      "train: (400, 1500, 300, 1) (400, 1)\n",
      "test: (100, 1500, 300, 1) (100, 1)\n",
      "4/4 [==============================] - 1s 205ms/step\n"
     ]
    },
    {
     "data": {
      "text/plain": [
       "       Precision  Recall  F1-Score\n",
       "Model                             \n",
       "CNN        0.466   0.557     0.507"
      ],
      "text/html": [
       "<div>\n",
       "<style scoped>\n",
       "    .dataframe tbody tr th:only-of-type {\n",
       "        vertical-align: middle;\n",
       "    }\n",
       "\n",
       "    .dataframe tbody tr th {\n",
       "        vertical-align: top;\n",
       "    }\n",
       "\n",
       "    .dataframe thead th {\n",
       "        text-align: right;\n",
       "    }\n",
       "</style>\n",
       "<table border=\"1\" class=\"dataframe\">\n",
       "  <thead>\n",
       "    <tr style=\"text-align: right;\">\n",
       "      <th></th>\n",
       "      <th>Precision</th>\n",
       "      <th>Recall</th>\n",
       "      <th>F1-Score</th>\n",
       "    </tr>\n",
       "    <tr>\n",
       "      <th>Model</th>\n",
       "      <th></th>\n",
       "      <th></th>\n",
       "      <th></th>\n",
       "    </tr>\n",
       "  </thead>\n",
       "  <tbody>\n",
       "    <tr>\n",
       "      <th>CNN</th>\n",
       "      <td>0.466</td>\n",
       "      <td>0.557</td>\n",
       "      <td>0.507</td>\n",
       "    </tr>\n",
       "  </tbody>\n",
       "</table>\n",
       "</div>"
      ]
     },
     "metadata": {},
     "output_type": "display_data"
    },
    {
     "data": {
      "text/plain": [
       "<Axes: >"
      ]
     },
     "execution_count": 38,
     "metadata": {},
     "output_type": "execute_result"
    },
    {
     "data": {
      "text/plain": [
       "<Figure size 500x400 with 1 Axes>"
      ],
      "image/png": "[encoded data removed]"
     },
     "metadata": {},
     "output_type": "display_data"
    }
   ],
   "execution_count": 38
  },
  {
   "cell_type": "markdown",
   "id": "818d09ab5ea74953",
   "metadata": {
    "collapsed": false,
    "jupyter": {
     "outputs_hidden": false
    }
   },
   "source": [
    "## Run the Model (KFold Cross Validation)"
   ]
  },
  {
   "cell_type": "code",
   "id": "397dd2ef261feea9",
   "metadata": {
    "collapsed": false,
    "jupyter": {
     "outputs_hidden": false
    },
    "ExecuteTime": {
     "end_time": "2024-04-19T19:55:24.418977Z",
     "start_time": "2024-04-19T18:58:04.131786Z"
    }
   },
   "source": [
    "result_df = pd.DataFrame( columns=['Model', 'Precision','Recall','F1-Score'] ).set_index ( 'Model' )\n",
    "\n",
    "epochs=50\n",
    "scores = []\n",
    "\n",
    "skf = StratifiedKFold(n_splits=sys_params['cross_val'])\n",
    "skf.get_n_splits(x_data_all, y_data_all)\n",
    "\n",
    "\n",
    "for cv_count, (train_index, test_index) in enumerate(skf.split(x_data_all, y_data_all), start=1):\n",
    "    print ('\\nRunning Stratified Cross Validation: {0}/{1}...'.format(cv_count, sys_params['cross_val']))\n",
    "\n",
    "    x_train, x_test = x_data_all[train_index], x_data_all[test_index]\n",
    "    y_train, y_test = y_data_all[train_index], y_data_all[test_index]\n",
    "\n",
    "    cnn_model = get_keras_cnn_model()\n",
    "    cnn_model.fit(x=x_train, y=to_categorical(y_train), batch_size=4, epochs=epochs, verbose=0)\n",
    "    \n",
    "    y_pred = cnn_model.predict(x_test)\n",
    "    y_pred = np.argmax(y_pred, axis=-1)\n",
    "    y_true = y_test\n",
    "\n",
    "    precision, recall, f1 = get_prf1_score(y_true, y_pred)\n",
    "    print ('\\nPrecision: {0}\\t Recall: {1}\\t F1-Score: {2}'\\\n",
    "        .format(round(precision,3), round(recall,3), round(f1,3)))\n",
    "\n",
    "    scores.append({'I':cv_count, 'Precision':precision, 'Recall':recall, 'F1-Score':f1})\n",
    "\n",
    "sumdf = pd.DataFrame ( scores ).set_index('I')\n",
    "result_df.loc['CNN K-Fold'] = sumdf.mean()\n",
    "sumdf.loc['Average'] = sumdf.mean()\n",
    "\n",
    "display ( sumdf )"
   ],
   "outputs": [
    {
     "name": "stdout",
     "output_type": "stream",
     "text": [
      "\n",
      "Running Stratified Cross Validation: 1/5...\n",
      "4/4 [==============================] - 1s 217ms/step\n",
      "\n",
      "Precision: 0.726\t Recall: 0.542\t F1-Score: 0.621\n",
      "\n",
      "Running Stratified Cross Validation: 2/5...\n",
      "4/4 [==============================] - 1s 225ms/step\n",
      "\n",
      "Precision: 0.667\t Recall: 0.532\t F1-Score: 0.592\n",
      "\n",
      "Running Stratified Cross Validation: 3/5...\n",
      "4/4 [==============================] - 1s 233ms/step\n",
      "\n",
      "Precision: 0.667\t Recall: 0.532\t F1-Score: 0.592\n",
      "\n",
      "Running Stratified Cross Validation: 4/5...\n",
      "4/4 [==============================] - 1s 218ms/step\n",
      "\n",
      "Precision: 0.7\t Recall: 0.512\t F1-Score: 0.592\n",
      "\n",
      "Running Stratified Cross Validation: 5/5...\n",
      "4/4 [==============================] - 1s 202ms/step\n",
      "\n",
      "Precision: 0.565\t Recall: 0.557\t F1-Score: 0.561\n"
     ]
    },
    {
     "data": {
      "text/plain": [
       "         Precision    Recall  F1-Score\n",
       "I                                     \n",
       "1         0.725806  0.542169  0.620690\n",
       "2         0.666667  0.531646  0.591549\n",
       "...            ...       ...       ...\n",
       "5         0.565217  0.557143  0.561151\n",
       "Average   0.664871  0.534960  0.591298\n",
       "\n",
       "[6 rows x 3 columns]"
      ],
      "text/html": [
       "<div>\n",
       "<style scoped>\n",
       "    .dataframe tbody tr th:only-of-type {\n",
       "        vertical-align: middle;\n",
       "    }\n",
       "\n",
       "    .dataframe tbody tr th {\n",
       "        vertical-align: top;\n",
       "    }\n",
       "\n",
       "    .dataframe thead th {\n",
       "        text-align: right;\n",
       "    }\n",
       "</style>\n",
       "<table border=\"1\" class=\"dataframe\">\n",
       "  <thead>\n",
       "    <tr style=\"text-align: right;\">\n",
       "      <th></th>\n",
       "      <th>Precision</th>\n",
       "      <th>Recall</th>\n",
       "      <th>F1-Score</th>\n",
       "    </tr>\n",
       "    <tr>\n",
       "      <th>I</th>\n",
       "      <th></th>\n",
       "      <th></th>\n",
       "      <th></th>\n",
       "    </tr>\n",
       "  </thead>\n",
       "  <tbody>\n",
       "    <tr>\n",
       "      <th>1</th>\n",
       "      <td>0.725806</td>\n",
       "      <td>0.542169</td>\n",
       "      <td>0.620690</td>\n",
       "    </tr>\n",
       "    <tr>\n",
       "      <th>2</th>\n",
       "      <td>0.666667</td>\n",
       "      <td>0.531646</td>\n",
       "      <td>0.591549</td>\n",
       "    </tr>\n",
       "    <tr>\n",
       "      <th>...</th>\n",
       "      <td>...</td>\n",
       "      <td>...</td>\n",
       "      <td>...</td>\n",
       "    </tr>\n",
       "    <tr>\n",
       "      <th>5</th>\n",
       "      <td>0.565217</td>\n",
       "      <td>0.557143</td>\n",
       "      <td>0.561151</td>\n",
       "    </tr>\n",
       "    <tr>\n",
       "      <th>Average</th>\n",
       "      <td>0.664871</td>\n",
       "      <td>0.534960</td>\n",
       "      <td>0.591298</td>\n",
       "    </tr>\n",
       "  </tbody>\n",
       "</table>\n",
       "<p>6 rows × 3 columns</p>\n",
       "</div>"
      ]
     },
     "metadata": {},
     "output_type": "display_data"
    }
   ],
   "execution_count": 172
  },
  {
   "cell_type": "markdown",
   "id": "f2b1fe0896edaca8",
   "metadata": {
    "collapsed": false,
    "jupyter": {
     "outputs_hidden": false
    }
   },
   "source": [
    "## SVM Models"
   ]
  },
  {
   "cell_type": "code",
   "id": "890d64b401949945",
   "metadata": {
    "collapsed": false,
    "jupyter": {
     "outputs_hidden": false
    },
    "ExecuteTime": {
     "end_time": "2024-04-19T19:57:13.253421Z",
     "start_time": "2024-04-19T19:55:24.421990Z"
    }
   },
   "source": [
    "x_train, x_test, y_train, y_test = train_test_split( x_data_all , y_data_df, test_size=0.20)\n",
    "\n",
    "# SVM-Radial Basis Function (RBF): for comparison\n",
    "n_users, x, y, z = x_train.shape\n",
    "x_train_svm = x_train.reshape((n_users, x*y*z))\n",
    "n_users, x, y, z = x_test.shape\n",
    "x_test_svm = x_test.reshape((n_users, x*y*z))\n",
    "\n",
    "rbf_model = SVC(kernel='rbf', gamma=0.1, decision_function_shape='ovr')\n",
    "rbf_model.fit(x_train_svm, y_train.values.ravel())\n",
    "\n",
    "y_pred = rbf_model.predict(x_test_svm)\n",
    "y_true = y_test.values\n",
    "\n",
    "\n",
    "precision, recall, f1 = get_prf1_score(y_true, y_pred)\n",
    "result_df.loc['SVM-RBF'] = pd.Series({'Precision': round(precision, 3),\n",
    "                                      'Recall': round(recall, 3),\n",
    "                                      'F1-Score': round(f1, 3)})\n",
    "display(result_df.loc[['SVM-RBF']])\n",
    "\n",
    "get_confusion_matrix ( y_true, y_pred )"
   ],
   "outputs": [
    {
     "data": {
      "text/plain": [
       "         Precision  Recall  F1-Score\n",
       "Model                               \n",
       "SVM-RBF      0.493   0.547     0.519"
      ],
      "text/html": [
       "<div>\n",
       "<style scoped>\n",
       "    .dataframe tbody tr th:only-of-type {\n",
       "        vertical-align: middle;\n",
       "    }\n",
       "\n",
       "    .dataframe tbody tr th {\n",
       "        vertical-align: top;\n",
       "    }\n",
       "\n",
       "    .dataframe thead th {\n",
       "        text-align: right;\n",
       "    }\n",
       "</style>\n",
       "<table border=\"1\" class=\"dataframe\">\n",
       "  <thead>\n",
       "    <tr style=\"text-align: right;\">\n",
       "      <th></th>\n",
       "      <th>Precision</th>\n",
       "      <th>Recall</th>\n",
       "      <th>F1-Score</th>\n",
       "    </tr>\n",
       "    <tr>\n",
       "      <th>Model</th>\n",
       "      <th></th>\n",
       "      <th></th>\n",
       "      <th></th>\n",
       "    </tr>\n",
       "  </thead>\n",
       "  <tbody>\n",
       "    <tr>\n",
       "      <th>SVM-RBF</th>\n",
       "      <td>0.493</td>\n",
       "      <td>0.547</td>\n",
       "      <td>0.519</td>\n",
       "    </tr>\n",
       "  </tbody>\n",
       "</table>\n",
       "</div>"
      ]
     },
     "metadata": {},
     "output_type": "display_data"
    },
    {
     "data": {
      "text/plain": [
       "<Axes: >"
      ]
     },
     "execution_count": 173,
     "metadata": {},
     "output_type": "execute_result"
    },
    {
     "data": {
      "text/plain": [
       "<Figure size 500x400 with 1 Axes>"
      ],
      "image/png": "[encoded data removed]"
     },
     "metadata": {},
     "output_type": "display_data"
    }
   ],
   "execution_count": 173
  },
  {
   "cell_type": "code",
   "id": "c93fb82468ca961",
   "metadata": {
    "collapsed": false,
    "jupyter": {
     "outputs_hidden": false
    },
    "ExecuteTime": {
     "end_time": "2024-04-19T19:57:36.959529Z",
     "start_time": "2024-04-19T19:57:13.254433Z"
    }
   },
   "source": [
    "x_train, x_test, y_train, y_test = train_test_split( x_data_all , y_data_df, test_size=0.20)\n",
    "\n",
    "# Linear SVM-L: for comparison\n",
    "l_model = LinearSVC( dual='auto' )\n",
    "l_model.fit(x_train_svm, y_train.values.ravel())\n",
    "\n",
    "y_pred = l_model.predict(x_test_svm)\n",
    "y_true = y_test.values\n",
    "\n",
    "precision, recall, f1 = get_prf1_score(y_true, y_pred)\n",
    "result_df.loc['SVM-L'] = pd.Series ( {'Precision':round(precision,3), \n",
    "                                   'Recall':round(recall,3), \n",
    "                                   'F1-Score':round(f1,3)} )\n",
    "display(result_df.loc[['SVM-L']])\n",
    "\n",
    "get_confusion_matrix ( y_true, y_pred );\n",
    "\n"
   ],
   "outputs": [
    {
     "data": {
      "text/plain": [
       "       Precision  Recall  F1-Score\n",
       "Model                             \n",
       "SVM-L      0.458   0.397     0.425"
      ],
      "text/html": [
       "<div>\n",
       "<style scoped>\n",
       "    .dataframe tbody tr th:only-of-type {\n",
       "        vertical-align: middle;\n",
       "    }\n",
       "\n",
       "    .dataframe tbody tr th {\n",
       "        vertical-align: top;\n",
       "    }\n",
       "\n",
       "    .dataframe thead th {\n",
       "        text-align: right;\n",
       "    }\n",
       "</style>\n",
       "<table border=\"1\" class=\"dataframe\">\n",
       "  <thead>\n",
       "    <tr style=\"text-align: right;\">\n",
       "      <th></th>\n",
       "      <th>Precision</th>\n",
       "      <th>Recall</th>\n",
       "      <th>F1-Score</th>\n",
       "    </tr>\n",
       "    <tr>\n",
       "      <th>Model</th>\n",
       "      <th></th>\n",
       "      <th></th>\n",
       "      <th></th>\n",
       "    </tr>\n",
       "  </thead>\n",
       "  <tbody>\n",
       "    <tr>\n",
       "      <th>SVM-L</th>\n",
       "      <td>0.458</td>\n",
       "      <td>0.397</td>\n",
       "      <td>0.425</td>\n",
       "    </tr>\n",
       "  </tbody>\n",
       "</table>\n",
       "</div>"
      ]
     },
     "metadata": {},
     "output_type": "display_data"
    },
    {
     "data": {
      "text/plain": [
       "<Figure size 500x400 with 1 Axes>"
      ],
      "image/png": "[encoded data removed]"
     },
     "metadata": {},
     "output_type": "display_data"
    }
   ],
   "execution_count": 174
  },
  {
   "metadata": {},
   "cell_type": "markdown",
   "source": "## Evaluation Results",
   "id": "11e20e6148e5673"
  },
  {
   "metadata": {
    "ExecuteTime": {
     "end_time": "2024-04-19T23:46:41.553992Z",
     "start_time": "2024-04-19T23:46:41.543869Z"
    }
   },
   "cell_type": "code",
   "source": "result_df.round(3)",
   "id": "b9a41affeb337889",
   "outputs": [
    {
     "data": {
      "text/plain": [
       "            Precision  Recall  F1-Score\n",
       "Model                                  \n",
       "CNN K-Fold      0.665   0.535     0.591\n",
       "SVM-RBF         0.493   0.547     0.519\n",
       "SVM-L           0.458   0.397     0.425"
      ],
      "text/html": [
       "<div>\n",
       "<style scoped>\n",
       "    .dataframe tbody tr th:only-of-type {\n",
       "        vertical-align: middle;\n",
       "    }\n",
       "\n",
       "    .dataframe tbody tr th {\n",
       "        vertical-align: top;\n",
       "    }\n",
       "\n",
       "    .dataframe thead th {\n",
       "        text-align: right;\n",
       "    }\n",
       "</style>\n",
       "<table border=\"1\" class=\"dataframe\">\n",
       "  <thead>\n",
       "    <tr style=\"text-align: right;\">\n",
       "      <th></th>\n",
       "      <th>Precision</th>\n",
       "      <th>Recall</th>\n",
       "      <th>F1-Score</th>\n",
       "    </tr>\n",
       "    <tr>\n",
       "      <th>Model</th>\n",
       "      <th></th>\n",
       "      <th></th>\n",
       "      <th></th>\n",
       "    </tr>\n",
       "  </thead>\n",
       "  <tbody>\n",
       "    <tr>\n",
       "      <th>CNN K-Fold</th>\n",
       "      <td>0.665</td>\n",
       "      <td>0.535</td>\n",
       "      <td>0.591</td>\n",
       "    </tr>\n",
       "    <tr>\n",
       "      <th>SVM-RBF</th>\n",
       "      <td>0.493</td>\n",
       "      <td>0.547</td>\n",
       "      <td>0.519</td>\n",
       "    </tr>\n",
       "    <tr>\n",
       "      <th>SVM-L</th>\n",
       "      <td>0.458</td>\n",
       "      <td>0.397</td>\n",
       "      <td>0.425</td>\n",
       "    </tr>\n",
       "  </tbody>\n",
       "</table>\n",
       "</div>"
      ]
     },
     "execution_count": 184,
     "metadata": {},
     "output_type": "execute_result"
    }
   ],
   "execution_count": 184
  },
  {
   "metadata": {},
   "cell_type": "markdown",
   "source": [
    "## Experimentation\n",
    "### Loss and Accuracy"
   ],
   "id": "c29bcf8d9274c467"
  },
  {
   "cell_type": "code",
   "id": "e77678f234323acd",
   "metadata": {
    "collapsed": false,
    "jupyter": {
     "outputs_hidden": false
    },
    "ExecuteTime": {
     "end_time": "2024-04-21T19:46:11.411840Z",
     "start_time": "2024-04-21T19:46:11.030201Z"
    }
   },
   "source": [
    "x_train, x_test, y_train, y_test = train_test_split( x_data_all , y_data_df, test_size=0.20)\n",
    "print ( 'train:', x_train.shape, y_train.shape )\n",
    "print ( 'test:', x_test.shape, y_test.shape )"
   ],
   "outputs": [
    {
     "ename": "NameError",
     "evalue": "name 'train_test_split' is not defined",
     "output_type": "error",
     "traceback": [
      "\u001B[1;31m---------------------------------------------------------------------------\u001B[0m",
      "\u001B[1;31mNameError\u001B[0m                                 Traceback (most recent call last)",
      "Cell \u001B[1;32mIn[2], line 1\u001B[0m\n\u001B[1;32m----> 1\u001B[0m x_train, x_test, y_train, y_test \u001B[38;5;241m=\u001B[39m \u001B[43mtrain_test_split\u001B[49m( x_data_all , y_data_df, test_size\u001B[38;5;241m=\u001B[39m\u001B[38;5;241m0.20\u001B[39m)\n\u001B[0;32m      2\u001B[0m \u001B[38;5;28mprint\u001B[39m ( \u001B[38;5;124m'\u001B[39m\u001B[38;5;124mtrain:\u001B[39m\u001B[38;5;124m'\u001B[39m, x_train\u001B[38;5;241m.\u001B[39mshape, y_train\u001B[38;5;241m.\u001B[39mshape )\n\u001B[0;32m      3\u001B[0m \u001B[38;5;28mprint\u001B[39m ( \u001B[38;5;124m'\u001B[39m\u001B[38;5;124mtest:\u001B[39m\u001B[38;5;124m'\u001B[39m, x_test\u001B[38;5;241m.\u001B[39mshape, y_test\u001B[38;5;241m.\u001B[39mshape )\n",
      "\u001B[1;31mNameError\u001B[0m: name 'train_test_split' is not defined"
     ]
    }
   ],
   "execution_count": 2
  },
  {
   "metadata": {
    "ExecuteTime": {
     "end_time": "2024-04-19T05:01:28.658612Z",
     "start_time": "2024-04-19T04:50:00.967843Z"
    }
   },
   "cell_type": "code",
   "source": [
    "testing_df = pd.DataFrame( columns=['Model', 'Precision','Recall','F1-Score'] ).set_index ( 'Model' )\n",
    "\n",
    "x_train, x_test, y_train, y_test = train_test_split( x_data_all , y_data_df, test_size=0.20)\n",
    "print ( 'train:', x_train.shape, y_train.shape )\n",
    "print ( 'test:', x_test.shape, y_test.shape )\n",
    "\n",
    "epochs = 50 #cnn_params['epoch']\n",
    "cnn_model = get_keras_cnn_model()\n",
    "history = cnn_model.fit(x=x_train, y=to_categorical(y_train), batch_size=4, epochs=epochs, verbose=0)\n",
    "\n",
    "y_pred_cat = cnn_model.predict(x_test)\n",
    "y_pred = np.argmax(y_pred_cat, axis=-1) ## find the classifier with the highest probability\n",
    "y_true = y_test.values\n",
    "\n",
    "precision, recall, f1 = get_prf1_score(y_true, y_pred)\n",
    "testing_df.loc['CNN-Paper'] = pd.Series({'Precision': round(precision, 3),\n",
    "                                  'Recall': round(recall, 3),\n",
    "                                  'F1-Score': round(f1, 3)})\n",
    "display(testing_df.loc[['CNN-Paper']])\n",
    "\n",
    "get_confusion_matrix ( y_true, y_pred )"
   ],
   "id": "ad919edd99aa7433",
   "outputs": [
    {
     "name": "stdout",
     "output_type": "stream",
     "text": [
      "train: (400, 1500, 300, 1) (400, 1)\n",
      "test: (100, 1500, 300, 1) (100, 1)\n",
      "4/4 [==============================] - 1s 211ms/step\n"
     ]
    },
    {
     "data": {
      "text/plain": [
       "           Precision  Recall  F1-Score\n",
       "Model                                 \n",
       "CNN-Paper      0.721    0.53     0.611"
      ],
      "text/html": [
       "<div>\n",
       "<style scoped>\n",
       "    .dataframe tbody tr th:only-of-type {\n",
       "        vertical-align: middle;\n",
       "    }\n",
       "\n",
       "    .dataframe tbody tr th {\n",
       "        vertical-align: top;\n",
       "    }\n",
       "\n",
       "    .dataframe thead th {\n",
       "        text-align: right;\n",
       "    }\n",
       "</style>\n",
       "<table border=\"1\" class=\"dataframe\">\n",
       "  <thead>\n",
       "    <tr style=\"text-align: right;\">\n",
       "      <th></th>\n",
       "      <th>Precision</th>\n",
       "      <th>Recall</th>\n",
       "      <th>F1-Score</th>\n",
       "    </tr>\n",
       "    <tr>\n",
       "      <th>Model</th>\n",
       "      <th></th>\n",
       "      <th></th>\n",
       "      <th></th>\n",
       "    </tr>\n",
       "  </thead>\n",
       "  <tbody>\n",
       "    <tr>\n",
       "      <th>CNN-Paper</th>\n",
       "      <td>0.721</td>\n",
       "      <td>0.53</td>\n",
       "      <td>0.611</td>\n",
       "    </tr>\n",
       "  </tbody>\n",
       "</table>\n",
       "</div>"
      ]
     },
     "metadata": {},
     "output_type": "display_data"
    },
    {
     "data": {
      "text/plain": [
       "<Axes: >"
      ]
     },
     "execution_count": 164,
     "metadata": {},
     "output_type": "execute_result"
    },
    {
     "data": {
      "text/plain": [
       "<Figure size 500x400 with 1 Axes>"
      ],
      "image/png": "[encoded data removed]"
     },
     "metadata": {},
     "output_type": "display_data"
    }
   ],
   "execution_count": 164
  },
  {
   "metadata": {
    "ExecuteTime": {
     "end_time": "2024-04-19T16:40:55.150884Z",
     "start_time": "2024-04-19T16:40:54.959073Z"
    }
   },
   "cell_type": "code",
   "source": [
    "fig, ax = plt.subplots ( nrows=1, figsize=(8,4), sharex=True )\n",
    "ax.plot(history.history['accuracy'], 'b-' )\n",
    "# ax.plot(history.history['loss'])\n",
    "ax.set_ylabel('Accuracy')\n",
    "ax2 = ax.twinx()\n",
    "ax2.plot(history.history['loss'], color='orange' )\n",
    "ax2.set_ylabel('Loss')\n",
    "\n",
    "\n",
    "ax.set_xlabel('Epochs')\n",
    "# summarize history for loss\n",
    "\n",
    "plt.tight_layout()\n",
    "plt.show()\n"
   ],
   "id": "b695ac9951c166e1",
   "outputs": [
    {
     "data": {
      "text/plain": [
       "<Figure size 800x400 with 2 Axes>"
      ],
      "image/png": "[encoded data removed]"
     },
     "metadata": {},
     "output_type": "display_data"
    }
   ],
   "execution_count": 171
  },
  {
   "metadata": {},
   "cell_type": "markdown",
   "source": "### Filters",
   "id": "3e40996122e64ad9"
  },
  {
   "cell_type": "code",
   "id": "19d7e61152ce4fff",
   "metadata": {
    "collapsed": false,
    "jupyter": {
     "outputs_hidden": false
    },
    "ExecuteTime": {
     "end_time": "2024-04-18T18:16:55.733859Z",
     "start_time": "2024-04-18T18:08:15.667056Z"
    }
   },
   "source": [
    "testing_df = pd.DataFrame( columns=['Model', 'Precision','Recall','F1-Score'] ).set_index ( 'Model' )\n",
    "filter_groups = {'[3,4,5] (paper)':[3,4,5], '[3,5,7]':[3,5,7], '[5,7,10]':[5,7,10], '3':[3], '5':[5], '7':[7], '10':[10] }\n",
    "\n",
    "epochs = 5\n",
    "input_shape = (1500,300,1)\n",
    "for experiment, filters in filter_groups.items():\n",
    "    input = Input(shape=input_shape, dtype='float32')\n",
    "    conv_layers = []\n",
    "    for filter in filters:\n",
    "        conv2d = Conv2D(filters=100, kernel_size=(filter, 300), strides=(1, 300),\n",
    "                        padding='same', data_format='channels_last', input_shape=input_shape,\n",
    "                        activation='relu')(input)\n",
    "        conv_layers.append ( MaxPool2D(pool_size=(1500, 1))(conv2d) )\n",
    "    \n",
    "    l_concat = Concatenate(axis=1)(conv_layers)\n",
    "    l_flat = Flatten()(l_concat)\n",
    "    l_drop = Dropout(rate=0.3, name='flat_drop')(l_flat)\n",
    "    output = Dense(units=5, activation='softmax', name='cnn_op')(l_drop)\n",
    "    \n",
    "    m = Model(input, output)\n",
    "    m.compile(optimizer=Adam(learning_rate=0.001), loss='categorical_crossentropy', metrics=['accuracy'])\n",
    "    history = m.fit(x=x_train, y=to_categorical(y_train), batch_size=4, epochs=epochs, verbose=1)\n",
    "    \n",
    "    y_pred = m.predict(x_test)\n",
    "    y_pred = np.argmax(y_pred, axis=-1) ## find the predicted classifier with the highest probability\n",
    "    y_true = y_test.values ## convert back to numpy\n",
    "    \n",
    "    precision, recall, f1 = get_prf1_score(y_true, y_pred)\n",
    "    testing_df.loc[experiment] = pd.Series({'Precision': round(precision, 3),\n",
    "                                      'Recall': round(recall, 3),\n",
    "                                      'F1-Score': round(f1, 3)})\n",
    "\n",
    "display(testing_df)"
   ],
   "outputs": [
    {
     "name": "stdout",
     "output_type": "stream",
     "text": [
      "Epoch 1/5\n",
      "100/100 [==============================] - 15s 132ms/step - loss: 1.5726 - accuracy: 0.3050\n",
      "Epoch 2/5\n",
      "100/100 [==============================] - 13s 133ms/step - loss: 1.4444 - accuracy: 0.4050\n",
      "Epoch 3/5\n",
      "100/100 [==============================] - 13s 133ms/step - loss: 1.2591 - accuracy: 0.5250\n",
      "Epoch 4/5\n",
      "100/100 [==============================] - 13s 132ms/step - loss: 1.0871 - accuracy: 0.6000\n",
      "Epoch 5/5\n",
      "100/100 [==============================] - 13s 133ms/step - loss: 0.8060 - accuracy: 0.8075\n",
      "4/4 [==============================] - 1s 204ms/step\n",
      "Epoch 1/5\n",
      "100/100 [==============================] - 18s 171ms/step - loss: 1.5691 - accuracy: 0.3225\n",
      "Epoch 2/5\n",
      "100/100 [==============================] - 17s 172ms/step - loss: 1.3732 - accuracy: 0.4300\n",
      "Epoch 3/5\n",
      "100/100 [==============================] - 17s 172ms/step - loss: 1.1789 - accuracy: 0.5775\n",
      "Epoch 4/5\n",
      "100/100 [==============================] - 17s 173ms/step - loss: 0.9231 - accuracy: 0.7100\n",
      "Epoch 5/5\n",
      "100/100 [==============================] - 18s 177ms/step - loss: 0.6865 - accuracy: 0.8450\n",
      "4/4 [==============================] - 1s 255ms/step\n",
      "Epoch 1/5\n",
      "100/100 [==============================] - 25s 242ms/step - loss: 1.5401 - accuracy: 0.3825\n",
      "Epoch 2/5\n",
      "100/100 [==============================] - 24s 243ms/step - loss: 1.3367 - accuracy: 0.4525\n",
      "Epoch 3/5\n",
      "100/100 [==============================] - 25s 247ms/step - loss: 1.0677 - accuracy: 0.6625\n",
      "Epoch 4/5\n",
      "100/100 [==============================] - 25s 246ms/step - loss: 0.7350 - accuracy: 0.8400\n",
      "Epoch 5/5\n",
      "100/100 [==============================] - 24s 243ms/step - loss: 0.4659 - accuracy: 0.9350\n",
      "4/4 [==============================] - 2s 366ms/step\n",
      "Epoch 1/5\n",
      "100/100 [==============================] - 6s 59ms/step - loss: 1.5532 - accuracy: 0.3325\n",
      "Epoch 2/5\n",
      "100/100 [==============================] - 6s 58ms/step - loss: 1.4712 - accuracy: 0.3850\n",
      "Epoch 3/5\n",
      "100/100 [==============================] - 6s 59ms/step - loss: 1.4056 - accuracy: 0.4000\n",
      "Epoch 4/5\n",
      "100/100 [==============================] - 6s 59ms/step - loss: 1.3115 - accuracy: 0.5050\n",
      "Epoch 5/5\n",
      "100/100 [==============================] - 6s 58ms/step - loss: 1.2202 - accuracy: 0.5200\n",
      "4/4 [==============================] - 0s 58ms/step\n",
      "Epoch 1/5\n",
      "100/100 [==============================] - 10s 94ms/step - loss: 1.5578 - accuracy: 0.3100\n",
      "Epoch 2/5\n",
      "100/100 [==============================] - 10s 96ms/step - loss: 1.4666 - accuracy: 0.3650\n",
      "Epoch 3/5\n",
      "100/100 [==============================] - 9s 94ms/step - loss: 1.3465 - accuracy: 0.4700\n",
      "Epoch 4/5\n",
      "100/100 [==============================] - 9s 93ms/step - loss: 1.2102 - accuracy: 0.5550\n",
      "Epoch 5/5\n",
      "100/100 [==============================] - 9s 93ms/step - loss: 1.0524 - accuracy: 0.6525\n",
      "4/4 [==============================] - 0s 90ms/step\n",
      "Epoch 1/5\n",
      "100/100 [==============================] - 13s 126ms/step - loss: 1.5512 - accuracy: 0.3175\n",
      "Epoch 2/5\n",
      "100/100 [==============================] - 13s 125ms/step - loss: 1.4393 - accuracy: 0.4000\n",
      "Epoch 3/5\n",
      "100/100 [==============================] - 13s 127ms/step - loss: 1.2645 - accuracy: 0.4975\n",
      "Epoch 4/5\n",
      "100/100 [==============================] - 13s 126ms/step - loss: 1.0762 - accuracy: 0.6425\n",
      "Epoch 5/5\n",
      "100/100 [==============================] - 13s 126ms/step - loss: 0.8685 - accuracy: 0.7475\n",
      "4/4 [==============================] - 1s 128ms/step\n",
      "Epoch 1/5\n",
      "100/100 [==============================] - 19s 179ms/step - loss: 1.5597 - accuracy: 0.3175\n",
      "Epoch 2/5\n",
      "100/100 [==============================] - 17s 174ms/step - loss: 1.4349 - accuracy: 0.4025\n",
      "Epoch 3/5\n",
      "100/100 [==============================] - 17s 173ms/step - loss: 1.2186 - accuracy: 0.5225\n",
      "Epoch 4/5\n",
      "100/100 [==============================] - 17s 174ms/step - loss: 0.9958 - accuracy: 0.7050\n",
      "Epoch 5/5\n",
      "100/100 [==============================] - 17s 173ms/step - loss: 0.6771 - accuracy: 0.8700\n",
      "4/4 [==============================] - 1s 172ms/step\n"
     ]
    },
    {
     "data": {
      "text/plain": [
       "                 Precision  Recall  F1-Score\n",
       "Model                                       \n",
       "[3,4,5] (paper)      0.706   0.424     0.529\n",
       "[3,5,7]              0.701   0.588     0.639\n",
       "[5,7,10]             0.532   0.667     0.592\n",
       "3                    0.745   0.437     0.551\n",
       "5                    0.506   0.629     0.561\n",
       "7                    0.500   0.613     0.551\n",
       "10                   0.811   0.478     0.601"
      ],
      "text/html": [
       "<div>\n",
       "<style scoped>\n",
       "    .dataframe tbody tr th:only-of-type {\n",
       "        vertical-align: middle;\n",
       "    }\n",
       "\n",
       "    .dataframe tbody tr th {\n",
       "        vertical-align: top;\n",
       "    }\n",
       "\n",
       "    .dataframe thead th {\n",
       "        text-align: right;\n",
       "    }\n",
       "</style>\n",
       "<table border=\"1\" class=\"dataframe\">\n",
       "  <thead>\n",
       "    <tr style=\"text-align: right;\">\n",
       "      <th></th>\n",
       "      <th>Precision</th>\n",
       "      <th>Recall</th>\n",
       "      <th>F1-Score</th>\n",
       "    </tr>\n",
       "    <tr>\n",
       "      <th>Model</th>\n",
       "      <th></th>\n",
       "      <th></th>\n",
       "      <th></th>\n",
       "    </tr>\n",
       "  </thead>\n",
       "  <tbody>\n",
       "    <tr>\n",
       "      <th>[3,4,5] (paper)</th>\n",
       "      <td>0.706</td>\n",
       "      <td>0.424</td>\n",
       "      <td>0.529</td>\n",
       "    </tr>\n",
       "    <tr>\n",
       "      <th>[3,5,7]</th>\n",
       "      <td>0.701</td>\n",
       "      <td>0.588</td>\n",
       "      <td>0.639</td>\n",
       "    </tr>\n",
       "    <tr>\n",
       "      <th>[5,7,10]</th>\n",
       "      <td>0.532</td>\n",
       "      <td>0.667</td>\n",
       "      <td>0.592</td>\n",
       "    </tr>\n",
       "    <tr>\n",
       "      <th>3</th>\n",
       "      <td>0.745</td>\n",
       "      <td>0.437</td>\n",
       "      <td>0.551</td>\n",
       "    </tr>\n",
       "    <tr>\n",
       "      <th>5</th>\n",
       "      <td>0.506</td>\n",
       "      <td>0.629</td>\n",
       "      <td>0.561</td>\n",
       "    </tr>\n",
       "    <tr>\n",
       "      <th>7</th>\n",
       "      <td>0.500</td>\n",
       "      <td>0.613</td>\n",
       "      <td>0.551</td>\n",
       "    </tr>\n",
       "    <tr>\n",
       "      <th>10</th>\n",
       "      <td>0.811</td>\n",
       "      <td>0.478</td>\n",
       "      <td>0.601</td>\n",
       "    </tr>\n",
       "  </tbody>\n",
       "</table>\n",
       "</div>"
      ]
     },
     "metadata": {},
     "output_type": "display_data"
    }
   ],
   "execution_count": 61
  },
  {
   "metadata": {},
   "cell_type": "code",
   "outputs": [],
   "execution_count": null,
   "source": [
    "training_loss = history.history['loss']\n",
    "test_loss = history.history['val_loss']"
   ],
   "id": "8b77e2ebad269ba3"
  }
 ],
 "metadata": {
  "kernelspec": {
   "display_name": "Python 3 (ipykernel)",
   "language": "python",
   "name": "python3"
  },
  "language_info": {
   "codemirror_mode": {
    "name": "ipython",
    "version": 3
   },
   "file_extension": ".py",
   "mimetype": "text/x-python",
   "name": "python",
   "nbconvert_exporter": "python",
   "pygments_lexer": "ipython3",
   "version": "3.11.4"
  }
 },
 "nbformat": 4,
 "nbformat_minor": 5
}
