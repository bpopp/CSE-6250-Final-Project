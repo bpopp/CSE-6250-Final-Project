{
 "cells": [
  {
   "cell_type": "markdown",
   "source": [
    "# Full Source Code\n",
    "This notebook is a complete rewrite of the original source and provides improvements in order to streamline, modify, and simplify the build process. Full validation and optimization of the original models will be included."
   ],
   "metadata": {
    "collapsed": false
   },
   "id": "94af8a1c1222adc8"
  },
  {
   "cell_type": "markdown",
   "source": [
    "**GT CSE 6250 Spring Project**\n",
    "Team A1: Brian Popp, bpopp7@gatech.edu, Danielle Velott, dvellot3@gatech.edu\n"
   ],
   "metadata": {
    "collapsed": false
   },
   "id": "29a8a8d72ee5dcab"
  },
  {
   "cell_type": "code",
   "outputs": [
    {
     "name": "stdout",
     "output_type": "stream",
     "text": [
      "WARNING:tensorflow:From C:\\Program Files\\Python311\\Lib\\site-packages\\keras\\src\\losses.py:2976: The name tf.losses.sparse_softmax_cross_entropy is deprecated. Please use tf.compat.v1.losses.sparse_softmax_cross_entropy instead.\n"
     ]
    },
    {
     "name": "stderr",
     "output_type": "stream",
     "text": [
      "[nltk_data] Downloading package punkt to\n",
      "[nltk_data]     C:\\Users\\bpopp\\AppData\\Roaming\\nltk_data...\n",
      "[nltk_data]   Package punkt is already up-to-date!\n"
     ]
    }
   ],
   "source": [
    "# GT CSE 6250 Spring Project\n",
    "# Team A1: Brian Popp, bpopp7@gatech.edu, Danielle Velott, dvellot3@gatech.edu\n",
    "import os\n",
    "import string\n",
    "from nltk import word_tokenize\n",
    "from gensim.models import KeyedVectors, Word2Vec\n",
    "import numpy as np\n",
    "\n",
    "from keras.utils import to_categorical\n",
    "from keras.models import Sequential, Model\n",
    "from keras.layers import Dense, Dropout, Flatten, Activation, Input, MaxPool2D\n",
    "from keras.layers import Conv2D, GlobalAveragePooling1D, MaxPooling2D\n",
    "from keras.layers import Concatenate\n",
    "from keras.optimizers import Adam\n",
    "\n",
    "from sklearn.model_selection import train_test_split\n",
    "from sklearn.metrics import classification_report, confusion_matrix, ConfusionMatrixDisplay\n",
    "from sklearn.model_selection import StratifiedKFold\n",
    "\n",
    "## our imports\n",
    "import pandas as pd\n",
    "import re\n",
    "from itertools import chain, repeat, islice\n",
    "import requests\n",
    "import matplotlib.pyplot as plt\n",
    "import io\n",
    "\n",
    "import nltk\n",
    "nltk.download('punkt')\n",
    "\n",
    "## utility functions\n",
    "def pad_infinite(iterable, padding=None):\n",
    "   return chain(iterable, repeat(padding))\n",
    "\n",
    "def pad(iterable, size, padding=None):\n",
    "   return islice(pad_infinite(iterable, padding), size)"
   ],
   "metadata": {
    "collapsed": false,
    "ExecuteTime": {
     "end_time": "2024-03-26T00:15:22.350827600Z",
     "start_time": "2024-03-26T00:15:11.756885900Z"
    }
   },
   "id": "ab31492270c2c5cd",
   "execution_count": 2
  },
  {
   "cell_type": "code",
   "outputs": [],
   "source": [
    "## Using the same variable declarations and configuration options as the original study\n",
    "ip_txt_file = './data/500_Reddit_users_posts_labels.csv'  # CSV file: \"User\", \"Post\", \"Label\"\n",
    "ip_feat_file = './data/External_Features.csv'             # CSV file: \"User\", \"Features\"\n",
    "limit_rows = 180   ## used to build a partial dataset\n",
    "\n",
    "w2v_file = {'file': './out/numberbatch-en-19.08.txt.gz', \n",
    "            'is_binary': False, \n",
    "            'limit': None, \n",
    "            'cache': './out/vectors.kv', \n",
    "            'source':'https://conceptnet.s3.amazonaws.com/downloads/2019/numberbatch/numberbatch-en-19.08.txt.gz' }\n",
    "\n",
    "op_file = './out/Result_5-Label_Classification.tsv'\n",
    "severity_classes = {'Supportive': 0, 'Indicator': 1, 'Ideation': 2, 'Behavior': 3, 'Attempt': 4}\n",
    "\n",
    "sys_params = {'emb_dim': 300,\n",
    "              'max_sent_len': 1500,\n",
    "              'str_padd': '@PADD',\n",
    "              'cross_val': 5}\n",
    "\n",
    "cnn_params = {'no_filters': 100,\n",
    "              'kernels': [3, 4, 5],\n",
    "              'channel': 1,\n",
    "              'c_stride': (1, sys_params['emb_dim']),\n",
    "              'pad': 'same',\n",
    "              'ip_shape': (sys_params['max_sent_len'], sys_params['emb_dim'], 1),\n",
    "              'c_activ': 'relu',\n",
    "              'drop_rate': 0.3,\n",
    "              'dense_1_unit': 128,\n",
    "              'dense_2_unit': 128,\n",
    "              'dense_activ': 'relu',\n",
    "              'op_unit': 5,             # 5-Label classification\n",
    "              'op_activ': 'softmax',\n",
    "              'l_rate': 0.001,\n",
    "              'loss': 'categorical_crossentropy',\n",
    "              'batch': 4,\n",
    "              'epoch': 50,\n",
    "              'verbose': 1}\n",
    "\n",
    "intermediate_layer = 'flat_drop'    # for extracting features from CNN"
   ],
   "metadata": {
    "collapsed": false,
    "ExecuteTime": {
     "end_time": "2024-03-27T07:39:40.505291500Z",
     "start_time": "2024-03-27T07:39:40.484197600Z"
    }
   },
   "id": "96ae94470d964fc4",
   "execution_count": 8
  },
  {
   "cell_type": "code",
   "outputs": [],
   "source": [
    "def get_keras_cnn_model():\n",
    "\n",
    "    input = Input(shape=(sys_params['max_sent_len'], sys_params['emb_dim'], 1), dtype='float32')\n",
    "    \n",
    "    conv_layers = []\n",
    "    for filter in cnn_params['kernels']:\n",
    "        conv2d = Conv2D(filters=cnn_params['no_filters'], kernel_size=(filter, sys_params['emb_dim']), strides=cnn_params['c_stride'],\n",
    "                        padding=cnn_params['pad'], data_format='channels_last', input_shape=cnn_params['ip_shape'],\n",
    "                        activation=cnn_params['c_activ'])(input)\n",
    "        l_pool = MaxPool2D(pool_size=(sys_params['max_sent_len'], 1))(conv2d)\n",
    "        conv_layers.append(l_pool)\n",
    "        \n",
    "    l_concat = Concatenate(axis=1)(conv_layers)\n",
    "    l_flat = Flatten()(l_concat)\n",
    "    l_drop = Dropout(rate=cnn_params['drop_rate'], name='flat_drop')(l_flat)\n",
    "    output = Dense(units=cnn_params['op_unit'], activation=cnn_params['op_activ'], name='cnn_op')(l_drop)\n",
    "    \n",
    "    final_model = Model(input, output)\n",
    "    final_model.compile(optimizer=Adam(learning_rate=cnn_params['l_rate']), loss=cnn_params['loss'], metrics=['accuracy'])   \n",
    "    \n",
    "    return final_model\n",
    "\n",
    "def get_prf1_score(y_true, y_pred):\n",
    "    tp, fp, fn = 0.0, 0.0, 0.0\n",
    "    for i in range(len(y_pred)):\n",
    "        if y_pred[i] == y_true[i]:\n",
    "            tp += 1\n",
    "        elif y_pred[i] > y_true[i]:\n",
    "            fp += 1\n",
    "        else:\n",
    "            fn += 1\n",
    "    if tp == 0:\n",
    "        tp = 1.0\n",
    "    if fp == 0:\n",
    "        fp = 1.0\n",
    "    if fn == 0:\n",
    "        fn  = 1.0\n",
    "    P = tp / (tp + fp)\n",
    "    R = tp / (tp + fn)\n",
    "    F = 2 * P * R / (P + R)\n",
    "    return P, R, F\n"
   ],
   "metadata": {
    "collapsed": false,
    "ExecuteTime": {
     "end_time": "2024-03-27T07:39:41.243756900Z",
     "start_time": "2024-03-27T07:39:41.199290800Z"
    }
   },
   "id": "abac5a9dc1eb9893",
   "execution_count": 9
  },
  {
   "cell_type": "markdown",
   "source": [
    "## Primary Dataset\n",
    "The study's primary dataset is 500 rows of de-identified social media posts discussing various aspects of self-destructive behavior. Each row has a user id, the text of the post, and a label describing how the post was manually classified.      "
   ],
   "metadata": {
    "collapsed": false
   },
   "id": "7bd279f28ea151cd"
  },
  {
   "cell_type": "code",
   "outputs": [
    {
     "data": {
      "text/plain": "     User                                               Post       Label\n0  user-0  ['Its not a viable option, and youll be leavin...  Supportive\n1  user-1  ['It can be hard to appreciate the notion that...    Ideation",
      "text/html": "<div>\n<style scoped>\n    .dataframe tbody tr th:only-of-type {\n        vertical-align: middle;\n    }\n\n    .dataframe tbody tr th {\n        vertical-align: top;\n    }\n\n    .dataframe thead th {\n        text-align: right;\n    }\n</style>\n<table border=\"1\" class=\"dataframe\">\n  <thead>\n    <tr style=\"text-align: right;\">\n      <th></th>\n      <th>User</th>\n      <th>Post</th>\n      <th>Label</th>\n    </tr>\n  </thead>\n  <tbody>\n    <tr>\n      <th>0</th>\n      <td>user-0</td>\n      <td>['Its not a viable option, and youll be leavin...</td>\n      <td>Supportive</td>\n    </tr>\n    <tr>\n      <th>1</th>\n      <td>user-1</td>\n      <td>['It can be hard to appreciate the notion that...</td>\n      <td>Ideation</td>\n    </tr>\n  </tbody>\n</table>\n</div>"
     },
     "execution_count": 10,
     "metadata": {},
     "output_type": "execute_result"
    }
   ],
   "source": [
    "df = pd.read_csv ( ip_txt_file ).loc[:limit_rows]\n",
    "df.head(2)"
   ],
   "metadata": {
    "collapsed": false,
    "ExecuteTime": {
     "end_time": "2024-03-27T07:39:43.073799900Z",
     "start_time": "2024-03-27T07:39:43.021190900Z"
    }
   },
   "id": "a61a91470b2f4a5c",
   "execution_count": 10
  },
  {
   "cell_type": "markdown",
   "source": [
    "## Cleanup\n",
    "The original study provided code to do the word tokenization, but it was based on an older version of python and honestly wasn't very efficient. We've cleaned this up a bit by converting to pandas and using more pythonic transformations. "
   ],
   "metadata": {
    "collapsed": false
   },
   "id": "e50f24a6929889cd"
  },
  {
   "cell_type": "code",
   "outputs": [
    {
     "name": "stdout",
     "output_type": "stream",
     "text": [
      "labels: [0 2 3 4 2]\n",
      "posts:  [['its' 'not' 'a' ... '@PADD' '@PADD' '@PADD']\n",
      " ['it' 'can' 'be' ... 'my' 'studies' 'and']\n",
      " ['hi' 'so' 'last' ... '@PADD' '@PADD' '@PADD']\n",
      " ['i' 'tried' 'to' ... '@PADD' '@PADD' '@PADD']\n",
      " ['hi' 'nem3030' 'what' ... '@PADD' '@PADD' '@PADD']]\n"
     ]
    }
   ],
   "source": [
    "df['post_clean'] = df.Post.str.lower() # convert to lowercase\n",
    "df['post_clean'] = df.post_clean.str.replace(\"/[^ -~]+/g\",\"\", regex=True) ## remove non-printable\n",
    "df[\"post_clean\"] = df.post_clean.str.replace('[^\\w\\s]','', regex=True) ## remove punctuation\n",
    "df[\"post_clean\"] = df.post_clean.apply(word_tokenize) ## tokenize\n",
    "df[\"post_clean\"] = df.post_clean[:sys_params['max_sent_len']] # limit length\n",
    "df[\"post_clean\"] = df.post_clean.apply ( lambda x : list(pad(x, sys_params['max_sent_len'], sys_params['str_padd']))) ## pad list\n",
    "\n",
    "df['LabelCode'] = df.Label.map ( severity_classes ) ## map labels to codes\n",
    "\n",
    "labels = np.array (df.LabelCode.values)\n",
    "print ( 'labels:', labels[:5] )\n",
    "\n",
    "posts = np.array(df.post_clean.values.tolist())\n",
    "print ( 'posts: ', posts[:5] )"
   ],
   "metadata": {
    "collapsed": false,
    "ExecuteTime": {
     "end_time": "2024-03-27T07:39:45.073397300Z",
     "start_time": "2024-03-27T07:39:44.181363700Z"
    }
   },
   "id": "20de4fe89ce51b49",
   "execution_count": 11
  },
  {
   "cell_type": "markdown",
   "source": [
    "## Vectorize\n",
    "Features are built by mapping word tokens to vectors of similar words. These similarities are taken from pre-built\n",
    "similarity vectors. For this study, the authors used a popular open-source project called ConceptNet. From their documentation:\n",
    "\n",
    "> ConceptNet is a freely-available semantic network, designed to help computers \n",
    "> understand the meanings of words that people use.\n",
    "\n",
    "We've improved on the study's code by allowing these vectors to be automatically downloaded and by caching word \n",
    "vectors to significantly reduce loading time."
   ],
   "metadata": {
    "collapsed": false
   },
   "id": "261e0bc56e6517f6"
  },
  {
   "cell_type": "code",
   "outputs": [
    {
     "name": "stdout",
     "output_type": "stream",
     "text": [
      "Using cached vectors.\n"
     ]
    },
    {
     "data": {
      "text/plain": "<gensim.models.keyedvectors.KeyedVectors at 0x1b23f440790>"
     },
     "execution_count": 12,
     "metadata": {},
     "output_type": "execute_result"
    }
   ],
   "source": [
    "if (w2v_file['cache'] != \"\") & (os.path.isfile ( w2v_file['cache']) ):\n",
    "    print ( \"Using cached vectors.\" )\n",
    "    w2v_model = KeyedVectors.load(w2v_file['cache'])\n",
    "else:\n",
    "    if not os.path.isfile ( w2v_file['file'] ):\n",
    "        print ( f\"Could not find {w2v_file['file']}.. attempting download from {w2v_file['source']}.\" )\n",
    "        r = requests.get(w2v_file['source'], allow_redirects=True)\n",
    "        open ( w2v_file['file'], 'wb').write ( r.content )\n",
    "    \n",
    "    print ( \"Loading vectors... this will take a few minutes..\" )\n",
    "    w2v_model = KeyedVectors.load_word2vec_format(w2v_file['file'], binary=w2v_file['is_binary'], limit=w2v_file['limit'])\n",
    "    if w2v_file['cache'] != \"\":\n",
    "        w2v_model.save( w2v_file['cache'] )\n",
    "\n",
    "w2v_model\n"
   ],
   "metadata": {
    "collapsed": false,
    "ExecuteTime": {
     "end_time": "2024-03-27T07:39:46.141587300Z",
     "start_time": "2024-03-27T07:39:45.359616Z"
    }
   },
   "id": "b90756549c23528c",
   "execution_count": 12
  },
  {
   "cell_type": "code",
   "outputs": [
    {
     "name": "stdout",
     "output_type": "stream",
     "text": [
      "(181, 1500, 300) (181,)\n"
     ]
    }
   ],
   "source": [
    "vocab = w2v_model.key_to_index\n",
    "padding = np.zeros(sys_params['emb_dim'], dtype='float32')\n",
    "\n",
    "vectors = []\n",
    "for sentence in posts:\n",
    "    vector = []\n",
    "    for tok in sentence:\n",
    "        if tok==sys_params['str_padd']:\n",
    "            vector.append(list(padding))\n",
    "        \n",
    "        elif tok in vocab:\n",
    "            vector.append(w2v_model[tok].astype(float).tolist())\n",
    "    \n",
    "        else:\n",
    "            vector.append(list(padding))\n",
    "    \n",
    "    vectors.append(vector)   \n",
    "    \n",
    "x_data, y_data = np.array(vectors), np.array ( labels )\n",
    "print ( x_data.shape, y_data.shape )\n"
   ],
   "metadata": {
    "collapsed": false,
    "ExecuteTime": {
     "end_time": "2024-03-27T07:40:01.433190700Z",
     "start_time": "2024-03-27T07:39:46.245274800Z"
    }
   },
   "id": "aad0986ce9f048b",
   "execution_count": 13
  },
  {
   "cell_type": "markdown",
   "source": [
    "## Save the Dataset"
   ],
   "metadata": {
    "collapsed": false
   },
   "id": "a2e695c47d8855be"
  },
  {
   "cell_type": "code",
   "outputs": [],
   "source": [
    "x_data_all = x_data.reshape(x_data.shape[0], x_data.shape[1], x_data.shape[2], 1)\n",
    "y_data_all = labels\n",
    "\n",
    "np.savez_compressed ( f'./data/smalldataset.npz', x=x_data_all, y=y_data_all )"
   ],
   "metadata": {
    "collapsed": false,
    "ExecuteTime": {
     "end_time": "2024-03-27T07:40:20.203035900Z",
     "start_time": "2024-03-27T07:40:01.424185800Z"
    }
   },
   "id": "f32eff9e11d2b0f2",
   "execution_count": 14
  },
  {
   "cell_type": "markdown",
   "source": [
    "## Load the Dataset"
   ],
   "metadata": {
    "collapsed": false
   },
   "id": "3ed97736eb8dd5db"
  },
  {
   "cell_type": "code",
   "outputs": [
    {
     "name": "stdout",
     "output_type": "stream",
     "text": [
      "(181, 1500, 300, 1) (181,)\n"
     ]
    }
   ],
   "source": [
    "dataset = np.load ( './data/smalldataset.npz' )\n",
    "x_data_all = dataset['x']\n",
    "y_data_all = dataset['y']\n",
    "y_data_df = pd.DataFrame ( dataset['y'] )\n",
    "print ( x_data_all.shape, y_data_all.shape )"
   ],
   "metadata": {
    "collapsed": false,
    "ExecuteTime": {
     "end_time": "2024-03-27T07:45:56.467775800Z",
     "start_time": "2024-03-27T07:45:52.991557800Z"
    }
   },
   "id": "ac038a76bffc9759",
   "execution_count": 17
  },
  {
   "cell_type": "markdown",
   "source": [
    "## Show the Model"
   ],
   "metadata": {
    "collapsed": false
   },
   "id": "71083e38cdb97590"
  },
  {
   "cell_type": "code",
   "outputs": [
    {
     "data": {
      "image/png": "[encoded data removed]",
      "text/plain": "<IPython.core.display.Image object>"
     },
     "execution_count": 15,
     "metadata": {},
     "output_type": "execute_result"
    }
   ],
   "source": [
    "model = get_keras_cnn_model()\n",
    "from keras.utils import plot_model\n",
    "plot_model(model, to_file='images/5category_cnn_model.png', show_shapes=True, show_layer_names=False)\n"
   ],
   "metadata": {
    "collapsed": false,
    "ExecuteTime": {
     "end_time": "2024-03-27T07:44:27.683844300Z",
     "start_time": "2024-03-27T07:44:27.394354300Z"
    }
   },
   "id": "2d4e5bbd43e4c80b",
   "execution_count": 15
  },
  {
   "cell_type": "markdown",
   "source": [
    "## Run the Model (simple)"
   ],
   "metadata": {
    "collapsed": false
   },
   "id": "80819be329a0b036"
  },
  {
   "cell_type": "code",
   "outputs": [
    {
     "name": "stdout",
     "output_type": "stream",
     "text": [
      "train: (135, 1500, 300, 1) (135, 1)\n",
      "test: (46, 1500, 300, 1) (46, 1)\n",
      "Epoch 1/3\n",
      "34/34 [==============================] - 6s 139ms/step - loss: 1.6156 - accuracy: 0.3333\n",
      "Epoch 2/3\n",
      "34/34 [==============================] - 5s 151ms/step - loss: 1.4393 - accuracy: 0.3630\n",
      "Epoch 3/3\n",
      "34/34 [==============================] - 5s 139ms/step - loss: 1.3084 - accuracy: 0.4370\n",
      "2/2 [==============================] - 1s 130ms/step\n",
      "\n",
      "Precision: 0.594\t Recall: 0.576\t F1-Score: 0.585\n"
     ]
    },
    {
     "data": {
      "text/plain": "<Figure size 640x480 with 2 Axes>",
      "image/png": "[encoded data removed]"
     },
     "metadata": {},
     "output_type": "display_data"
    }
   ],
   "source": [
    "x_train, x_test, y_train, y_test = train_test_split( x_data_all , y_data_df, test_size=0.25)\n",
    "print ( 'train:', x_train.shape, y_train.shape )\n",
    "print ( 'test:', x_test.shape, y_test.shape )\n",
    "\n",
    "epochs = 3 #cnn_params['epoch']\n",
    "cnn_model = get_keras_cnn_model()\n",
    "cnn_model.fit(x=x_train, y=to_categorical(y_train), batch_size=4, epochs=epochs, verbose=1)\n",
    "\n",
    "y_pred = cnn_model.predict(x_test)\n",
    "y_pred = np.argmax(y_pred, axis=-1) ## find the classifier with the highest probability\n",
    "y_true = y_test.values\n",
    "\n",
    "precision, recall, f1 = get_prf1_score(y_true, y_pred)\n",
    "print ('\\nPrecision: {0}\\t Recall: {1}\\t F1-Score: {2}'\\\n",
    "    .format(round(precision,3), round(recall,3), round(f1,3)))\n",
    "\n",
    "ConfusionMatrixDisplay(confusion_matrix ( y_true, y_pred ), \n",
    "          display_labels=list(severity_classes.keys()) )\\\n",
    "  .plot(cmap=plt.cm.Blues);"
   ],
   "metadata": {
    "collapsed": false,
    "ExecuteTime": {
     "end_time": "2024-03-27T08:24:55.625825Z",
     "start_time": "2024-03-27T08:24:38.479180700Z"
    }
   },
   "id": "750b0c73c95973f2",
   "execution_count": 35
  },
  {
   "cell_type": "markdown",
   "source": [
    "## Run the Model (KFold Cross Validation)"
   ],
   "metadata": {
    "collapsed": false
   },
   "id": "818d09ab5ea74953"
  },
  {
   "cell_type": "code",
   "outputs": [
    {
     "name": "stdout",
     "output_type": "stream",
     "text": [
      "\n",
      "Running Stratified Cross Validation: 1/5...\n",
      "36/36 [==============================] - 6s 139ms/step - loss: 1.5871 - accuracy: 0.3194\n",
      "2/2 [==============================] - 0s 48ms/step\n",
      "[0 2 3 4 2 0 0 2 0 2 1 0 3 2 2 3 2 3 4 2 0 2 2 0 4 1 2 2 2 3 3 1 3 1 3 1 1] [2 2 2 2 2 2 2 2 2 2 2 2 2 2 2 2 2 2 2 2 2 2 2 2 2 2 2 2 2 2 2 2 2 2 2 2 2]\n",
      "\n",
      "Precision: 0.5\t Recall: 0.542\t F1-Score: 0.52\n",
      "\n",
      "Running Stratified Cross Validation: 2/5...\n",
      "37/37 [==============================] - 6s 135ms/step - loss: 1.5601 - accuracy: 0.3172\n",
      "2/2 [==============================] - 0s 49ms/step\n",
      "[4 0 4 0 2 2 2 0 0 2 4 2 2 4 2 0 0 2 2 2 0 2 2 3 2 3 3 3 3 1 3 3 1 1 1 1] [2 2 2 2 2 2 2 2 2 2 2 2 2 2 2 2 2 2 2 2 2 2 2 2 2 2 2 2 2 2 2 2 2 2 2 2]\n",
      "\n",
      "Precision: 0.52\t Recall: 0.542\t F1-Score: 0.531\n",
      "\n",
      "Running Stratified Cross Validation: 3/5...\n",
      "37/37 [==============================] - 7s 142ms/step - loss: 1.5729 - accuracy: 0.3448\n",
      "2/2 [==============================] - 0s 42ms/step\n",
      "[4 4 2 0 2 0 0 2 0 2 0 2 4 2 3 0 0 4 2 3 3 3 2 2 3 3 3 2 2 2 2 1 1 1 1 1] [2 2 2 2 2 2 2 2 2 2 2 2 2 2 2 2 2 2 2 2 2 2 2 2 2 2 2 2 2 2 2 2 2 2 2 2]\n",
      "\n",
      "Precision: 0.52\t Recall: 0.542\t F1-Score: 0.531\n",
      "\n",
      "Running Stratified Cross Validation: 4/5...\n",
      "37/37 [==============================] - 7s 151ms/step - loss: 1.5692 - accuracy: 0.3517\n",
      "2/2 [==============================] - 1s 39ms/step\n",
      "[4 3 0 3 3 2 3 4 0 2 2 2 2 0 2 2 3 4 2 2 2 2 2 3 0 3 2 0 0 1 1 1 0 1 1 1] [2 2 2 2 2 2 2 2 2 2 2 2 2 2 2 2 2 2 2 2 2 2 2 2 2 2 2 2 2 2 2 2 2 2 2 2]\n",
      "\n",
      "Precision: 0.5\t Recall: 0.565\t F1-Score: 0.531\n",
      "\n",
      "Running Stratified Cross Validation: 5/5...\n",
      "37/37 [==============================] - 6s 142ms/step - loss: 1.5591 - accuracy: 0.3517\n",
      "2/2 [==============================] - 0s 47ms/step\n",
      "[3 3 2 2 4 2 3 4 3 2 1 3 0 2 1 2 2 0 0 1 0 4 0 2 0 1 1 2 2 3 1 3 2 2 2 2] [2 2 2 2 2 2 2 2 2 2 2 2 2 2 2 2 2 2 2 2 2 2 2 2 2 2 2 2 2 2 2 2 2 2 2 2]\n",
      "\n",
      "Precision: 0.538\t Recall: 0.583\t F1-Score: 0.56\n"
     ]
    },
    {
     "data": {
      "text/plain": "         Precision    Recall        F1\nI                                     \n1         0.500000  0.541667  0.520000\n2         0.520000  0.541667  0.530612\n3         0.520000  0.541667  0.530612\n4         0.500000  0.565217  0.530612\n5         0.538462  0.583333  0.560000\nAverage   0.515692  0.554710  0.534367",
      "text/html": "<div>\n<style scoped>\n    .dataframe tbody tr th:only-of-type {\n        vertical-align: middle;\n    }\n\n    .dataframe tbody tr th {\n        vertical-align: top;\n    }\n\n    .dataframe thead th {\n        text-align: right;\n    }\n</style>\n<table border=\"1\" class=\"dataframe\">\n  <thead>\n    <tr style=\"text-align: right;\">\n      <th></th>\n      <th>Precision</th>\n      <th>Recall</th>\n      <th>F1</th>\n    </tr>\n    <tr>\n      <th>I</th>\n      <th></th>\n      <th></th>\n      <th></th>\n    </tr>\n  </thead>\n  <tbody>\n    <tr>\n      <th>1</th>\n      <td>0.500000</td>\n      <td>0.541667</td>\n      <td>0.520000</td>\n    </tr>\n    <tr>\n      <th>2</th>\n      <td>0.520000</td>\n      <td>0.541667</td>\n      <td>0.530612</td>\n    </tr>\n    <tr>\n      <th>3</th>\n      <td>0.520000</td>\n      <td>0.541667</td>\n      <td>0.530612</td>\n    </tr>\n    <tr>\n      <th>4</th>\n      <td>0.500000</td>\n      <td>0.565217</td>\n      <td>0.530612</td>\n    </tr>\n    <tr>\n      <th>5</th>\n      <td>0.538462</td>\n      <td>0.583333</td>\n      <td>0.560000</td>\n    </tr>\n    <tr>\n      <th>Average</th>\n      <td>0.515692</td>\n      <td>0.554710</td>\n      <td>0.534367</td>\n    </tr>\n  </tbody>\n</table>\n</div>"
     },
     "metadata": {},
     "output_type": "display_data"
    }
   ],
   "source": [
    "epochs=1\n",
    "scores = []\n",
    "\n",
    "skf = StratifiedKFold(n_splits=sys_params['cross_val'])\n",
    "skf.get_n_splits(x_data_all, y_data_all)\n",
    "\n",
    "\n",
    "for cv_count, (train_index, test_index) in enumerate(skf.split(x_data_all, y_data_all), start=1):\n",
    "    print ('\\nRunning Stratified Cross Validation: {0}/{1}...'.format(cv_count, sys_params['cross_val']))\n",
    "\n",
    "    x_train, x_test = x_data_all[train_index], x_data_all[test_index]\n",
    "    y_train, y_test = y_data_all[train_index], y_data_all[test_index]\n",
    "\n",
    "    cnn_model = get_keras_cnn_model()\n",
    "    cnn_model.fit(x=x_train, y=to_categorical(y_train), batch_size=4, epochs=epochs, verbose=1)\n",
    "    \n",
    "    y_pred = cnn_model.predict(x_test)\n",
    "    y_pred = np.argmax(y_pred, axis=-1)\n",
    "    y_true = y_test\n",
    "\n",
    "    precision, recall, f1 = get_prf1_score(y_true, y_pred)\n",
    "    print ('\\nPrecision: {0}\\t Recall: {1}\\t F1-Score: {2}'\\\n",
    "        .format(round(precision,3), round(recall,3), round(f1,3)))\n",
    "\n",
    "    scores.append({'I':cv_count, 'Precision':precision, 'Recall':recall, 'F1':f1})\n",
    "\n",
    "sumdf = pd.DataFrame ( scores ).set_index('I')\n",
    "sumdf.loc['Average'] = sumdf.mean()\n",
    "display ( sumdf )\n",
    "\n",
    "# print ('\\nAverage Precision: {0}\\t Recall: {1}\\t F1-Score: {2}'\\\n",
    "#        .format(round(sumdf.P.mean(),3), round(sumdf.R.mean(),3), round(sumdf.F.mean(),3)))\n"
   ],
   "metadata": {
    "collapsed": false,
    "ExecuteTime": {
     "end_time": "2024-03-27T08:22:31.331792600Z",
     "start_time": "2024-03-27T08:21:54.200631400Z"
    }
   },
   "id": "397dd2ef261feea9",
   "execution_count": 33
  },
  {
   "cell_type": "markdown",
   "source": [
    "## Improved Model"
   ],
   "metadata": {
    "collapsed": false
   },
   "id": "1cc7593afd6cae05"
  },
  {
   "cell_type": "code",
   "outputs": [
    {
     "name": "stdout",
     "output_type": "stream",
     "text": [
      "train: (135, 1500, 300, 1) (135, 1)\n",
      "test: (46, 1500, 300, 1) (46, 1)\n"
     ]
    }
   ],
   "source": [
    "x_train, x_test, y_train, y_test = train_test_split( x_data_all , y_data_df, test_size=0.25)\n",
    "print ( 'train:', x_train.shape, y_train.shape )\n",
    "print ( 'test:', x_test.shape, y_test.shape )"
   ],
   "metadata": {
    "collapsed": false,
    "ExecuteTime": {
     "end_time": "2024-03-27T07:53:55.857433300Z",
     "start_time": "2024-03-27T07:53:55.657483Z"
    }
   },
   "id": "e77678f234323acd",
   "execution_count": 26
  },
  {
   "cell_type": "code",
   "outputs": [
    {
     "name": "stdout",
     "output_type": "stream",
     "text": [
      "Epoch 1/5\n",
      "34/34 [==============================] - 6s 138ms/step - loss: 1.5787 - accuracy: 0.3407\n",
      "Epoch 2/5\n",
      "34/34 [==============================] - 5s 146ms/step - loss: 1.4016 - accuracy: 0.4222\n",
      "Epoch 3/5\n",
      "34/34 [==============================] - 5s 142ms/step - loss: 1.2537 - accuracy: 0.5407\n",
      "Epoch 4/5\n",
      "34/34 [==============================] - 5s 143ms/step - loss: 1.0663 - accuracy: 0.6593\n",
      "Epoch 5/5\n",
      "34/34 [==============================] - 5s 136ms/step - loss: 0.8929 - accuracy: 0.8000\n",
      "WARNING:tensorflow:5 out of the last 9 calls to <function Model.make_predict_function.<locals>.predict_function at 0x000001B2244BE2A0> triggered tf.function retracing. Tracing is expensive and the excessive number of tracings could be due to (1) creating @tf.function repeatedly in a loop, (2) passing tensors with different shapes, (3) passing Python objects instead of tensors. For (1), please define your @tf.function outside of the loop. For (2), @tf.function has reduce_retracing=True option that can avoid unnecessary retracing. For (3), please refer to https://www.tensorflow.org/guide/function#controlling_retracing and https://www.tensorflow.org/api_docs/python/tf/function for  more details.\n",
      "2/2 [==============================] - 1s 143ms/step\n"
     ]
    },
    {
     "data": {
      "text/plain": "<Figure size 640x480 with 2 Axes>",
      "image/png": "[encoded data removed]"
     },
     "metadata": {},
     "output_type": "display_data"
    }
   ],
   "source": [
    "epochs = 5\n",
    "input_shape = (1500,300,1)\n",
    "input = Input(shape=input_shape, dtype='float32')\n",
    "conv_layers = []\n",
    "for filter in [3,4,5]:\n",
    "    conv2d = Conv2D(filters=100, kernel_size=(filter, 300), strides=(1, 300),\n",
    "                    padding='same', data_format='channels_last', input_shape=input_shape,\n",
    "                    activation='relu')(input)\n",
    "    conv_layers.append ( MaxPool2D(pool_size=(1500, 1))(conv2d) )\n",
    "\n",
    "l_concat = Concatenate(axis=1)(conv_layers)\n",
    "l_flat = Flatten()(l_concat)\n",
    "l_drop = Dropout(rate=0.3, name='flat_drop')(l_flat)\n",
    "output = Dense(units=5, activation='softmax', name='cnn_op')(l_drop)\n",
    "\n",
    "m = Model(input, output)\n",
    "m.compile(optimizer=Adam(learning_rate=0.001), loss='categorical_crossentropy', metrics=['accuracy'])\n",
    "m.fit(x=x_train, y=to_categorical(y_train), batch_size=4, epochs=epochs, verbose=1)\n",
    "\n",
    "y_pred = m.predict(x_test)\n",
    "y_pred = np.argmax(y_pred, axis=-1) ## find the predicted classifier with the highest probability\n",
    "y_true = y_test.values ## convert back to numpy\n",
    "\n",
    "ConfusionMatrixDisplay(confusion_matrix ( y_true, y_pred ),\n",
    "          display_labels=list(severity_classes.keys()) )\\\n",
    "  .plot(cmap=plt.cm.Blues);\n"
   ],
   "metadata": {
    "collapsed": false,
    "ExecuteTime": {
     "end_time": "2024-03-27T07:54:23.186912300Z",
     "start_time": "2024-03-27T07:53:56.355434100Z"
    }
   },
   "id": "19d7e61152ce4fff",
   "execution_count": 27
  },
  {
   "cell_type": "code",
   "outputs": [],
   "source": [],
   "metadata": {
    "collapsed": false
   },
   "id": "f6fa0e3043e8ee5d"
  }
 ],
 "metadata": {
  "kernelspec": {
   "display_name": "Python 3",
   "language": "python",
   "name": "python3"
  },
  "language_info": {
   "codemirror_mode": {
    "name": "ipython",
    "version": 2
   },
   "file_extension": ".py",
   "mimetype": "text/x-python",
   "name": "python",
   "nbconvert_exporter": "python",
   "pygments_lexer": "ipython2",
   "version": "2.7.6"
  }
 },
 "nbformat": 4,
 "nbformat_minor": 5
}
