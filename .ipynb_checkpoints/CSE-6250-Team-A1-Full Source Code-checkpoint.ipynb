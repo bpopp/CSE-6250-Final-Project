{
 "cells": [
  {
   "cell_type": "markdown",
   "id": "94af8a1c1222adc8",
   "metadata": {
    "collapsed": false,
    "jupyter": {
     "outputs_hidden": false
    }
   },
   "source": [
    "# Full Source Code\n",
    "This notebook is a complete rewrite of the original source and provides improvements in order to streamline, modify, and simplify the build process. Full validation and optimization of the original models will be included."
   ]
  },
  {
   "cell_type": "markdown",
   "id": "29a8a8d72ee5dcab",
   "metadata": {
    "collapsed": false,
    "jupyter": {
     "outputs_hidden": false
    }
   },
   "source": [
    "**GT CSE 6250 Spring Project**\n",
    "Team A1: Brian Popp, bpopp7@gatech.edu, Danielle Velott, dvellot3@gatech.edu\n"
   ]
  },
  {
   "cell_type": "code",
   "execution_count": 1,
   "id": "ab31492270c2c5cd",
   "metadata": {
    "ExecuteTime": {
     "end_time": "2024-04-12T18:24:29.315185Z",
     "start_time": "2024-04-12T18:24:29.307064Z"
    },
    "collapsed": false,
    "jupyter": {
     "outputs_hidden": false
    }
   },
   "outputs": [
    {
     "name": "stdout",
     "output_type": "stream",
     "text": [
      "WARNING:tensorflow:From C:\\Program Files\\Python311\\Lib\\site-packages\\keras\\src\\losses.py:2976: The name tf.losses.sparse_softmax_cross_entropy is deprecated. Please use tf.compat.v1.losses.sparse_softmax_cross_entropy instead.\n",
      "\n"
     ]
    },
    {
     "name": "stderr",
     "output_type": "stream",
     "text": [
      "[nltk_data] Downloading package punkt to\n",
      "[nltk_data]     C:\\Users\\bpopp\\AppData\\Roaming\\nltk_data...\n",
      "[nltk_data]   Package punkt is already up-to-date!\n"
     ]
    }
   ],
   "source": [
    "# GT CSE 6250 Spring Project\n",
    "# Team A1: Brian Popp, bpopp7@gatech.edu, Danielle Velott, dvellot3@gatech.edu\n",
    "import os\n",
    "import string\n",
    "from nltk import word_tokenize\n",
    "from gensim.models import KeyedVectors, Word2Vec\n",
    "import numpy as np\n",
    "\n",
    "from keras.utils import to_categorical\n",
    "from keras.models import Sequential, Model\n",
    "from keras.layers import Dense, Dropout, Flatten, Activation, Input, MaxPool2D\n",
    "from keras.layers import Conv2D, GlobalAveragePooling1D, MaxPooling2D\n",
    "from keras.layers import Concatenate\n",
    "from keras.optimizers import Adam\n",
    "\n",
    "from sklearn.model_selection import train_test_split\n",
    "from sklearn.metrics import classification_report, confusion_matrix, ConfusionMatrixDisplay\n",
    "from sklearn.model_selection import StratifiedKFold\n",
    "from sklearn.svm import SVC, LinearSVC\n",
    "\n",
    "## our imports\n",
    "import pandas as pd\n",
    "import re\n",
    "from itertools import chain, repeat, islice\n",
    "import requests\n",
    "import matplotlib.pyplot as plt\n",
    "import io\n",
    "\n",
    "import nltk\n",
    "nltk.download('punkt')\n",
    "\n",
    "## utility functions\n",
    "def pad_infinite(iterable, padding=None):\n",
    "   return chain(iterable, repeat(padding))\n",
    "\n",
    "def pad(iterable, size, padding=None):\n",
    "   return islice(pad_infinite(iterable, padding), size)"
   ]
  },
  {
   "cell_type": "code",
   "execution_count": 2,
   "id": "96ae94470d964fc4",
   "metadata": {
    "ExecuteTime": {
     "end_time": "2024-04-12T18:24:33.410212Z",
     "start_time": "2024-04-12T18:24:33.403194Z"
    },
    "collapsed": false,
    "jupyter": {
     "outputs_hidden": false
    }
   },
   "outputs": [],
   "source": [
    "## Using the same variable declarations and configuration options as the original study\n",
    "ip_txt_file = './data/500_Reddit_users_posts_labels.csv'  # CSV file: \"User\", \"Post\", \"Label\"\n",
    "ip_feat_file = './data/External_Features.csv'             # CSV file: \"User\", \"Features\"\n",
    "limit_rows = 500   ## used to build a partial dataset\n",
    "\n",
    "w2v_file = {'file': './out/numberbatch-en-19.08.txt.gz', \n",
    "            'is_binary': False, \n",
    "            'limit': None, \n",
    "            'cache': './out/vectors.kv', \n",
    "            'source':'https://conceptnet.s3.amazonaws.com/downloads/2019/numberbatch/numberbatch-en-19.08.txt.gz' }\n",
    "\n",
    "op_file = './out/Result_5-Label_Classification.tsv'\n",
    "severity_classes = {'Supportive': 0, 'Indicator': 1, 'Ideation': 2, 'Behavior': 3, 'Attempt': 4}\n",
    "\n",
    "sys_params = {'emb_dim': 300,\n",
    "              'max_sent_len': 1500,\n",
    "              'str_padd': '@PADD',\n",
    "              'cross_val': 5}\n",
    "\n",
    "cnn_params = {'no_filters': 100,\n",
    "              'kernels': [3, 4, 5],\n",
    "              'channel': 1,\n",
    "              'c_stride': (1, sys_params['emb_dim']),\n",
    "              'pad': 'same',\n",
    "              'ip_shape': (sys_params['max_sent_len'], sys_params['emb_dim'], 1),\n",
    "              'c_activ': 'relu',\n",
    "              'drop_rate': 0.3,\n",
    "              'dense_1_unit': 128,\n",
    "              'dense_2_unit': 128,\n",
    "              'dense_activ': 'relu',\n",
    "              'op_unit': 5,             # 5-Label classification\n",
    "              'op_activ': 'softmax',\n",
    "              'l_rate': 0.001,\n",
    "              'loss': 'categorical_crossentropy',\n",
    "              'batch': 4,\n",
    "              'epoch': 50,\n",
    "              'verbose': 1}\n",
    "\n",
    "intermediate_layer = 'flat_drop'    # for extracting features from CNN"
   ]
  },
  {
   "cell_type": "code",
   "execution_count": 66,
   "id": "abac5a9dc1eb9893",
   "metadata": {
    "ExecuteTime": {
     "end_time": "2024-04-12T18:24:35.285143Z",
     "start_time": "2024-04-12T18:24:35.276018Z"
    },
    "collapsed": false,
    "jupyter": {
     "outputs_hidden": false
    }
   },
   "outputs": [
    {
     "data": {
      "image/png": "[encoded data removed]",
      "text/plain": [
       "<Figure size 600x400 with 1 Axes>"
      ]
     },
     "metadata": {},
     "output_type": "display_data"
    }
   ],
   "source": [
    "def get_keras_cnn_model():\n",
    "\n",
    "    input = Input(shape=(sys_params['max_sent_len'], sys_params['emb_dim'], 1), dtype='float32')\n",
    "    \n",
    "    conv_layers = []\n",
    "    for filter in cnn_params['kernels']:\n",
    "        conv2d = Conv2D(filters=cnn_params['no_filters'], kernel_size=(filter, sys_params['emb_dim']), strides=cnn_params['c_stride'],\n",
    "                        padding=cnn_params['pad'], data_format='channels_last', input_shape=cnn_params['ip_shape'],\n",
    "                        activation=cnn_params['c_activ'])(input)\n",
    "        l_pool = MaxPool2D(pool_size=(sys_params['max_sent_len'], 1))(conv2d)\n",
    "        conv_layers.append(l_pool)\n",
    "        \n",
    "    l_concat = Concatenate(axis=1)(conv_layers)\n",
    "    l_flat = Flatten()(l_concat)\n",
    "    l_drop = Dropout(rate=cnn_params['drop_rate'], name='flat_drop')(l_flat)\n",
    "    output = Dense(units=cnn_params['op_unit'], activation=cnn_params['op_activ'], name='cnn_op')(l_drop)\n",
    "    \n",
    "    final_model = Model(input, output)\n",
    "    final_model.compile(optimizer=Adam(learning_rate=cnn_params['l_rate']), loss=cnn_params['loss'], metrics=['accuracy'])   \n",
    "    \n",
    "    return final_model\n",
    "\n",
    "def get_prf1_score(y_true, y_pred):\n",
    "    tp, fp, fn = 0.0, 0.0, 0.0\n",
    "    for i in range(len(y_pred)):\n",
    "        if y_pred[i] == y_true[i]:\n",
    "            tp += 1\n",
    "        elif y_pred[i] > y_true[i]:\n",
    "            fp += 1\n",
    "        else:\n",
    "            fn += 1\n",
    "    if tp == 0:\n",
    "        tp = 1.0\n",
    "    if fp == 0:\n",
    "        fp = 1.0\n",
    "    if fn == 0:\n",
    "        fn  = 1.0\n",
    "    P = tp / (tp + fp)\n",
    "    R = tp / (tp + fn)\n",
    "    F = 2 * P * R / (P + R)\n",
    "    return P, R, F\n",
    "\n",
    "def get_confusion_matrix ( y_true, y_pred, labels = ['SU','IN','ID','BR','AT'], ax=None ):\n",
    "    if ax is None:\n",
    "        fig, ax = plt.subplots ( figsize=(6,4) )\n",
    "    \n",
    "    font = {'family' : 'Calibri',\n",
    "        'weight' : 'normal',\n",
    "        'size'   : 18}\n",
    "    plt.rc('font', **font)\n",
    "    \n",
    "    ConfusionMatrixDisplay.from_predictions( y_true, y_pred, display_labels=labels, ax=ax, cmap=plt.cm.Blues, colorbar=False );\n",
    "    ax.set_xlabel ( '' );\n",
    "    ax.set_ylabel ( '' );\n",
    "    ax.tick_params(axis='x', labelrotation=45);\n",
    "    ax.spines['bottom'].set_color(None);\n",
    "    ax.spines['top'].set_color(None);\n",
    "    ax.spines['right'].set_color(None);\n",
    "    ax.spines['left'].set_color(None);\n",
    "\n",
    "    return ax;\n",
    "\n",
    "get_confusion_matrix ( y_true, y_pred );"
   ]
  },
  {
   "cell_type": "markdown",
   "id": "7bd279f28ea151cd",
   "metadata": {
    "collapsed": false,
    "jupyter": {
     "outputs_hidden": false
    }
   },
   "source": [
    "## Primary Dataset\n",
    "The study's primary dataset is 500 rows of de-identified social media posts discussing various aspects of self-destructive behavior. Each row has a user id, the text of the post, and a label describing how the post was manually classified.      "
   ]
  },
  {
   "cell_type": "code",
   "execution_count": 8,
   "id": "a61a91470b2f4a5c",
   "metadata": {
    "ExecuteTime": {
     "end_time": "2024-04-12T02:57:47.537695Z",
     "start_time": "2024-04-12T02:57:47.500162Z"
    },
    "collapsed": false,
    "jupyter": {
     "outputs_hidden": false
    }
   },
   "outputs": [
    {
     "name": "stdout",
     "output_type": "stream",
     "text": [
      "Rows: 500, Columns: 3\n"
     ]
    }
   ],
   "source": [
    "df = pd.read_csv ( ip_txt_file ).loc[:limit_rows]\n",
    "\n",
    "# display ( df.groupby('Label').sample(1)[::-1] )\n",
    "print ( f'Rows: {df.shape[0]}, Columns: {df.shape[1]}')"
   ]
  },
  {
   "cell_type": "markdown",
   "id": "e50f24a6929889cd",
   "metadata": {
    "collapsed": false,
    "jupyter": {
     "outputs_hidden": false
    }
   },
   "source": [
    "## Cleanup\n",
    "The original study provided code to do the word tokenization, but it was based on an older version of python and honestly wasn't very efficient. We've cleaned this up a bit by converting to pandas and using more pythonic transformations. "
   ]
  },
  {
   "cell_type": "code",
   "execution_count": 9,
   "id": "20de4fe89ce51b49",
   "metadata": {
    "ExecuteTime": {
     "end_time": "2024-04-12T03:01:27.054325Z",
     "start_time": "2024-04-12T03:01:24.817929Z"
    },
    "collapsed": false,
    "jupyter": {
     "outputs_hidden": false
    }
   },
   "outputs": [
    {
     "name": "stdout",
     "output_type": "stream",
     "text": [
      "labels: [0 2 3 4 2]\n",
      "posts:  [['its' 'not' 'a' ... '@PADD' '@PADD' '@PADD']\n",
      " ['it' 'can' 'be' ... 'my' 'studies' 'and']\n",
      " ['hi' 'so' 'last' ... '@PADD' '@PADD' '@PADD']\n",
      " ['i' 'tried' 'to' ... '@PADD' '@PADD' '@PADD']\n",
      " ['hi' 'nem3030' 'what' ... '@PADD' '@PADD' '@PADD']]\n"
     ]
    }
   ],
   "source": [
    "df['post_clean'] = df.Post.str.lower() # convert to lowercase\n",
    "df['post_clean'] = df.post_clean.str.replace(\"/[^ -~]+/g\",\"\", regex=True) ## remove non-printable\n",
    "df[\"post_clean\"] = df.post_clean.str.replace('[^\\w\\s]','', regex=True) ## remove punctuation\n",
    "df[\"post_clean\"] = df.post_clean.apply(word_tokenize) ## tokenize\n",
    "df[\"post_clean\"] = df.post_clean[:sys_params['max_sent_len']] # limit length\n",
    "df[\"post_clean\"] = df.post_clean.apply ( lambda x : list(pad(x, sys_params['max_sent_len'], sys_params['str_padd']))) ## pad list\n",
    "\n",
    "df['LabelCode'] = df.Label.map ( severity_classes ) ## map labels to codes\n",
    "\n",
    "labels = np.array (df.LabelCode.values)\n",
    "print ( 'labels:', labels[:5] )\n",
    "\n",
    "posts = np.array(df.post_clean.values.tolist())\n",
    "print ( 'posts: ', posts[:5] )"
   ]
  },
  {
   "cell_type": "code",
   "execution_count": 10,
   "id": "e16d5734eb8ef579",
   "metadata": {
    "ExecuteTime": {
     "end_time": "2024-04-12T03:01:40.598898Z",
     "start_time": "2024-04-12T03:01:40.430404Z"
    }
   },
   "outputs": [
    {
     "data": {
      "text/html": [
       "<div>\n",
       "<style scoped>\n",
       "    .dataframe tbody tr th:only-of-type {\n",
       "        vertical-align: middle;\n",
       "    }\n",
       "\n",
       "    .dataframe tbody tr th {\n",
       "        vertical-align: top;\n",
       "    }\n",
       "\n",
       "    .dataframe thead th {\n",
       "        text-align: right;\n",
       "    }\n",
       "</style>\n",
       "<table border=\"1\" class=\"dataframe\">\n",
       "  <thead>\n",
       "    <tr style=\"text-align: right;\">\n",
       "      <th></th>\n",
       "      <th>0</th>\n",
       "      <th>1</th>\n",
       "      <th>2</th>\n",
       "      <th>3</th>\n",
       "      <th>4</th>\n",
       "      <th>5</th>\n",
       "      <th>6</th>\n",
       "      <th>7</th>\n",
       "      <th>8</th>\n",
       "      <th>9</th>\n",
       "      <th>...</th>\n",
       "      <th>1490</th>\n",
       "      <th>1491</th>\n",
       "      <th>1492</th>\n",
       "      <th>1493</th>\n",
       "      <th>1494</th>\n",
       "      <th>1495</th>\n",
       "      <th>1496</th>\n",
       "      <th>1497</th>\n",
       "      <th>1498</th>\n",
       "      <th>1499</th>\n",
       "    </tr>\n",
       "  </thead>\n",
       "  <tbody>\n",
       "    <tr>\n",
       "      <th>0</th>\n",
       "      <td>its</td>\n",
       "      <td>not</td>\n",
       "      <td>a</td>\n",
       "      <td>viable</td>\n",
       "      <td>option</td>\n",
       "      <td>and</td>\n",
       "      <td>youll</td>\n",
       "      <td>be</td>\n",
       "      <td>leaving</td>\n",
       "      <td>your</td>\n",
       "      <td>...</td>\n",
       "      <td>@PADD</td>\n",
       "      <td>@PADD</td>\n",
       "      <td>@PADD</td>\n",
       "      <td>@PADD</td>\n",
       "      <td>@PADD</td>\n",
       "      <td>@PADD</td>\n",
       "      <td>@PADD</td>\n",
       "      <td>@PADD</td>\n",
       "      <td>@PADD</td>\n",
       "      <td>@PADD</td>\n",
       "    </tr>\n",
       "    <tr>\n",
       "      <th>1</th>\n",
       "      <td>it</td>\n",
       "      <td>can</td>\n",
       "      <td>be</td>\n",
       "      <td>hard</td>\n",
       "      <td>to</td>\n",
       "      <td>appreciate</td>\n",
       "      <td>the</td>\n",
       "      <td>notion</td>\n",
       "      <td>that</td>\n",
       "      <td>you</td>\n",
       "      <td>...</td>\n",
       "      <td>beautiful</td>\n",
       "      <td>new</td>\n",
       "      <td>gal</td>\n",
       "      <td>am</td>\n",
       "      <td>progressing</td>\n",
       "      <td>well</td>\n",
       "      <td>in</td>\n",
       "      <td>my</td>\n",
       "      <td>studies</td>\n",
       "      <td>and</td>\n",
       "    </tr>\n",
       "    <tr>\n",
       "      <th>2</th>\n",
       "      <td>hi</td>\n",
       "      <td>so</td>\n",
       "      <td>last</td>\n",
       "      <td>night</td>\n",
       "      <td>i</td>\n",
       "      <td>was</td>\n",
       "      <td>sitting</td>\n",
       "      <td>on</td>\n",
       "      <td>the</td>\n",
       "      <td>ledge</td>\n",
       "      <td>...</td>\n",
       "      <td>@PADD</td>\n",
       "      <td>@PADD</td>\n",
       "      <td>@PADD</td>\n",
       "      <td>@PADD</td>\n",
       "      <td>@PADD</td>\n",
       "      <td>@PADD</td>\n",
       "      <td>@PADD</td>\n",
       "      <td>@PADD</td>\n",
       "      <td>@PADD</td>\n",
       "      <td>@PADD</td>\n",
       "    </tr>\n",
       "    <tr>\n",
       "      <th>3</th>\n",
       "      <td>i</td>\n",
       "      <td>tried</td>\n",
       "      <td>to</td>\n",
       "      <td>kill</td>\n",
       "      <td>my</td>\n",
       "      <td>self</td>\n",
       "      <td>once</td>\n",
       "      <td>and</td>\n",
       "      <td>failed</td>\n",
       "      <td>badly</td>\n",
       "      <td>...</td>\n",
       "      <td>@PADD</td>\n",
       "      <td>@PADD</td>\n",
       "      <td>@PADD</td>\n",
       "      <td>@PADD</td>\n",
       "      <td>@PADD</td>\n",
       "      <td>@PADD</td>\n",
       "      <td>@PADD</td>\n",
       "      <td>@PADD</td>\n",
       "      <td>@PADD</td>\n",
       "      <td>@PADD</td>\n",
       "    </tr>\n",
       "    <tr>\n",
       "      <th>4</th>\n",
       "      <td>hi</td>\n",
       "      <td>nem3030</td>\n",
       "      <td>what</td>\n",
       "      <td>sorts</td>\n",
       "      <td>of</td>\n",
       "      <td>things</td>\n",
       "      <td>do</td>\n",
       "      <td>you</td>\n",
       "      <td>enjoy</td>\n",
       "      <td>doing</td>\n",
       "      <td>...</td>\n",
       "      <td>@PADD</td>\n",
       "      <td>@PADD</td>\n",
       "      <td>@PADD</td>\n",
       "      <td>@PADD</td>\n",
       "      <td>@PADD</td>\n",
       "      <td>@PADD</td>\n",
       "      <td>@PADD</td>\n",
       "      <td>@PADD</td>\n",
       "      <td>@PADD</td>\n",
       "      <td>@PADD</td>\n",
       "    </tr>\n",
       "    <tr>\n",
       "      <th>...</th>\n",
       "      <td>...</td>\n",
       "      <td>...</td>\n",
       "      <td>...</td>\n",
       "      <td>...</td>\n",
       "      <td>...</td>\n",
       "      <td>...</td>\n",
       "      <td>...</td>\n",
       "      <td>...</td>\n",
       "      <td>...</td>\n",
       "      <td>...</td>\n",
       "      <td>...</td>\n",
       "      <td>...</td>\n",
       "      <td>...</td>\n",
       "      <td>...</td>\n",
       "      <td>...</td>\n",
       "      <td>...</td>\n",
       "      <td>...</td>\n",
       "      <td>...</td>\n",
       "      <td>...</td>\n",
       "      <td>...</td>\n",
       "      <td>...</td>\n",
       "    </tr>\n",
       "    <tr>\n",
       "      <th>495</th>\n",
       "      <td>its</td>\n",
       "      <td>not</td>\n",
       "      <td>the</td>\n",
       "      <td>end</td>\n",
       "      <td>it</td>\n",
       "      <td>just</td>\n",
       "      <td>feels</td>\n",
       "      <td>that</td>\n",
       "      <td>way</td>\n",
       "      <td>or</td>\n",
       "      <td>...</td>\n",
       "      <td>@PADD</td>\n",
       "      <td>@PADD</td>\n",
       "      <td>@PADD</td>\n",
       "      <td>@PADD</td>\n",
       "      <td>@PADD</td>\n",
       "      <td>@PADD</td>\n",
       "      <td>@PADD</td>\n",
       "      <td>@PADD</td>\n",
       "      <td>@PADD</td>\n",
       "      <td>@PADD</td>\n",
       "    </tr>\n",
       "    <tr>\n",
       "      <th>496</th>\n",
       "      <td>it</td>\n",
       "      <td>was</td>\n",
       "      <td>a</td>\n",
       "      <td>skype</td>\n",
       "      <td>call</td>\n",
       "      <td>but</td>\n",
       "      <td>she</td>\n",
       "      <td>ended</td>\n",
       "      <td>it</td>\n",
       "      <td>and</td>\n",
       "      <td>...</td>\n",
       "      <td>@PADD</td>\n",
       "      <td>@PADD</td>\n",
       "      <td>@PADD</td>\n",
       "      <td>@PADD</td>\n",
       "      <td>@PADD</td>\n",
       "      <td>@PADD</td>\n",
       "      <td>@PADD</td>\n",
       "      <td>@PADD</td>\n",
       "      <td>@PADD</td>\n",
       "      <td>@PADD</td>\n",
       "    </tr>\n",
       "    <tr>\n",
       "      <th>497</th>\n",
       "      <td>that</td>\n",
       "      <td>sounds</td>\n",
       "      <td>really</td>\n",
       "      <td>weirdmaybe</td>\n",
       "      <td>you</td>\n",
       "      <td>were</td>\n",
       "      <td>distractibility</td>\n",
       "      <td>with</td>\n",
       "      <td>something</td>\n",
       "      <td>it</td>\n",
       "      <td>...</td>\n",
       "      <td>them</td>\n",
       "      <td>tell</td>\n",
       "      <td>me</td>\n",
       "      <td>your</td>\n",
       "      <td>bad</td>\n",
       "      <td>qualities</td>\n",
       "      <td>i</td>\n",
       "      <td>think</td>\n",
       "      <td>youre</td>\n",
       "      <td>taking</td>\n",
       "    </tr>\n",
       "    <tr>\n",
       "      <th>498</th>\n",
       "      <td>dont</td>\n",
       "      <td>know</td>\n",
       "      <td>there</td>\n",
       "      <td>as</td>\n",
       "      <td>dumb</td>\n",
       "      <td>as</td>\n",
       "      <td>it</td>\n",
       "      <td>sounds</td>\n",
       "      <td>i</td>\n",
       "      <td>feel</td>\n",
       "      <td>...</td>\n",
       "      <td>@PADD</td>\n",
       "      <td>@PADD</td>\n",
       "      <td>@PADD</td>\n",
       "      <td>@PADD</td>\n",
       "      <td>@PADD</td>\n",
       "      <td>@PADD</td>\n",
       "      <td>@PADD</td>\n",
       "      <td>@PADD</td>\n",
       "      <td>@PADD</td>\n",
       "      <td>@PADD</td>\n",
       "    </tr>\n",
       "    <tr>\n",
       "      <th>499</th>\n",
       "      <td>gtit</td>\n",
       "      <td>gets</td>\n",
       "      <td>better</td>\n",
       "      <td>trust</td>\n",
       "      <td>meive</td>\n",
       "      <td>spent</td>\n",
       "      <td>long</td>\n",
       "      <td>enough</td>\n",
       "      <td>blindly</td>\n",
       "      <td>and</td>\n",
       "      <td>...</td>\n",
       "      <td>@PADD</td>\n",
       "      <td>@PADD</td>\n",
       "      <td>@PADD</td>\n",
       "      <td>@PADD</td>\n",
       "      <td>@PADD</td>\n",
       "      <td>@PADD</td>\n",
       "      <td>@PADD</td>\n",
       "      <td>@PADD</td>\n",
       "      <td>@PADD</td>\n",
       "      <td>@PADD</td>\n",
       "    </tr>\n",
       "  </tbody>\n",
       "</table>\n",
       "<p>500 rows × 1500 columns</p>\n",
       "</div>"
      ],
      "text/plain": [
       "     0        1       2           3       4           5                6     \\\n",
       "0     its      not       a      viable  option         and            youll   \n",
       "1      it      can      be        hard      to  appreciate              the   \n",
       "2      hi       so    last       night       i         was          sitting   \n",
       "3       i    tried      to        kill      my        self             once   \n",
       "4      hi  nem3030    what       sorts      of      things               do   \n",
       "..    ...      ...     ...         ...     ...         ...              ...   \n",
       "495   its      not     the         end      it        just            feels   \n",
       "496    it      was       a       skype    call         but              she   \n",
       "497  that   sounds  really  weirdmaybe     you        were  distractibility   \n",
       "498  dont     know   there          as    dumb          as               it   \n",
       "499  gtit     gets  better       trust   meive       spent             long   \n",
       "\n",
       "       7          8      9     ...       1490   1491   1492   1493  \\\n",
       "0        be    leaving   your  ...      @PADD  @PADD  @PADD  @PADD   \n",
       "1    notion       that    you  ...  beautiful    new    gal     am   \n",
       "2        on        the  ledge  ...      @PADD  @PADD  @PADD  @PADD   \n",
       "3       and     failed  badly  ...      @PADD  @PADD  @PADD  @PADD   \n",
       "4       you      enjoy  doing  ...      @PADD  @PADD  @PADD  @PADD   \n",
       "..      ...        ...    ...  ...        ...    ...    ...    ...   \n",
       "495    that        way     or  ...      @PADD  @PADD  @PADD  @PADD   \n",
       "496   ended         it    and  ...      @PADD  @PADD  @PADD  @PADD   \n",
       "497    with  something     it  ...       them   tell     me   your   \n",
       "498  sounds          i   feel  ...      @PADD  @PADD  @PADD  @PADD   \n",
       "499  enough    blindly    and  ...      @PADD  @PADD  @PADD  @PADD   \n",
       "\n",
       "            1494       1495   1496   1497     1498    1499  \n",
       "0          @PADD      @PADD  @PADD  @PADD    @PADD   @PADD  \n",
       "1    progressing       well     in     my  studies     and  \n",
       "2          @PADD      @PADD  @PADD  @PADD    @PADD   @PADD  \n",
       "3          @PADD      @PADD  @PADD  @PADD    @PADD   @PADD  \n",
       "4          @PADD      @PADD  @PADD  @PADD    @PADD   @PADD  \n",
       "..           ...        ...    ...    ...      ...     ...  \n",
       "495        @PADD      @PADD  @PADD  @PADD    @PADD   @PADD  \n",
       "496        @PADD      @PADD  @PADD  @PADD    @PADD   @PADD  \n",
       "497          bad  qualities      i  think    youre  taking  \n",
       "498        @PADD      @PADD  @PADD  @PADD    @PADD   @PADD  \n",
       "499        @PADD      @PADD  @PADD  @PADD    @PADD   @PADD  \n",
       "\n",
       "[500 rows x 1500 columns]"
      ]
     },
     "execution_count": 10,
     "metadata": {},
     "output_type": "execute_result"
    }
   ],
   "source": [
    "pd.DataFrame ( posts )"
   ]
  },
  {
   "cell_type": "code",
   "execution_count": 15,
   "id": "6f02d25a-8bec-4e80-8eb8-0d859057761f",
   "metadata": {},
   "outputs": [
    {
     "data": {
      "text/plain": [
       "array([0, 2, 3, 4, 2, 0, 0, 2, 0, 2, 1, 0, 3, 2, 2, 3, 2, 3, 4, 2, 0, 2,\n",
       "       2, 0, 4, 4, 1, 2, 2, 0, 4, 0, 2, 3, 3, 2, 2, 1, 2, 0, 0, 3, 2, 4,\n",
       "       2, 2, 4, 2, 4, 0, 0, 2, 2, 1, 2, 0, 3, 2, 2, 3, 2, 4, 2, 0, 1, 3,\n",
       "       3, 3, 1, 2, 3, 0, 0, 2, 1, 3, 0, 3, 1, 2, 0, 2, 4, 2, 3, 0, 0, 4,\n",
       "       2, 1, 3, 3, 3, 2, 2, 3, 3, 4, 3, 2, 2, 3, 2, 0, 1, 3, 2, 3, 2, 3,\n",
       "       4, 0, 2, 2, 1, 1, 2, 2, 1, 0, 1, 2, 2, 3, 4, 2, 2, 2, 1, 2, 2, 3,\n",
       "       0, 3, 3, 2, 3, 1, 0, 2, 0, 2, 4, 2, 3, 1, 1, 4, 3, 1, 0, 1, 1, 2,\n",
       "       1, 1, 3, 0, 2, 1, 2, 2, 0, 0, 1, 0, 4, 0, 2, 0, 1, 1, 2, 2, 3, 1,\n",
       "       3, 2, 2, 2, 2, 2, 3, 0, 2, 1, 1, 3, 2, 1, 2, 0, 4, 0, 1, 3, 3, 1,\n",
       "       0, 2, 3, 2, 0, 3, 2, 3, 0, 3, 0, 0, 3, 1, 2, 2, 1, 2, 2, 2, 4, 2,\n",
       "       2, 3, 2, 3, 3, 0, 2, 2, 1, 1, 0, 0, 3, 1, 2, 1, 0, 4, 4, 1, 2, 1,\n",
       "       2, 0, 0, 2, 2, 1, 2, 0, 2, 3, 2, 1, 4, 1, 3, 2, 1, 2, 0, 3, 0, 0,\n",
       "       1, 1, 1, 3, 1, 0, 1, 4, 2, 2, 4, 4, 2, 2, 3, 1, 1, 3, 3, 1, 2, 2,\n",
       "       3, 1, 1, 2, 0, 2, 4, 2, 1, 0, 0, 4, 2, 1, 2, 1, 2, 3, 0, 2, 2, 2,\n",
       "       1, 3, 4, 2, 2, 2, 3, 2, 2, 2, 1, 2, 2, 2, 2, 4, 1, 0, 1, 3, 0, 2,\n",
       "       2, 2, 2, 4, 3, 2, 4, 2, 3, 3, 4, 0, 0, 0, 1, 0, 3, 0, 2, 0, 0, 0,\n",
       "       0, 2, 0, 0, 1, 2, 1, 4, 2, 0, 0, 4, 2, 0, 4, 2, 1, 1, 0, 0, 1, 2,\n",
       "       1, 3, 1, 0, 4, 1, 2, 0, 0, 0, 1, 1, 2, 0, 4, 2, 1, 0, 1, 2, 2, 0,\n",
       "       0, 2, 0, 2, 3, 3, 1, 0, 0, 0, 2, 1, 1, 2, 2, 2, 2, 0, 2, 2, 2, 0,\n",
       "       1, 3, 1, 3, 2, 2, 2, 2, 1, 1, 0, 0, 2, 4, 4, 4, 2, 1, 4, 3, 2, 4,\n",
       "       2, 1, 1, 1, 0, 2, 2, 3, 0, 1, 2, 1, 1, 2, 0, 2, 2, 2, 1, 2, 0, 4,\n",
       "       2, 2, 3, 0, 1, 0, 0, 2, 0, 2, 1, 3, 2, 3, 1, 0, 0, 1, 1, 2, 0, 1,\n",
       "       2, 1, 3, 2, 2, 0, 4, 0, 0, 1, 0, 0, 1, 0, 4, 3], dtype=int64)"
      ]
     },
     "execution_count": 15,
     "metadata": {},
     "output_type": "execute_result"
    }
   ],
   "source": [
    "df.LabelCode.values"
   ]
  },
  {
   "cell_type": "markdown",
   "id": "261e0bc56e6517f6",
   "metadata": {
    "collapsed": false,
    "jupyter": {
     "outputs_hidden": false
    }
   },
   "source": [
    "## Vectorize\n",
    "Features are built by mapping word tokens to vectors of similar words. These similarities are taken from pre-built\n",
    "similarity vectors. For this study, the authors used a popular open-source project called ConceptNet. From their documentation:\n",
    "\n",
    "> ConceptNet is a freely-available semantic network, designed to help computers \n",
    "> understand the meanings of words that people use.\n",
    "\n",
    "We've improved on the study's code by allowing these vectors to be automatically downloaded and by caching word \n",
    "vectors to significantly reduce loading time."
   ]
  },
  {
   "cell_type": "code",
   "execution_count": 11,
   "id": "b90756549c23528c",
   "metadata": {
    "ExecuteTime": {
     "end_time": "2024-04-12T02:07:30.741909Z",
     "start_time": "2024-04-12T02:07:29.085310Z"
    },
    "collapsed": false,
    "jupyter": {
     "outputs_hidden": false
    }
   },
   "outputs": [
    {
     "name": "stdout",
     "output_type": "stream",
     "text": [
      "Using cached vectors.\n"
     ]
    },
    {
     "data": {
      "text/plain": [
       "<gensim.models.keyedvectors.KeyedVectors at 0x1fc5fe07fd0>"
      ]
     },
     "execution_count": 11,
     "metadata": {},
     "output_type": "execute_result"
    }
   ],
   "source": [
    "if (w2v_file['cache'] != \"\") & (os.path.isfile ( w2v_file['cache']) ):\n",
    "    print ( \"Using cached vectors.\" )\n",
    "    w2v_model = KeyedVectors.load(w2v_file['cache'])\n",
    "else:\n",
    "    if not os.path.isfile ( w2v_file['file'] ):\n",
    "        print ( f\"Could not find {w2v_file['file']}.. attempting download from {w2v_file['source']}.\" )\n",
    "        r = requests.get(w2v_file['source'], allow_redirects=True)\n",
    "        open ( w2v_file['file'], 'wb').write ( r.content )\n",
    "    \n",
    "    print ( \"Loading vectors... this will take a few minutes..\" )\n",
    "    w2v_model = KeyedVectors.load_word2vec_format(w2v_file['file'], binary=w2v_file['is_binary'], limit=w2v_file['limit'])\n",
    "    if w2v_file['cache'] != \"\":\n",
    "        w2v_model.save( w2v_file['cache'] )\n",
    "\n",
    "w2v_model\n"
   ]
  },
  {
   "cell_type": "code",
   "execution_count": 12,
   "id": "aad0986ce9f048b",
   "metadata": {
    "ExecuteTime": {
     "end_time": "2024-04-12T02:08:37.103822Z",
     "start_time": "2024-04-12T02:07:30.743924Z"
    },
    "collapsed": false,
    "jupyter": {
     "outputs_hidden": false
    }
   },
   "outputs": [
    {
     "name": "stdout",
     "output_type": "stream",
     "text": [
      "(500, 1500, 300) (500,)\n"
     ]
    }
   ],
   "source": [
    "vocab = w2v_model.key_to_index\n",
    "padding = np.zeros(sys_params['emb_dim'], dtype='float32')\n",
    "\n",
    "vectors = []\n",
    "for sentence in posts:\n",
    "    vector = []\n",
    "    for tok in sentence:\n",
    "        if tok==sys_params['str_padd']:\n",
    "            vector.append(list(padding))\n",
    "        \n",
    "        elif tok in vocab:\n",
    "            vector.append(w2v_model[tok].astype(float).tolist())\n",
    "    \n",
    "        else:\n",
    "            vector.append(list(padding))\n",
    "    \n",
    "    vectors.append(vector)   \n",
    "    \n",
    "x_data, y_data = np.array(vectors), np.array ( labels )\n",
    "print ( x_data.shape, y_data.shape )\n"
   ]
  },
  {
   "cell_type": "code",
   "execution_count": 13,
   "id": "fcf0d024-605a-416e-a75f-7735bbb9c8a8",
   "metadata": {},
   "outputs": [
    {
     "data": {
      "text/html": [
       "<div>\n",
       "<style scoped>\n",
       "    .dataframe tbody tr th:only-of-type {\n",
       "        vertical-align: middle;\n",
       "    }\n",
       "\n",
       "    .dataframe tbody tr th {\n",
       "        vertical-align: top;\n",
       "    }\n",
       "\n",
       "    .dataframe thead th {\n",
       "        text-align: right;\n",
       "    }\n",
       "</style>\n",
       "<table border=\"1\" class=\"dataframe\">\n",
       "  <thead>\n",
       "    <tr style=\"text-align: right;\">\n",
       "      <th></th>\n",
       "      <th>0</th>\n",
       "      <th>1</th>\n",
       "      <th>2</th>\n",
       "      <th>3</th>\n",
       "      <th>4</th>\n",
       "      <th>5</th>\n",
       "      <th>6</th>\n",
       "      <th>7</th>\n",
       "      <th>8</th>\n",
       "      <th>9</th>\n",
       "      <th>...</th>\n",
       "      <th>290</th>\n",
       "      <th>291</th>\n",
       "      <th>292</th>\n",
       "      <th>293</th>\n",
       "      <th>294</th>\n",
       "      <th>295</th>\n",
       "      <th>296</th>\n",
       "      <th>297</th>\n",
       "      <th>298</th>\n",
       "      <th>299</th>\n",
       "    </tr>\n",
       "  </thead>\n",
       "  <tbody>\n",
       "    <tr>\n",
       "      <th>0</th>\n",
       "      <td>0.0000</td>\n",
       "      <td>0.0000</td>\n",
       "      <td>0.0000</td>\n",
       "      <td>0.0000</td>\n",
       "      <td>0.0000</td>\n",
       "      <td>0.0000</td>\n",
       "      <td>0.0000</td>\n",
       "      <td>0.0000</td>\n",
       "      <td>0.0000</td>\n",
       "      <td>0.0000</td>\n",
       "      <td>...</td>\n",
       "      <td>0.0000</td>\n",
       "      <td>0.0000</td>\n",
       "      <td>0.0000</td>\n",
       "      <td>0.0000</td>\n",
       "      <td>0.0000</td>\n",
       "      <td>0.0000</td>\n",
       "      <td>0.0000</td>\n",
       "      <td>0.0000</td>\n",
       "      <td>0.0000</td>\n",
       "      <td>0.0000</td>\n",
       "    </tr>\n",
       "    <tr>\n",
       "      <th>1</th>\n",
       "      <td>-0.1559</td>\n",
       "      <td>-0.1438</td>\n",
       "      <td>0.0174</td>\n",
       "      <td>0.1120</td>\n",
       "      <td>0.1125</td>\n",
       "      <td>0.0488</td>\n",
       "      <td>-0.0157</td>\n",
       "      <td>-0.0626</td>\n",
       "      <td>0.1621</td>\n",
       "      <td>-0.0875</td>\n",
       "      <td>...</td>\n",
       "      <td>-0.0862</td>\n",
       "      <td>-0.0442</td>\n",
       "      <td>0.0109</td>\n",
       "      <td>0.0736</td>\n",
       "      <td>0.1035</td>\n",
       "      <td>-0.0235</td>\n",
       "      <td>0.0384</td>\n",
       "      <td>0.0622</td>\n",
       "      <td>0.0863</td>\n",
       "      <td>-0.0260</td>\n",
       "    </tr>\n",
       "    <tr>\n",
       "      <th>2</th>\n",
       "      <td>-0.1469</td>\n",
       "      <td>-0.1291</td>\n",
       "      <td>-0.0443</td>\n",
       "      <td>0.0699</td>\n",
       "      <td>0.1012</td>\n",
       "      <td>0.0398</td>\n",
       "      <td>0.0591</td>\n",
       "      <td>-0.0587</td>\n",
       "      <td>0.1916</td>\n",
       "      <td>-0.0610</td>\n",
       "      <td>...</td>\n",
       "      <td>0.0117</td>\n",
       "      <td>0.0198</td>\n",
       "      <td>-0.0243</td>\n",
       "      <td>0.1536</td>\n",
       "      <td>0.0256</td>\n",
       "      <td>0.0902</td>\n",
       "      <td>-0.0035</td>\n",
       "      <td>0.0356</td>\n",
       "      <td>0.0062</td>\n",
       "      <td>0.0044</td>\n",
       "    </tr>\n",
       "    <tr>\n",
       "      <th>3</th>\n",
       "      <td>-0.1082</td>\n",
       "      <td>-0.1285</td>\n",
       "      <td>-0.1097</td>\n",
       "      <td>0.0206</td>\n",
       "      <td>-0.0065</td>\n",
       "      <td>0.1398</td>\n",
       "      <td>0.0139</td>\n",
       "      <td>0.0170</td>\n",
       "      <td>-0.0009</td>\n",
       "      <td>-0.1074</td>\n",
       "      <td>...</td>\n",
       "      <td>0.0085</td>\n",
       "      <td>-0.0005</td>\n",
       "      <td>-0.0606</td>\n",
       "      <td>-0.0217</td>\n",
       "      <td>0.0176</td>\n",
       "      <td>0.0006</td>\n",
       "      <td>-0.0334</td>\n",
       "      <td>-0.0508</td>\n",
       "      <td>0.0006</td>\n",
       "      <td>-0.0373</td>\n",
       "    </tr>\n",
       "    <tr>\n",
       "      <th>4</th>\n",
       "      <td>0.0000</td>\n",
       "      <td>0.0000</td>\n",
       "      <td>0.0000</td>\n",
       "      <td>0.0000</td>\n",
       "      <td>0.0000</td>\n",
       "      <td>0.0000</td>\n",
       "      <td>0.0000</td>\n",
       "      <td>0.0000</td>\n",
       "      <td>0.0000</td>\n",
       "      <td>0.0000</td>\n",
       "      <td>...</td>\n",
       "      <td>0.0000</td>\n",
       "      <td>0.0000</td>\n",
       "      <td>0.0000</td>\n",
       "      <td>0.0000</td>\n",
       "      <td>0.0000</td>\n",
       "      <td>0.0000</td>\n",
       "      <td>0.0000</td>\n",
       "      <td>0.0000</td>\n",
       "      <td>0.0000</td>\n",
       "      <td>0.0000</td>\n",
       "    </tr>\n",
       "    <tr>\n",
       "      <th>...</th>\n",
       "      <td>...</td>\n",
       "      <td>...</td>\n",
       "      <td>...</td>\n",
       "      <td>...</td>\n",
       "      <td>...</td>\n",
       "      <td>...</td>\n",
       "      <td>...</td>\n",
       "      <td>...</td>\n",
       "      <td>...</td>\n",
       "      <td>...</td>\n",
       "      <td>...</td>\n",
       "      <td>...</td>\n",
       "      <td>...</td>\n",
       "      <td>...</td>\n",
       "      <td>...</td>\n",
       "      <td>...</td>\n",
       "      <td>...</td>\n",
       "      <td>...</td>\n",
       "      <td>...</td>\n",
       "      <td>...</td>\n",
       "      <td>...</td>\n",
       "    </tr>\n",
       "    <tr>\n",
       "      <th>1495</th>\n",
       "      <td>0.0000</td>\n",
       "      <td>0.0000</td>\n",
       "      <td>0.0000</td>\n",
       "      <td>0.0000</td>\n",
       "      <td>0.0000</td>\n",
       "      <td>0.0000</td>\n",
       "      <td>0.0000</td>\n",
       "      <td>0.0000</td>\n",
       "      <td>0.0000</td>\n",
       "      <td>0.0000</td>\n",
       "      <td>...</td>\n",
       "      <td>0.0000</td>\n",
       "      <td>0.0000</td>\n",
       "      <td>0.0000</td>\n",
       "      <td>0.0000</td>\n",
       "      <td>0.0000</td>\n",
       "      <td>0.0000</td>\n",
       "      <td>0.0000</td>\n",
       "      <td>0.0000</td>\n",
       "      <td>0.0000</td>\n",
       "      <td>0.0000</td>\n",
       "    </tr>\n",
       "    <tr>\n",
       "      <th>1496</th>\n",
       "      <td>0.0000</td>\n",
       "      <td>0.0000</td>\n",
       "      <td>0.0000</td>\n",
       "      <td>0.0000</td>\n",
       "      <td>0.0000</td>\n",
       "      <td>0.0000</td>\n",
       "      <td>0.0000</td>\n",
       "      <td>0.0000</td>\n",
       "      <td>0.0000</td>\n",
       "      <td>0.0000</td>\n",
       "      <td>...</td>\n",
       "      <td>0.0000</td>\n",
       "      <td>0.0000</td>\n",
       "      <td>0.0000</td>\n",
       "      <td>0.0000</td>\n",
       "      <td>0.0000</td>\n",
       "      <td>0.0000</td>\n",
       "      <td>0.0000</td>\n",
       "      <td>0.0000</td>\n",
       "      <td>0.0000</td>\n",
       "      <td>0.0000</td>\n",
       "    </tr>\n",
       "    <tr>\n",
       "      <th>1497</th>\n",
       "      <td>0.0000</td>\n",
       "      <td>0.0000</td>\n",
       "      <td>0.0000</td>\n",
       "      <td>0.0000</td>\n",
       "      <td>0.0000</td>\n",
       "      <td>0.0000</td>\n",
       "      <td>0.0000</td>\n",
       "      <td>0.0000</td>\n",
       "      <td>0.0000</td>\n",
       "      <td>0.0000</td>\n",
       "      <td>...</td>\n",
       "      <td>0.0000</td>\n",
       "      <td>0.0000</td>\n",
       "      <td>0.0000</td>\n",
       "      <td>0.0000</td>\n",
       "      <td>0.0000</td>\n",
       "      <td>0.0000</td>\n",
       "      <td>0.0000</td>\n",
       "      <td>0.0000</td>\n",
       "      <td>0.0000</td>\n",
       "      <td>0.0000</td>\n",
       "    </tr>\n",
       "    <tr>\n",
       "      <th>1498</th>\n",
       "      <td>0.0000</td>\n",
       "      <td>0.0000</td>\n",
       "      <td>0.0000</td>\n",
       "      <td>0.0000</td>\n",
       "      <td>0.0000</td>\n",
       "      <td>0.0000</td>\n",
       "      <td>0.0000</td>\n",
       "      <td>0.0000</td>\n",
       "      <td>0.0000</td>\n",
       "      <td>0.0000</td>\n",
       "      <td>...</td>\n",
       "      <td>0.0000</td>\n",
       "      <td>0.0000</td>\n",
       "      <td>0.0000</td>\n",
       "      <td>0.0000</td>\n",
       "      <td>0.0000</td>\n",
       "      <td>0.0000</td>\n",
       "      <td>0.0000</td>\n",
       "      <td>0.0000</td>\n",
       "      <td>0.0000</td>\n",
       "      <td>0.0000</td>\n",
       "    </tr>\n",
       "    <tr>\n",
       "      <th>1499</th>\n",
       "      <td>0.0000</td>\n",
       "      <td>0.0000</td>\n",
       "      <td>0.0000</td>\n",
       "      <td>0.0000</td>\n",
       "      <td>0.0000</td>\n",
       "      <td>0.0000</td>\n",
       "      <td>0.0000</td>\n",
       "      <td>0.0000</td>\n",
       "      <td>0.0000</td>\n",
       "      <td>0.0000</td>\n",
       "      <td>...</td>\n",
       "      <td>0.0000</td>\n",
       "      <td>0.0000</td>\n",
       "      <td>0.0000</td>\n",
       "      <td>0.0000</td>\n",
       "      <td>0.0000</td>\n",
       "      <td>0.0000</td>\n",
       "      <td>0.0000</td>\n",
       "      <td>0.0000</td>\n",
       "      <td>0.0000</td>\n",
       "      <td>0.0000</td>\n",
       "    </tr>\n",
       "  </tbody>\n",
       "</table>\n",
       "<p>1500 rows × 300 columns</p>\n",
       "</div>"
      ],
      "text/plain": [
       "         0       1       2       3       4       5       6       7       8    \\\n",
       "0     0.0000  0.0000  0.0000  0.0000  0.0000  0.0000  0.0000  0.0000  0.0000   \n",
       "1    -0.1559 -0.1438  0.0174  0.1120  0.1125  0.0488 -0.0157 -0.0626  0.1621   \n",
       "2    -0.1469 -0.1291 -0.0443  0.0699  0.1012  0.0398  0.0591 -0.0587  0.1916   \n",
       "3    -0.1082 -0.1285 -0.1097  0.0206 -0.0065  0.1398  0.0139  0.0170 -0.0009   \n",
       "4     0.0000  0.0000  0.0000  0.0000  0.0000  0.0000  0.0000  0.0000  0.0000   \n",
       "...      ...     ...     ...     ...     ...     ...     ...     ...     ...   \n",
       "1495  0.0000  0.0000  0.0000  0.0000  0.0000  0.0000  0.0000  0.0000  0.0000   \n",
       "1496  0.0000  0.0000  0.0000  0.0000  0.0000  0.0000  0.0000  0.0000  0.0000   \n",
       "1497  0.0000  0.0000  0.0000  0.0000  0.0000  0.0000  0.0000  0.0000  0.0000   \n",
       "1498  0.0000  0.0000  0.0000  0.0000  0.0000  0.0000  0.0000  0.0000  0.0000   \n",
       "1499  0.0000  0.0000  0.0000  0.0000  0.0000  0.0000  0.0000  0.0000  0.0000   \n",
       "\n",
       "         9    ...     290     291     292     293     294     295     296  \\\n",
       "0     0.0000  ...  0.0000  0.0000  0.0000  0.0000  0.0000  0.0000  0.0000   \n",
       "1    -0.0875  ... -0.0862 -0.0442  0.0109  0.0736  0.1035 -0.0235  0.0384   \n",
       "2    -0.0610  ...  0.0117  0.0198 -0.0243  0.1536  0.0256  0.0902 -0.0035   \n",
       "3    -0.1074  ...  0.0085 -0.0005 -0.0606 -0.0217  0.0176  0.0006 -0.0334   \n",
       "4     0.0000  ...  0.0000  0.0000  0.0000  0.0000  0.0000  0.0000  0.0000   \n",
       "...      ...  ...     ...     ...     ...     ...     ...     ...     ...   \n",
       "1495  0.0000  ...  0.0000  0.0000  0.0000  0.0000  0.0000  0.0000  0.0000   \n",
       "1496  0.0000  ...  0.0000  0.0000  0.0000  0.0000  0.0000  0.0000  0.0000   \n",
       "1497  0.0000  ...  0.0000  0.0000  0.0000  0.0000  0.0000  0.0000  0.0000   \n",
       "1498  0.0000  ...  0.0000  0.0000  0.0000  0.0000  0.0000  0.0000  0.0000   \n",
       "1499  0.0000  ...  0.0000  0.0000  0.0000  0.0000  0.0000  0.0000  0.0000   \n",
       "\n",
       "         297     298     299  \n",
       "0     0.0000  0.0000  0.0000  \n",
       "1     0.0622  0.0863 -0.0260  \n",
       "2     0.0356  0.0062  0.0044  \n",
       "3    -0.0508  0.0006 -0.0373  \n",
       "4     0.0000  0.0000  0.0000  \n",
       "...      ...     ...     ...  \n",
       "1495  0.0000  0.0000  0.0000  \n",
       "1496  0.0000  0.0000  0.0000  \n",
       "1497  0.0000  0.0000  0.0000  \n",
       "1498  0.0000  0.0000  0.0000  \n",
       "1499  0.0000  0.0000  0.0000  \n",
       "\n",
       "[1500 rows x 300 columns]"
      ]
     },
     "execution_count": 13,
     "metadata": {},
     "output_type": "execute_result"
    }
   ],
   "source": [
    "pd.DataFrame ( vector )"
   ]
  },
  {
   "cell_type": "markdown",
   "id": "a2e695c47d8855be",
   "metadata": {
    "collapsed": false,
    "jupyter": {
     "outputs_hidden": false
    }
   },
   "source": [
    "## Save the Dataset"
   ]
  },
  {
   "cell_type": "code",
   "execution_count": 8,
   "id": "f32eff9e11d2b0f2",
   "metadata": {
    "ExecuteTime": {
     "end_time": "2024-04-12T02:09:50.236208Z",
     "start_time": "2024-04-12T02:08:37.105836Z"
    },
    "collapsed": false,
    "jupyter": {
     "outputs_hidden": false
    }
   },
   "outputs": [],
   "source": [
    "x_data_all = x_data.reshape(x_data.shape[0], x_data.shape[1], x_data.shape[2], 1)\n",
    "y_data_all = labels\n",
    "\n",
    "np.savez_compressed ( f'./data/fulldataset.npz', x=x_data_all, y=y_data_all )"
   ]
  },
  {
   "cell_type": "markdown",
   "id": "3ed97736eb8dd5db",
   "metadata": {
    "collapsed": false,
    "jupyter": {
     "outputs_hidden": false
    }
   },
   "source": [
    "## Load the Dataset"
   ]
  },
  {
   "cell_type": "code",
   "execution_count": 4,
   "id": "ac038a76bffc9759",
   "metadata": {
    "ExecuteTime": {
     "end_time": "2024-04-12T18:24:49.255071Z",
     "start_time": "2024-04-12T18:24:42.648254Z"
    },
    "collapsed": false,
    "jupyter": {
     "outputs_hidden": false
    }
   },
   "outputs": [
    {
     "name": "stdout",
     "output_type": "stream",
     "text": [
      "(500, 1500, 300, 1) (500,)\n"
     ]
    }
   ],
   "source": [
    "dataset = np.load ( './data/fulldataset.npz' )\n",
    "x_data_all = dataset['x']\n",
    "y_data_all = dataset['y']\n",
    "y_data_df = pd.DataFrame ( dataset['y'] )\n",
    "print ( x_data_all.shape, y_data_all.shape )"
   ]
  },
  {
   "cell_type": "markdown",
   "id": "71083e38cdb97590",
   "metadata": {
    "collapsed": false,
    "jupyter": {
     "outputs_hidden": false
    }
   },
   "source": [
    "## Show the Model"
   ]
  },
  {
   "cell_type": "code",
   "execution_count": 26,
   "id": "2d4e5bbd43e4c80b",
   "metadata": {
    "ExecuteTime": {
     "end_time": "2024-04-12T18:24:57.908213Z",
     "start_time": "2024-04-12T18:24:56.486327Z"
    },
    "collapsed": false,
    "jupyter": {
     "outputs_hidden": false
    }
   },
   "outputs": [
    {
     "name": "stdout",
     "output_type": "stream",
     "text": [
      "WARNING:tensorflow:From C:\\Program Files\\Python311\\Lib\\site-packages\\keras\\src\\backend.py:1398: The name tf.executing_eagerly_outside_functions is deprecated. Please use tf.compat.v1.executing_eagerly_outside_functions instead.\n",
      "\n",
      "WARNING:tensorflow:From C:\\Program Files\\Python311\\Lib\\site-packages\\keras\\src\\layers\\pooling\\max_pooling2d.py:161: The name tf.nn.max_pool is deprecated. Please use tf.nn.max_pool2d instead.\n",
      "\n"
     ]
    },
    {
     "data": {
      "image/png": "[encoded data removed]",
      "text/plain": [
       "<IPython.core.display.Image object>"
      ]
     },
     "execution_count": 26,
     "metadata": {},
     "output_type": "execute_result"
    }
   ],
   "source": [
    "model = get_keras_cnn_model()\n",
    "from keras.utils import plot_model\n",
    "plot_model(model, to_file='images/5category_cnn_model.png', show_shapes=True, show_layer_names=False)\n"
   ]
  },
  {
   "cell_type": "markdown",
   "id": "80819be329a0b036",
   "metadata": {
    "collapsed": false,
    "jupyter": {
     "outputs_hidden": false
    }
   },
   "source": [
    "## Run the Model (simple)"
   ]
  },
  {
   "cell_type": "code",
   "execution_count": null,
   "id": "750b0c73c95973f2",
   "metadata": {
    "ExecuteTime": {
     "start_time": "2024-04-12T18:27:20.006157Z"
    },
    "collapsed": false,
    "jupyter": {
     "outputs_hidden": false
    }
   },
   "outputs": [],
   "source": [
    "x_train, x_test, y_train, y_test = train_test_split( x_data_all , y_data_df, test_size=0.20)\n",
    "print ( 'train:', x_train.shape, y_train.shape )\n",
    "print ( 'test:', x_test.shape, y_test.shape )\n",
    "\n",
    "epochs = 50 #cnn_params['epoch']\n",
    "cnn_model = get_keras_cnn_model()\n",
    "cnn_model.fit(x=x_train, y=to_categorical(y_train), batch_size=4, epochs=epochs, verbose=1)\n",
    "\n",
    "y_pred = cnn_model.predict(x_test)\n",
    "y_pred = np.argmax(y_pred, axis=-1) ## find the classifier with the highest probability\n",
    "y_true = y_test.values\n",
    "\n",
    "precision, recall, f1 = get_prf1_score(y_true, y_pred)\n",
    "print ('\\nPrecision: {0}\\t Recall: {1}\\t F1-Score: {2}'\\\n",
    "    .format(round(precision,3), round(recall,3), round(f1,3)))\n",
    "\n",
    "get_confusion_matrix ( y_true, y_pred )"
   ]
  },
  {
   "cell_type": "markdown",
   "id": "818d09ab5ea74953",
   "metadata": {
    "collapsed": false,
    "jupyter": {
     "outputs_hidden": false
    }
   },
   "source": [
    "## Run the Model (KFold Cross Validation)"
   ]
  },
  {
   "cell_type": "code",
   "execution_count": 19,
   "id": "397dd2ef261feea9",
   "metadata": {
    "ExecuteTime": {
     "end_time": "2024-04-12T06:31:47.342064Z",
     "start_time": "2024-04-12T05:36:46.997118Z"
    },
    "collapsed": false,
    "jupyter": {
     "outputs_hidden": false
    }
   },
   "outputs": [
    {
     "name": "stdout",
     "output_type": "stream",
     "text": [
      "\n",
      "Running Stratified Cross Validation: 1/5...\n",
      "4/4 [==============================] - 1s 216ms/step\n",
      "\n",
      "Precision: 0.522\t Recall: 0.537\t F1-Score: 0.529\n",
      "\n",
      "Running Stratified Cross Validation: 2/5...\n",
      "4/4 [==============================] - 1s 200ms/step\n",
      "\n",
      "Precision: 0.634\t Recall: 0.608\t F1-Score: 0.621\n",
      "\n",
      "Running Stratified Cross Validation: 3/5...\n",
      "4/4 [==============================] - 1s 201ms/step\n",
      "\n",
      "Precision: 0.695\t Recall: 0.5\t F1-Score: 0.582\n",
      "\n",
      "Running Stratified Cross Validation: 4/5...\n",
      "4/4 [==============================] - 1s 209ms/step\n",
      "\n",
      "Precision: 0.603\t Recall: 0.562\t F1-Score: 0.582\n",
      "\n",
      "Running Stratified Cross Validation: 5/5...\n",
      "4/4 [==============================] - 1s 224ms/step\n",
      "\n",
      "Precision: 0.6\t Recall: 0.527\t F1-Score: 0.561\n"
     ]
    },
    {
     "data": {
      "text/html": [
       "<div>\n",
       "<style scoped>\n",
       "    .dataframe tbody tr th:only-of-type {\n",
       "        vertical-align: middle;\n",
       "    }\n",
       "\n",
       "    .dataframe tbody tr th {\n",
       "        vertical-align: top;\n",
       "    }\n",
       "\n",
       "    .dataframe thead th {\n",
       "        text-align: right;\n",
       "    }\n",
       "</style>\n",
       "<table border=\"1\" class=\"dataframe\">\n",
       "  <thead>\n",
       "    <tr style=\"text-align: right;\">\n",
       "      <th></th>\n",
       "      <th>Precision</th>\n",
       "      <th>Recall</th>\n",
       "      <th>F1</th>\n",
       "    </tr>\n",
       "    <tr>\n",
       "      <th>I</th>\n",
       "      <th></th>\n",
       "      <th></th>\n",
       "      <th></th>\n",
       "    </tr>\n",
       "  </thead>\n",
       "  <tbody>\n",
       "    <tr>\n",
       "      <th>1</th>\n",
       "      <td>0.521739</td>\n",
       "      <td>0.537313</td>\n",
       "      <td>0.529412</td>\n",
       "    </tr>\n",
       "    <tr>\n",
       "      <th>2</th>\n",
       "      <td>0.633803</td>\n",
       "      <td>0.608108</td>\n",
       "      <td>0.620690</td>\n",
       "    </tr>\n",
       "    <tr>\n",
       "      <th>3</th>\n",
       "      <td>0.694915</td>\n",
       "      <td>0.500000</td>\n",
       "      <td>0.581560</td>\n",
       "    </tr>\n",
       "    <tr>\n",
       "      <th>4</th>\n",
       "      <td>0.602941</td>\n",
       "      <td>0.561644</td>\n",
       "      <td>0.581560</td>\n",
       "    </tr>\n",
       "    <tr>\n",
       "      <th>5</th>\n",
       "      <td>0.600000</td>\n",
       "      <td>0.527027</td>\n",
       "      <td>0.561151</td>\n",
       "    </tr>\n",
       "    <tr>\n",
       "      <th>Average</th>\n",
       "      <td>0.610680</td>\n",
       "      <td>0.546818</td>\n",
       "      <td>0.574875</td>\n",
       "    </tr>\n",
       "  </tbody>\n",
       "</table>\n",
       "</div>"
      ],
      "text/plain": [
       "         Precision    Recall        F1\n",
       "I                                     \n",
       "1         0.521739  0.537313  0.529412\n",
       "2         0.633803  0.608108  0.620690\n",
       "3         0.694915  0.500000  0.581560\n",
       "4         0.602941  0.561644  0.581560\n",
       "5         0.600000  0.527027  0.561151\n",
       "Average   0.610680  0.546818  0.574875"
      ]
     },
     "metadata": {},
     "output_type": "display_data"
    }
   ],
   "source": [
    "epochs=50\n",
    "scores = []\n",
    "\n",
    "skf = StratifiedKFold(n_splits=sys_params['cross_val'])\n",
    "skf.get_n_splits(x_data_all, y_data_all)\n",
    "\n",
    "\n",
    "for cv_count, (train_index, test_index) in enumerate(skf.split(x_data_all, y_data_all), start=1):\n",
    "    print ('\\nRunning Stratified Cross Validation: {0}/{1}...'.format(cv_count, sys_params['cross_val']))\n",
    "\n",
    "    x_train, x_test = x_data_all[train_index], x_data_all[test_index]\n",
    "    y_train, y_test = y_data_all[train_index], y_data_all[test_index]\n",
    "\n",
    "    cnn_model = get_keras_cnn_model()\n",
    "    cnn_model.fit(x=x_train, y=to_categorical(y_train), batch_size=4, epochs=epochs, verbose=0)\n",
    "    \n",
    "    y_pred = cnn_model.predict(x_test)\n",
    "    y_pred = np.argmax(y_pred, axis=-1)\n",
    "    y_true = y_test\n",
    "\n",
    "    precision, recall, f1 = get_prf1_score(y_true, y_pred)\n",
    "    print ('\\nPrecision: {0}\\t Recall: {1}\\t F1-Score: {2}'\\\n",
    "        .format(round(precision,3), round(recall,3), round(f1,3)))\n",
    "\n",
    "    scores.append({'I':cv_count, 'Precision':precision, 'Recall':recall, 'F1':f1})\n",
    "\n",
    "sumdf = pd.DataFrame ( scores ).set_index('I')\n",
    "sumdf.loc['Average'] = sumdf.mean()\n",
    "display ( sumdf )\n",
    "\n",
    "# print ('\\nAverage Precision: {0}\\t Recall: {1}\\t F1-Score: {2}'\\\n",
    "#        .format(round(sumdf.P.mean(),3), round(sumdf.R.mean(),3), round(sumdf.F.mean(),3)))\n"
   ]
  },
  {
   "cell_type": "markdown",
   "id": "f2b1fe0896edaca8",
   "metadata": {
    "collapsed": false,
    "jupyter": {
     "outputs_hidden": false
    }
   },
   "source": [
    "## SVM Models"
   ]
  },
  {
   "cell_type": "code",
   "execution_count": 34,
   "id": "890d64b401949945",
   "metadata": {
    "ExecuteTime": {
     "end_time": "2024-04-12T18:23:00.994615Z",
     "start_time": "2024-04-12T18:20:53.287417Z"
    },
    "collapsed": false,
    "jupyter": {
     "outputs_hidden": false
    }
   },
   "outputs": [
    {
     "name": "stdout",
     "output_type": "stream",
     "text": [
      "\n",
      "Precision: 0.469\t Recall: 0.608\t F1-Score: 0.529\n"
     ]
    },
    {
     "data": {
      "image/png": "[encoded data removed]",
      "text/plain": [
       "<Figure size 640x480 with 2 Axes>"
      ]
     },
     "metadata": {},
     "output_type": "display_data"
    }
   ],
   "source": [
    "x_train, x_test, y_train, y_test = train_test_split( x_data_all , y_data_df, test_size=0.20)\n",
    "\n",
    "# SVM-Radial Basis Function (RBF): for comparison\n",
    "n_users, x, y, z = x_train.shape\n",
    "x_train_svm = x_train.reshape((n_users, x*y*z))\n",
    "n_users, x, y, z = x_test.shape\n",
    "x_test_svm = x_test.reshape((n_users, x*y*z))\n",
    "\n",
    "rbf_model = SVC(kernel='rbf', gamma=0.1, decision_function_shape='ovr')\n",
    "rbf_model.fit(x_train_svm, y_train.values.ravel())\n",
    "\n",
    "y_pred = rbf_model.predict(x_test_svm)\n",
    "y_true = y_test.values\n",
    "\n",
    "\n",
    "precision, recall, f1 = get_prf1_score(y_true, y_pred)\n",
    "print ('\\nPrecision: {0}\\t Recall: {1}\\t F1-Score: {2}'\\\n",
    "    .format(*[round(x,3) for x in [precision, recall, f1]] ))\n",
    "\n",
    "get_confusion_matrix ( y_true, y_pred )"
   ]
  },
  {
   "cell_type": "code",
   "execution_count": 65,
   "id": "c93fb82468ca961",
   "metadata": {
    "collapsed": false,
    "jupyter": {
     "outputs_hidden": false
    }
   },
   "outputs": [
    {
     "name": "stdout",
     "output_type": "stream",
     "text": [
      "\n",
      "Precision: 0.451\t Recall: 0.463\t F1-Score: 0.457\n"
     ]
    },
    {
     "data": {
      "image/png": "[encoded data removed]",
      "text/plain": [
       "<Figure size 600x500 with 1 Axes>"
      ]
     },
     "metadata": {},
     "output_type": "display_data"
    }
   ],
   "source": [
    "x_train, x_test, y_train, y_test = train_test_split( x_data_all , y_data_df, test_size=0.20)\n",
    "\n",
    "# Linear SVM-L: for comparison\n",
    "l_model = LinearSVC( dual='auto' )\n",
    "l_model.fit(x_train_svm, y_train.values.ravel())\n",
    "\n",
    "y_pred = l_model.predict(x_test_svm)\n",
    "y_true = y_test.values\n",
    "\n",
    "precision, recall, f1 = get_prf1_score(y_true, y_pred)\n",
    "print ('\\nPrecision: {0}\\t Recall: {1}\\t F1-Score: {2}'\\\n",
    "    .format(*[round(x,3) for x in [precision, recall, f1]] ))\n",
    "\n",
    "get_confusion_matrix ( y_true, y_pred );"
   ]
  },
  {
   "cell_type": "markdown",
   "id": "1cc7593afd6cae05",
   "metadata": {
    "collapsed": false,
    "jupyter": {
     "outputs_hidden": false
    }
   },
   "source": [
    "## Improved Model"
   ]
  },
  {
   "cell_type": "code",
   "execution_count": null,
   "id": "e77678f234323acd",
   "metadata": {
    "collapsed": false,
    "jupyter": {
     "outputs_hidden": false
    }
   },
   "outputs": [],
   "source": [
    "x_train, x_test, y_train, y_test = train_test_split( x_data_all , y_data_df, test_size=0.20)\n",
    "print ( 'train:', x_train.shape, y_train.shape )\n",
    "print ( 'test:', x_test.shape, y_test.shape )"
   ]
  },
  {
   "cell_type": "code",
   "execution_count": null,
   "id": "19d7e61152ce4fff",
   "metadata": {
    "collapsed": false,
    "jupyter": {
     "outputs_hidden": false
    }
   },
   "outputs": [],
   "source": [
    "epochs = 5\n",
    "input_shape = (1500,300,1)\n",
    "input = Input(shape=input_shape, dtype='float32')\n",
    "conv_layers = []\n",
    "for filter in [3,4,5]:\n",
    "    conv2d = Conv2D(filters=100, kernel_size=(filter, 300), strides=(1, 300),\n",
    "                    padding='same', data_format='channels_last', input_shape=input_shape,\n",
    "                    activation='relu')(input)\n",
    "    conv_layers.append ( MaxPool2D(pool_size=(1500, 1))(conv2d) )\n",
    "\n",
    "l_concat = Concatenate(axis=1)(conv_layers)\n",
    "l_flat = Flatten()(l_concat)\n",
    "l_drop = Dropout(rate=0.3, name='flat_drop')(l_flat)\n",
    "output = Dense(units=5, activation='softmax', name='cnn_op')(l_drop)\n",
    "\n",
    "m = Model(input, output)\n",
    "m.compile(optimizer=Adam(learning_rate=0.001), loss='categorical_crossentropy', metrics=['accuracy'])\n",
    "m.fit(x=x_train, y=to_categorical(y_train), batch_size=4, epochs=epochs, verbose=1)\n",
    "\n",
    "y_pred = m.predict(x_test)\n",
    "y_pred = np.argmax(y_pred, axis=-1) ## find the predicted classifier with the highest probability\n",
    "y_true = y_test.values ## convert back to numpy\n",
    "\n",
    "precision, recall, f1 = get_prf1_score(y_true, y_pred)\n",
    "print ('\\nPrecision: {0}\\t Recall: {1}\\t F1-Score: {2}'\\\n",
    "    .format(round(precision,3), round(recall,3), round(f1,3)))\n",
    "\n",
    "get_confusion_matrix ( y_true, y_pred )"
   ]
  },
  {
   "cell_type": "code",
   "execution_count": 53,
   "id": "8a1e274e8ed4c537",
   "metadata": {
    "collapsed": false,
    "jupyter": {
     "outputs_hidden": false
    }
   },
   "outputs": [
    {
     "data": {
      "text/plain": [
       "<Axes: >"
      ]
     },
     "execution_count": 53,
     "metadata": {},
     "output_type": "execute_result"
    },
    {
     "data": {
      "image/png": "[encoded data removed]",
      "text/plain": [
       "<Figure size 640x480 with 1 Axes>"
      ]
     },
     "metadata": {},
     "output_type": "display_data"
    }
   ],
   "source": [
    "get_confusion_matrix ( y_true, y_pred )"
   ]
  },
  {
   "cell_type": "code",
   "execution_count": null,
   "id": "eca3d037-8663-4b9b-a20b-dd1d061c1b42",
   "metadata": {},
   "outputs": [],
   "source": []
  }
 ],
 "metadata": {
  "kernelspec": {
   "display_name": "Python 3 (ipykernel)",
   "language": "python",
   "name": "python3"
  },
  "language_info": {
   "codemirror_mode": {
    "name": "ipython",
    "version": 3
   },
   "file_extension": ".py",
   "mimetype": "text/x-python",
   "name": "python",
   "nbconvert_exporter": "python",
   "pygments_lexer": "ipython3",
   "version": "3.11.4"
  }
 },
 "nbformat": 4,
 "nbformat_minor": 5
}
